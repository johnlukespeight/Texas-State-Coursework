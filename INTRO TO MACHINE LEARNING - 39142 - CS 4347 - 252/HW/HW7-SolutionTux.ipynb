{
 "cells": [
  {
   "cell_type": "markdown",
   "metadata": {},
   "source": [
    "# HW 7\n",
    "\n",
    "This assignment covers several aspects of Regularizations & Tree type Classifier. \n",
    "**DO NOT ERASE MARKDOWN CELLS AND INSTRUCTIONS IN YOUR HW submission**\n",
    "\n",
    "  * **Q** - QUESTION\n",
    "  * **A** - Where to input your answer\n",
    "\n",
    "## Instructions\n",
    "\n",
    "Keep the following in mind for all notebooks you develop:\n",
    "* Structure your notebook. \n",
    "* Use headings with meaningful levels in Markdown cells, and explain the questions each piece of code is to answer or the reason it is there.\n",
    "* Make sure your notebook can always be rerun from top to bottom.\n",
    "* Please start working on this assignment as soon as possible. If you are a beginner in Python this might take a long time. One of the objectives of this assignment is to help you learn python and scikit-learn package. \n",
    "* See [README.md](README.md) for homework submission instructions\n",
    "\n",
    "## Related Tutorials\n",
    "    \n",
    "* [Lasso Regression - L1 Regularization](https://scikit-learn.org/stable/modules/generated/sklearn.linear_model.LassoCV.html)\n",
    "\n",
    "* [Ridge Regression - L2 Regularization](https://scikit-learn.org/stable/modules/generated/sklearn.discriminant_analysis.LinearDiscriminantAnalysis.html)\n",
    "\n",
    "* [Random Forest](https://scikit-learn.org/stable/modules/generated/sklearn.ensemble.RandomForestClassifier.html#sklearn.ensemble.RandomForestClassifier)\n",
    "\n",
    "* [Metrics : Precision-Recall curve](https://scikit-learn.org/stable/auto_examples/model_selection/plot_precision_recall.html)"
   ]
  },
  {
   "cell_type": "markdown",
   "metadata": {},
   "source": [
    "# Data Processing"
   ]
  },
  {
   "cell_type": "markdown",
   "metadata": {},
   "source": [
    "**Data** \n",
    "* Get the exploratory data and the folowing files from [link](https://archive.ics.uci.edu/ml/datasets/Breast+Cancer+Wisconsin+%28Diagnostic%29)\n",
    "* Save metadata and the original data from download [Link](https://archive.ics.uci.edu/ml/datasets/Breast+Cancer+Wisconsin+%28Diagnostic%29) to your local HW folder. \n",
    "* If you are using command line, the commands are:  \n",
    "```\n",
    ">> wget https://archive.ics.uci.edu/ml/machine-learning-databases/breast-cancer-wisconsin/breast-cancer-wisconsin.data\n",
    ">> wget https://archive.ics.uci.edu/ml/machine-learning-databases/breast-cancer-wisconsin/breast-cancer-wisconsin.names\n",
    "``` \n",
    "* wget instructions: \n",
    "  * dowload it from [link](https://eternallybored.org/misc/wget/) \n",
    "  * follow [steps](https://stackoverflow.com/questions/29113456/wget-not-recognized-as-internal-or-external-command)"
   ]
  },
  {
   "cell_type": "markdown",
   "metadata": {},
   "source": [
    "**Q1** Get training data from the dataframe\n",
    "1. Load breast-cancer-wisconsin.data into data frame\n",
    "2. Note: the data file does not contains column names, so include appropriate column names by exploring the metadata file\n",
    "3. Replace Non-Numeric values with 0\n",
    "4. Replace Class label ```2 with 0``` and ```4 with 1```\n",
    "4. Assign values of ```Class``` column to ```y```, note you have to use ```.values``` method\n",
    "5. Drop ```Class``` column from data frame,\n",
    "6. Assign df values to x\n",
    "7. Split dataset into train and test data use train_test_split with test_size = 0.2, stratify y and random_state = 1238\n",
    "\n",
    "**A1** Replace ??? with code in the code cell below"
   ]
  },
  {
   "cell_type": "code",
   "execution_count": 1,
   "metadata": {},
   "outputs": [],
   "source": [
    "import numpy as np\n",
    "import pandas as pd\n",
    "from sklearn.model_selection import train_test_split\n",
    "from sklearn.linear_model import LogisticRegression\n",
    "\n",
    "#Read the breast-cancer-wisconsin.data file using the prropriate separator as input to read_csv()\n",
    "columns=['Sample code number', 'Clump Thickness', 'Uniformity of Cell Size', 'Uniformity of Cell Shape','Marginal Adhesion','Single Epithelial Cell Size','Bare Nuclei',\n",
    "'Bland Chromatin','Normal Nucleoli','Mitoses','Class']\n",
    "df = pd.read_csv('breast-cancer-wisconsin.data', names=columns)\n",
    "df.head(10)\n",
    "# Replace Non numeric values with 0 \n",
    "df.replace('?', 0, inplace=True)\n",
    "\n",
    "#Replace the Class label values following above given instructions\n",
    "df['Class'].replace(2,0,inplace=True)\n",
    "df['Class'].replace(4,1,inplace=True)"
   ]
  },
  {
   "cell_type": "code",
   "execution_count": 2,
   "metadata": {},
   "outputs": [
    {
     "name": "stdout",
     "output_type": "stream",
     "text": [
      "(699, 10)\n",
      "(699,)\n"
     ]
    }
   ],
   "source": [
    "# Assign values of ```Class``` column to y, note you have to use .values method\n",
    "y = df.Class.values\n",
    "# Drop 'donation_stat' column from data frame,\n",
    "df.drop(columns=['Class'], inplace=True)\n",
    "# Assign df values to x\n",
    "x = df.values\n",
    "# View shape of x and y\n",
    "print(x.shape)\n",
    "print(y.shape)\n",
    "\n",
    "xtrain, xtest, ytrain, ytest =  train_test_split(x,y, test_size = 0.2, random_state=1, stratify=y)"
   ]
  },
  {
   "cell_type": "markdown",
   "metadata": {
    "id": "NsUM8-i_KhK1"
   },
   "source": [
    "# Model Regularization"
   ]
  },
  {
   "cell_type": "markdown",
   "metadata": {},
   "source": [
    "## Ridge Regularization/ Ridge Regression"
   ]
  },
  {
   "cell_type": "markdown",
   "metadata": {},
   "source": [
    "**Q2** Train Ridge Regularization Model\n",
    "1. Create a Ridge Regularization Model using sklearn library, ```(See the documenttaion for details)```\n",
    "2. Fit the model with the train data\n",
    "3. Predict the values with the test data\n",
    "4. Print the coefficients of the model\n",
    "5. Calculate the test MSE \n",
    "6. Get the score from the model using test data\n",
    "7. Plot Precision-Recall Curve from the true & predicted test data\n",
    "\n",
    "**Note**\n",
    "* Here we generate an array of cost values ranging from very big to very small \n",
    "  * cost here is variable alpha: alpha is equivalent to lambda in the lesson 13. \n",
    " ![RidgeRegression](../figures/RidgeRegression.jpg) \n",
    "* Associated with each alpha value is a vector of ridge regression coefficients that we store in a matrix, with 100 rows (one for each value of alpha) and 10 columns (one for each predictor).  \n",
    "\n",
    "**A2** Replace ??? with code in the code cell below"
   ]
  },
  {
   "cell_type": "code",
   "execution_count": 3,
   "metadata": {},
   "outputs": [
    {
     "name": "stdout",
     "output_type": "stream",
     "text": [
      "Sample code number            -5.300095e-09\n",
      "Clump Thickness                3.114880e-02\n",
      "Uniformity of Cell Size        2.496008e-02\n",
      "Uniformity of Cell Shape       1.495604e-02\n",
      "Marginal Adhesion              1.193529e-02\n",
      "Single Epithelial Cell Size    7.472790e-03\n",
      "Bare Nuclei                    4.364115e-02\n",
      "Bland Chromatin                2.098688e-02\n",
      "Normal Nucleoli                1.406423e-02\n",
      "Mitoses                        5.404237e-04\n",
      "dtype: float64\n",
      "Test mean squared error (MSE): 0.04\n",
      "0.8022250503711507\n"
     ]
    }
   ],
   "source": [
    "from sklearn.preprocessing import scale \n",
    "from sklearn.model_selection import train_test_split\n",
    "from sklearn.linear_model import Ridge, Lasso, RidgeCV, LassoCV\n",
    "from sklearn.metrics import mean_squared_error\n",
    "\n",
    "alphas = 10**np.linspace(10,-2,100)*0.5\n",
    "ridge = Ridge(normalize = True)\n",
    "coefs = []\n",
    "\n",
    "for a in alphas:\n",
    "    ridge.set_params(alpha = a)\n",
    "    ridge.fit(xtrain, ytrain)\n",
    "    coefs.append(ridge.coef_)\n",
    "    \n",
    "np.shape(coefs) \n",
    "\n",
    "pred1 = ridge.predict(xtest)           # Use this model to predict the test data\n",
    "print(pd.Series(ridge.coef_, index = df.columns[0:11])) # Print coefficients\n",
    "mse = mean_squared_error(ytest, pred1)          # Calculate the test MSE\n",
    "print(\"Test mean squared error (MSE): {:.2f}\".format(mse))\n",
    "\n",
    "print(ridge.score(xtest,ytest))"
   ]
  },
  {
   "cell_type": "markdown",
   "metadata": {},
   "source": [
    "### Precision-Recall Curve for Ridge1"
   ]
  },
  {
   "cell_type": "code",
   "execution_count": 4,
   "metadata": {},
   "outputs": [
    {
     "data": {
      "text/plain": [
       "<matplotlib.legend.Legend at 0x2b7444a7640>"
      ]
     },
     "execution_count": 4,
     "metadata": {},
     "output_type": "execute_result"
    },
    {
     "data": {
      "image/png": "[encoded data removed]",
      "text/plain": [
       "<Figure size 432x288 with 1 Axes>"
      ]
     },
     "metadata": {
      "needs_background": "light"
     },
     "output_type": "display_data"
    }
   ],
   "source": [
    "from sklearn.metrics import precision_recall_curve\n",
    "from sklearn.metrics import plot_confusion_matrix\n",
    "from sklearn.metrics import confusion_matrix\n",
    "from mlxtend.plotting import plot_confusion_matrix\n",
    "import matplotlib.pyplot as plt\n",
    "\n",
    "#pass necessary parameters to precision_recall_curve method  \n",
    "precision, recall, thresholds = precision_recall_curve(ytest,pred1)\n",
    "\n",
    "# find threshold closest to zero\n",
    "close_zero = np.argmin(np.abs(thresholds))\n",
    "plt.plot(precision[close_zero], recall[close_zero], 'o', markersize=10,\n",
    "         label=\"threshold zero\", fillstyle=\"none\", c='k', mew=2)\n",
    "\n",
    "plt.plot(precision, recall, label=\"precision recall curve\")\n",
    "plt.xlabel(\"Precision\")\n",
    "plt.ylabel(\"Recall\")\n",
    "plt.legend(loc=\"best\")\n"
   ]
  },
  {
   "cell_type": "markdown",
   "metadata": {},
   "source": [
    "**Q3** Train Ridge Regression Model on the training set, and evaluate\n",
    "1. Now, Create a Ridge Regression passing ```alpha = 4, normalize = True to Ridge()```\n",
    "2. Fit the model with the train data\n",
    "3. Predict the values with the test data\n",
    "4. Print the coefficients of the model\n",
    "5. Calculate the test MSE \n",
    "6. Get the score from the model using test data\n",
    "7. Plot Precision-Recall Curve from the true & predicted test data\n",
    "\n",
    "**A3** Replace ??? with code in the code cell below"
   ]
  },
  {
   "cell_type": "code",
   "execution_count": 5,
   "metadata": {},
   "outputs": [
    {
     "name": "stdout",
     "output_type": "stream",
     "text": [
      "Sample code number            -5.686298e-09\n",
      "Clump Thickness                1.318217e-02\n",
      "Uniformity of Cell Size        1.277455e-02\n",
      "Uniformity of Cell Shape       1.301451e-02\n",
      "Marginal Adhesion              1.156621e-02\n",
      "Single Epithelial Cell Size    1.388992e-02\n",
      "Bare Nuclei                    1.222152e-02\n",
      "Bland Chromatin                1.483758e-02\n",
      "Normal Nucleoli                1.064847e-02\n",
      "Mitoses                        1.028324e-02\n",
      "dtype: float64\n",
      "Test mean squared error (MSE): 0.08\n",
      "0.6316014948791386\n"
     ]
    }
   ],
   "source": [
    "ridge2 = Ridge(alpha=4, normalize=True)\n",
    "ridge2.fit(xtrain,ytrain)            \n",
    "pred2 = ridge2.predict(xtest)      \n",
    "\n",
    "#print model coefficients      \n",
    "print(pd.Series(ridge2.coef_, index = df.columns[0:11])) \n",
    "mse = mean_squared_error(ytest, pred2)       \n",
    "print(\"Test mean squared error (MSE): {:.2f}\".format(mse))\n",
    "\n",
    "#print score  \n",
    "print(ridge2.score(xtest,ytest))"
   ]
  },
  {
   "cell_type": "code",
   "execution_count": 6,
   "metadata": {},
   "outputs": [
    {
     "data": {
      "text/plain": [
       "<matplotlib.legend.Legend at 0x2b7478b2af0>"
      ]
     },
     "execution_count": 6,
     "metadata": {},
     "output_type": "execute_result"
    },
    {
     "data": {
      "image/png": "[encoded data removed]",
      "text/plain": [
       "<Figure size 432x288 with 1 Axes>"
      ]
     },
     "metadata": {
      "needs_background": "light"
     },
     "output_type": "display_data"
    }
   ],
   "source": [
    "#pass necessary parameters to precision_recall_curve method  \n",
    "precision, recall, thresholds = precision_recall_curve(ytest,pred2)\n",
    "\n",
    "# find threshold closest to zero\n",
    "close_zero = np.argmin(np.abs(thresholds))\n",
    "plt.plot(precision[close_zero], recall[close_zero], 'o', markersize=10,\n",
    "         label=\"threshold zero\", fillstyle=\"none\", c='k', mew=2)\n",
    "\n",
    "plt.plot(precision, recall, label=\"precision recall curve\")\n",
    "plt.xlabel(\"Precision\")\n",
    "plt.ylabel(\"Recall\")\n",
    "plt.legend(loc=\"best\")"
   ]
  },
  {
   "cell_type": "markdown",
   "metadata": {},
   "source": [
    "**Q4** Train Ridge Regression Model on the training set, and evaluate\n",
    "1. Now, Create a Ridge Regression passing ```alpha = 100, normalize = True to Ridge()```\n",
    "2. Fit the model with the train data\n",
    "3. Predict the values with the test data\n",
    "4. Print the coefficients of the model\n",
    "5. Calculate the test MSE \n",
    "6. Get the score from the model using test data\n",
    "7. Plot Precision-Recall Curve from the true & predicted test data\n",
    "\n",
    "**A4** Replace ??? with code in the code cell below"
   ]
  },
  {
   "cell_type": "code",
   "execution_count": 7,
   "metadata": {},
   "outputs": [
    {
     "name": "stdout",
     "output_type": "stream",
     "text": [
      "Sample code number            -5.615598e-18\n",
      "Clump Thickness                1.215090e-11\n",
      "Uniformity of Cell Size        1.281772e-11\n",
      "Uniformity of Cell Shape       1.300501e-11\n",
      "Marginal Adhesion              1.182081e-11\n",
      "Single Epithelial Cell Size    1.503064e-11\n",
      "Bare Nuclei                    1.073005e-11\n",
      "Bland Chromatin                1.472678e-11\n",
      "Normal Nucleoli                1.110324e-11\n",
      "Mitoses                        1.244216e-11\n",
      "dtype: float64\n",
      "Test mean squared error (MSE): 0.23\n",
      "-2.561227221931084e-05\n"
     ]
    }
   ],
   "source": [
    "ridge3 = Ridge(alpha=10**10, normalize=True)\n",
    "ridge3.fit(xtrain,ytrain)             \n",
    "pred3 = ridge3.predict(xtest) \n",
    "\n",
    "#print model coefficients      \n",
    "print(pd.Series(ridge3.coef_, index = df.columns[0:11])) \n",
    "mse = mean_squared_error(ytest, pred3)       \n",
    "print(\"Test mean squared error (MSE): {:.2f}\".format(mse))\n",
    "\n",
    "#print score\n",
    "print(ridge3.score(xtest,ytest))\n"
   ]
  },
  {
   "cell_type": "code",
   "execution_count": 8,
   "metadata": {},
   "outputs": [
    {
     "data": {
      "text/plain": [
       "<matplotlib.legend.Legend at 0x2b74794d760>"
      ]
     },
     "execution_count": 8,
     "metadata": {},
     "output_type": "execute_result"
    },
    {
     "data": {
      "image/png": "[encoded data removed]",
      "text/plain": [
       "<Figure size 432x288 with 1 Axes>"
      ]
     },
     "metadata": {
      "needs_background": "light"
     },
     "output_type": "display_data"
    }
   ],
   "source": [
    "#pass necessary parameters to precision_recall_curve method  \n",
    "precision, recall, thresholds = precision_recall_curve(ytest,pred3)\n",
    "\n",
    "# find threshold closest to zero\n",
    "close_zero = np.argmin(np.abs(thresholds))\n",
    "plt.plot(precision[close_zero], recall[close_zero], 'o', markersize=10,\n",
    "         label=\"threshold zero\", fillstyle=\"none\", c='k', mew=2)\n",
    "\n",
    "plt.plot(precision, recall, label=\"precision recall curve\")\n",
    "plt.xlabel(\"Precision\")\n",
    "plt.ylabel(\"Recall\")\n",
    "plt.legend(loc=\"best\")"
   ]
  },
  {
   "cell_type": "markdown",
   "metadata": {},
   "source": [
    "**Q5** Train Ridge Regression Model on the training set, and evaluate\n",
    "1. Now, Create a Ridge Regression passing ```alpha = 0, normalize = True to Ridge()```\n",
    "2. Fit the model with the train data\n",
    "3. Predict the values with the test data\n",
    "4. Print the coefficients of the model\n",
    "5. Calculate the test MSE \n",
    "6. Get the score from the model using test data\n",
    "7. Plot Precision-Recall Curve from the true & predicted test data\n",
    "\n",
    "**A5** Replace ??? with code in the code cell below"
   ]
  },
  {
   "cell_type": "code",
   "execution_count": 9,
   "metadata": {},
   "outputs": [
    {
     "name": "stdout",
     "output_type": "stream",
     "text": [
      "Sample code number            -5.220075e-09\n",
      "Clump Thickness                3.122935e-02\n",
      "Uniformity of Cell Size        2.536441e-02\n",
      "Uniformity of Cell Shape       1.456714e-02\n",
      "Marginal Adhesion              1.177444e-02\n",
      "Single Epithelial Cell Size    7.266571e-03\n",
      "Bare Nuclei                    4.403729e-02\n",
      "Bland Chromatin                2.086232e-02\n",
      "Normal Nucleoli                1.408810e-02\n",
      "Mitoses                        4.401656e-04\n",
      "dtype: float64\n",
      "Test mean squared error (MSE): 0.04\n",
      "Test mean squared error (MSE): 0.04\n",
      "0.8023901980651084\n"
     ]
    }
   ],
   "source": [
    "ridge4 = Ridge(alpha=0, normalize=True)\n",
    "ridge4.fit(xtrain,ytrain)             \n",
    "pred4 = ridge4.predict(xtest)   \n",
    "\n",
    "#print model coefficients      \n",
    "print(pd.Series(ridge4.coef_, index = df.columns[0:11])) \n",
    "mse = mean_squared_error(ytest, pred4)      \n",
    "print(\"Test mean squared error (MSE): {:.2f}\".format(mse))\n",
    "\n",
    "#print score      \n",
    "print(\"Test mean squared error (MSE): {:.2f}\".format(mse))\n",
    "print(ridge4.score(xtest,ytest))"
   ]
  },
  {
   "cell_type": "code",
   "execution_count": 10,
   "metadata": {},
   "outputs": [
    {
     "data": {
      "text/plain": [
       "<matplotlib.legend.Legend at 0x2b7479bdee0>"
      ]
     },
     "execution_count": 10,
     "metadata": {},
     "output_type": "execute_result"
    },
    {
     "data": {
      "image/png": "[encoded data removed]",
      "text/plain": [
       "<Figure size 432x288 with 1 Axes>"
      ]
     },
     "metadata": {
      "needs_background": "light"
     },
     "output_type": "display_data"
    }
   ],
   "source": [
    "#pass necessary parameters to precision_recall_curve method  \n",
    "precision, recall, thresholds = precision_recall_curve(ytest,pred4)\n",
    "\n",
    "# find threshold closest to zero\n",
    "close_zero = np.argmin(np.abs(thresholds))\n",
    "plt.plot(precision[close_zero], recall[close_zero], 'o', markersize=10,\n",
    "         label=\"threshold zero\", fillstyle=\"none\", c='k', mew=2)\n",
    "\n",
    "plt.plot(precision, recall, label=\"precision recall curve\")\n",
    "plt.xlabel(\"Precision\")\n",
    "plt.ylabel(\"Recall\")\n",
    "plt.legend(loc=\"best\")"
   ]
  },
  {
   "cell_type": "markdown",
   "metadata": {},
   "source": [
    "**Q6** **Study the codes above and answer the following questions:***\n",
    "\n",
    "1. Why when passing alpha = 100, the coefficients become very small? \n",
    "2. Does alpha = 4 improve the MSE comparing to regular least squares?\n",
    "3. How the size of alphas affects MSE and the Score of the models? \n",
    "\n",
    "\n",
    "**A6** Your answers:\n",
    "\n",
    "1. The larger is the alpha, the higher is the smoothness constraints. Higher alpha makes coefficients much smaller with less flexibility of the fit.\n",
    "\n",
    "2. No, the performemce degrades comparing with the Regular Least Squares(RLS) (Which basically is the fit with alpha=0). alpha=0 or RLS achieves MSE=0.04\n",
    "\n",
    "3. The higher value of alpha makes the model less flexible with the test data and the model becomes overfitted. The smaller value of alpha helps to generalized the model. So, the Score and MSE also increases with the test data.\n"
   ]
  },
  {
   "cell_type": "markdown",
   "metadata": {},
   "source": [
    "# Lasso Regularization"
   ]
  },
  {
   "cell_type": "markdown",
   "metadata": {},
   "source": [
    "**Q7 Create a Lasso Regression passing ```max_iter = 10000, normalize = True to Lasso()```**\n",
    "\n",
    "1. se the alphas from the 2nd question for setting parameters in Lasso\n",
    "2. Fit the model with the train data\n",
    "3. Predict the values with the test data\n",
    "4. Print the coefficients of the model\n",
    "5. Calculate the test MSE \n",
    "6. Get the score from the model using test data\n",
    "7. Plot Precision-Recall Curve from the true & predicted test data\n",
    "\n",
    "\n",
    "**A7** \n",
    "\n",
    "Replace ??? with code in the code cell below\n"
   ]
  },
  {
   "cell_type": "code",
   "execution_count": 11,
   "metadata": {},
   "outputs": [
    {
     "name": "stdout",
     "output_type": "stream",
     "text": [
      "Sample code number            -0.000000\n",
      "Clump Thickness                0.011989\n",
      "Uniformity of Cell Size        0.032729\n",
      "Uniformity of Cell Shape       0.014725\n",
      "Marginal Adhesion              0.000000\n",
      "Single Epithelial Cell Size    0.000000\n",
      "Bare Nuclei                    0.035803\n",
      "Bland Chromatin                0.011835\n",
      "Normal Nucleoli                0.000000\n",
      "Mitoses                        0.000000\n",
      "dtype: float64\n",
      "Test mean squared error (MSE): 0.07\n",
      "0.7028839667219621\n"
     ]
    }
   ],
   "source": [
    "#Lasso regression\n",
    "lasso = Lasso(max_iter = 10000, normalize = True)\n",
    "coefs = []\n",
    "\n",
    "for a in alphas:\n",
    "    lasso.set_params(alpha=a)\n",
    "    lasso.fit(xtrain, ytrain)\n",
    "    coefs.append(lasso.coef_)\n",
    "\n",
    "np.shape(coefs) \n",
    "\n",
    "pred1_lasso = lasso.predict(xtest)           # Use this model to predict the test data\n",
    "print(pd.Series(lasso.coef_, index = df.columns[0:11])) # Print coefficients\n",
    "mse = mean_squared_error(ytest, pred1_lasso)          # Calculate the test MSE\n",
    "print(\"Test mean squared error (MSE): {:.2f}\".format(mse))\n",
    "\n",
    "print(lasso.score(xtest,ytest))"
   ]
  },
  {
   "cell_type": "code",
   "execution_count": 12,
   "metadata": {},
   "outputs": [
    {
     "data": {
      "text/plain": [
       "Text(0, 0.5, 'Recall')"
      ]
     },
     "execution_count": 12,
     "metadata": {},
     "output_type": "execute_result"
    },
    {
     "data": {
      "image/png": "[encoded data removed]",
      "text/plain": [
       "<Figure size 432x288 with 1 Axes>"
      ]
     },
     "metadata": {
      "needs_background": "light"
     },
     "output_type": "display_data"
    }
   ],
   "source": [
    "#pass necessary parameters to precision_recall_curve method  \n",
    "precision, recall, thresholds = precision_recall_curve(ytest,pred1_lasso)\n",
    "\n",
    "# find threshold closest to zero\n",
    "close_zero = np.argmin(np.abs(thresholds))\n",
    "plt.plot(precision[close_zero], recall[close_zero], 'o', markersize=10,\n",
    "         label=\"threshold zero\", fillstyle=\"none\", c='k', mew=2)\n",
    "\n",
    "plt.plot(precision, recall, label=\"precision recall curve\")\n",
    "plt.xlabel(\"Precision\")\n",
    "plt.ylabel(\"Recall\")"
   ]
  },
  {
   "cell_type": "markdown",
   "metadata": {},
   "source": [
    "\n",
    "**Q8 Observe the lasso.coef and ridge.coef, and discuss the findings below**\n",
    "\n",
    "\n",
    "**A8**  Your answer goes here: In the Lasso regression, the model works better when coefficients of the model is smaller. But on the otherhand, in Ridge regression, the model performs better with higher values of coefficients."
   ]
  }
 ],
 "metadata": {
  "colab": {
   "collapsed_sections": [],
   "name": "Copy of CS4347-Assignment2-NETID.ipynb",
   "provenance": [
    {
     "file_id": "1vsORsvIGVbJ2cNHR1lIPDIuGobP25ZPq",
     "timestamp": 1629391503766
    },
    {
     "file_id": "1vuQua73YBPg3xOVKXACAGdS_8R1OlQdX",
     "timestamp": 1611597429764
    },
    {
     "file_id": "1Jr8VoifAgTlPqVE_AiCDeWbiHGEyvkxq",
     "timestamp": 1580784119108
    }
   ]
  },
  "interpreter": {
   "hash": "61092feec5071c5645c5e9fd8e6ed751662eaf3fad39a8c2be0e7ae1843d914b"
  },
  "kernelspec": {
   "display_name": "Python 3.8.8 64-bit ('base': conda)",
   "name": "python3"
  },
  "language_info": {
   "codemirror_mode": {
    "name": "ipython",
    "version": 3
   },
   "file_extension": ".py",
   "mimetype": "text/x-python",
   "name": "python",
   "nbconvert_exporter": "python",
   "pygments_lexer": "ipython3",
   "version": "3.8.8"
  }
 },
 "nbformat": 4,
 "nbformat_minor": 2
}
