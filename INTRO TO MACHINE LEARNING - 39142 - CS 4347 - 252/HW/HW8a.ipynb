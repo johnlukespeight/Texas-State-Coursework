{
 "cells": [
  {
   "cell_type": "markdown",
   "metadata": {},
   "source": [
    "# HW 8\n",
    "\n",
    "This assignment covers all fundamental concepts required for completing a project\n",
    "\n",
    "**DO NOT ERASE MARKDOWN CELLS AND INSTRUCTIONS IN YOUR HW submission**\n",
    "  * **Q** - QUESTION\n",
    "  * **A** - Where to input your answer\n",
    "\n",
    "## Instructions\n",
    "\n",
    "Keep the following in mind for all notebooks you develop:\n",
    "* Structure your notebook. \n",
    "* Use headings with meaningful levels in Markdown cells, and explain the questions each piece of code is to answer or the reason it is there.\n",
    "* Make sure your notebook can always be rerun from top to bottom.\n",
    "* Please start working on this assignment as soon as possible. If you are a beginner in Python this might take a long time. One of the objectives of this assignment is to help you learn python and scikit-learn package. \n",
    "* See [README.md](README.md) for homework submission instructions\n",
    "\n",
    "## Related Tutorials\n",
    "\n",
    "### Refreshers\n",
    "* [Intro to Machine Learning w scikit-learn](https://scikit-learn.org/stable/tutorial/basic/tutorial.html)\n",
    "* [A tutorial on statistical-learning for scientific data processing](https://scikit-learn.org/stable/tutorial/statistical_inference/index.html#stat-learn-tut-index)\n",
    " \n",
    "### Classification Approaches\n",
    "* [Logistic Regression with Sklearn](https://scikit-learn.org/stable/modules/generated/sklearn.linear_model.LogisticRegression.html)\n",
    "* [KNN with sklearn](https://scikit-learn.org/stable/modules/generated/sklearn.neighbors.KNeighborsClassifier.html)\n",
    "* [Support Vector machine example](https://scikit-learn.org/stable/auto_examples/exercises/plot_iris_exercise.html#sphx-glr-auto-examples-exercises-plot-iris-exercise-py)\n",
    "* [SVC](https://scikit-learn.org/stable/modules/generated/sklearn.svm.SVC.html?highlight=svc#sklearn.svm.SVC)\n",
    "* [Bagging Classifier](https://scikit-learn.org/stable/modules/generated/sklearn.ensemble.BaggingClassifier.html)\n",
    "* [Gradient Boosting Classifier](https://scikit-learn.org/stable/modules/generated/sklearn.ensemble.GradientBoostingClassifier.html)\n",
    "  \n",
    "### Modeling   \n",
    "* [Cross-validation](https://scikit-learn.org/stable/modules/cross_validation.html)\n",
    "* [Plot Confursion Matrix with Sklearn](https://scikit-learn.org/stable/auto_examples/model_selection/plot_confusion_matrix.html)\n",
    "* [Confusion Matrix Display](https://scikit-learn.org/stable/modules/generated/sklearn.metrics.ConfusionMatrixDisplay.html#sklearn.metrics)"
   ]
  },
  {
   "cell_type": "markdown",
   "metadata": {},
   "source": [
    "# Import all required library "
   ]
  },
  {
   "cell_type": "code",
   "execution_count": 325,
   "metadata": {},
   "outputs": [],
   "source": [
    "import pandas as pd\n",
    "from sklearn.model_selection import train_test_split\n",
    "import matplotlib.pyplot as plt\n",
    "import numpy as np\n",
    "from sklearn.pipeline import Pipeline\n",
    "from sklearn.preprocessing import StandardScaler, MaxAbsScaler\n",
    "import json\n",
    "import lightgbm as lgbm\n",
    "from sklearn.decomposition import PCA\n",
    "from sklearn.manifold import TSNE\n",
    "import seaborn as sns\n",
    "from imblearn.over_sampling import RandomOverSampler\n",
    "from sklearn.ensemble import RandomForestClassifier"
   ]
  },
  {
   "cell_type": "markdown",
   "metadata": {},
   "source": []
  },
  {
   "cell_type": "markdown",
   "metadata": {},
   "source": [
    "# Data Processing"
   ]
  },
  {
   "cell_type": "markdown",
   "metadata": {},
   "source": [
    "**Q1** Get training data from the dataframe\n",
    "1. Load ```HW8_data.csv``` from ```data``` folder into data frame\n",
    "2. Print the head of the dataframe\n",
    "3. Print the shape of the dataframe\n",
    "4. Print the description of the dataframe\n",
    "5. Assign ```Cover_Type``` values to Y\n",
    "6. Assign rest of the column values to X\n",
    "\n",
    "**A1** Fill the cell blocks below, Create new cell as per your necessary"
   ]
  },
  {
   "cell_type": "code",
   "execution_count": 326,
   "metadata": {},
   "outputs": [
    {
     "data": {
      "text/html": [
       "<div>\n",
       "<style scoped>\n",
       "    .dataframe tbody tr th:only-of-type {\n",
       "        vertical-align: middle;\n",
       "    }\n",
       "\n",
       "    .dataframe tbody tr th {\n",
       "        vertical-align: top;\n",
       "    }\n",
       "\n",
       "    .dataframe thead th {\n",
       "        text-align: right;\n",
       "    }\n",
       "</style>\n",
       "<table border=\"1\" class=\"dataframe\">\n",
       "  <thead>\n",
       "    <tr style=\"text-align: right;\">\n",
       "      <th></th>\n",
       "      <th>Elevation</th>\n",
       "      <th>Aspect</th>\n",
       "      <th>Slope</th>\n",
       "      <th>Horizontal_Distance_To_Hydrology</th>\n",
       "      <th>Vertical_Distance_To_Hydrology</th>\n",
       "      <th>Horizontal_Distance_To_Roadways</th>\n",
       "      <th>Hillshade_9am</th>\n",
       "      <th>Hillshade_Noon</th>\n",
       "      <th>Hillshade_3pm</th>\n",
       "      <th>Horizontal_Distance_To_Fire_Points</th>\n",
       "      <th>...</th>\n",
       "      <th>Soil_Type32</th>\n",
       "      <th>Soil_Type33</th>\n",
       "      <th>Soil_Type34</th>\n",
       "      <th>Soil_Type35</th>\n",
       "      <th>Soil_Type36</th>\n",
       "      <th>Soil_Type37</th>\n",
       "      <th>Soil_Type38</th>\n",
       "      <th>Soil_Type39</th>\n",
       "      <th>Soil_Type40</th>\n",
       "      <th>Cover_Type</th>\n",
       "    </tr>\n",
       "  </thead>\n",
       "  <tbody>\n",
       "    <tr>\n",
       "      <th>0</th>\n",
       "      <td>3080</td>\n",
       "      <td>137</td>\n",
       "      <td>18</td>\n",
       "      <td>166</td>\n",
       "      <td>1</td>\n",
       "      <td>1009</td>\n",
       "      <td>250</td>\n",
       "      <td>198</td>\n",
       "      <td>166</td>\n",
       "      <td>3635</td>\n",
       "      <td>...</td>\n",
       "      <td>0</td>\n",
       "      <td>0</td>\n",
       "      <td>0</td>\n",
       "      <td>0</td>\n",
       "      <td>0</td>\n",
       "      <td>0</td>\n",
       "      <td>0</td>\n",
       "      <td>0</td>\n",
       "      <td>0</td>\n",
       "      <td>1</td>\n",
       "    </tr>\n",
       "    <tr>\n",
       "      <th>1</th>\n",
       "      <td>2758</td>\n",
       "      <td>19</td>\n",
       "      <td>8</td>\n",
       "      <td>551</td>\n",
       "      <td>49</td>\n",
       "      <td>1766</td>\n",
       "      <td>225</td>\n",
       "      <td>231</td>\n",
       "      <td>124</td>\n",
       "      <td>1648</td>\n",
       "      <td>...</td>\n",
       "      <td>0</td>\n",
       "      <td>0</td>\n",
       "      <td>0</td>\n",
       "      <td>0</td>\n",
       "      <td>0</td>\n",
       "      <td>0</td>\n",
       "      <td>0</td>\n",
       "      <td>0</td>\n",
       "      <td>0</td>\n",
       "      <td>2</td>\n",
       "    </tr>\n",
       "    <tr>\n",
       "      <th>2</th>\n",
       "      <td>2779</td>\n",
       "      <td>86</td>\n",
       "      <td>9</td>\n",
       "      <td>43</td>\n",
       "      <td>-10</td>\n",
       "      <td>3889</td>\n",
       "      <td>155</td>\n",
       "      <td>204</td>\n",
       "      <td>123</td>\n",
       "      <td>364</td>\n",
       "      <td>...</td>\n",
       "      <td>0</td>\n",
       "      <td>0</td>\n",
       "      <td>0</td>\n",
       "      <td>0</td>\n",
       "      <td>0</td>\n",
       "      <td>0</td>\n",
       "      <td>1</td>\n",
       "      <td>0</td>\n",
       "      <td>0</td>\n",
       "      <td>2</td>\n",
       "    </tr>\n",
       "    <tr>\n",
       "      <th>3</th>\n",
       "      <td>2811</td>\n",
       "      <td>296</td>\n",
       "      <td>0</td>\n",
       "      <td>287</td>\n",
       "      <td>4</td>\n",
       "      <td>788</td>\n",
       "      <td>191</td>\n",
       "      <td>226</td>\n",
       "      <td>113</td>\n",
       "      <td>144</td>\n",
       "      <td>...</td>\n",
       "      <td>0</td>\n",
       "      <td>0</td>\n",
       "      <td>0</td>\n",
       "      <td>0</td>\n",
       "      <td>0</td>\n",
       "      <td>0</td>\n",
       "      <td>0</td>\n",
       "      <td>0</td>\n",
       "      <td>0</td>\n",
       "      <td>2</td>\n",
       "    </tr>\n",
       "    <tr>\n",
       "      <th>4</th>\n",
       "      <td>2956</td>\n",
       "      <td>314</td>\n",
       "      <td>26</td>\n",
       "      <td>71</td>\n",
       "      <td>22</td>\n",
       "      <td>2910</td>\n",
       "      <td>230</td>\n",
       "      <td>200</td>\n",
       "      <td>99</td>\n",
       "      <td>743</td>\n",
       "      <td>...</td>\n",
       "      <td>0</td>\n",
       "      <td>0</td>\n",
       "      <td>0</td>\n",
       "      <td>0</td>\n",
       "      <td>0</td>\n",
       "      <td>0</td>\n",
       "      <td>1</td>\n",
       "      <td>0</td>\n",
       "      <td>0</td>\n",
       "      <td>2</td>\n",
       "    </tr>\n",
       "  </tbody>\n",
       "</table>\n",
       "<p>5 rows × 55 columns</p>\n",
       "</div>"
      ],
      "text/plain": [
       "   Elevation  Aspect  Slope  Horizontal_Distance_To_Hydrology  \\\n",
       "0       3080     137     18                               166   \n",
       "1       2758      19      8                               551   \n",
       "2       2779      86      9                                43   \n",
       "3       2811     296      0                               287   \n",
       "4       2956     314     26                                71   \n",
       "\n",
       "   Vertical_Distance_To_Hydrology  Horizontal_Distance_To_Roadways  \\\n",
       "0                               1                             1009   \n",
       "1                              49                             1766   \n",
       "2                             -10                             3889   \n",
       "3                               4                              788   \n",
       "4                              22                             2910   \n",
       "\n",
       "   Hillshade_9am  Hillshade_Noon  Hillshade_3pm  \\\n",
       "0            250             198            166   \n",
       "1            225             231            124   \n",
       "2            155             204            123   \n",
       "3            191             226            113   \n",
       "4            230             200             99   \n",
       "\n",
       "   Horizontal_Distance_To_Fire_Points  ...  Soil_Type32  Soil_Type33  \\\n",
       "0                                3635  ...            0            0   \n",
       "1                                1648  ...            0            0   \n",
       "2                                 364  ...            0            0   \n",
       "3                                 144  ...            0            0   \n",
       "4                                 743  ...            0            0   \n",
       "\n",
       "   Soil_Type34  Soil_Type35  Soil_Type36  Soil_Type37  Soil_Type38  \\\n",
       "0            0            0            0            0            0   \n",
       "1            0            0            0            0            0   \n",
       "2            0            0            0            0            1   \n",
       "3            0            0            0            0            0   \n",
       "4            0            0            0            0            1   \n",
       "\n",
       "   Soil_Type39  Soil_Type40  Cover_Type  \n",
       "0            0            0           1  \n",
       "1            0            0           2  \n",
       "2            0            0           2  \n",
       "3            0            0           2  \n",
       "4            0            0           2  \n",
       "\n",
       "[5 rows x 55 columns]"
      ]
     },
     "execution_count": 326,
     "metadata": {},
     "output_type": "execute_result"
    }
   ],
   "source": [
    "data = pd.read_csv(r\"C:\\Users\\antho\\Documents\\GitHub\\alm448\\HW\\Data\\HW8Data\\HW8_data.csv\")\n",
    "data.head()"
   ]
  },
  {
   "cell_type": "code",
   "execution_count": 327,
   "metadata": {},
   "outputs": [
    {
     "name": "stdout",
     "output_type": "stream",
     "text": [
      "(80000, 55)\n"
     ]
    },
    {
     "data": {
      "text/html": [
       "<div>\n",
       "<style scoped>\n",
       "    .dataframe tbody tr th:only-of-type {\n",
       "        vertical-align: middle;\n",
       "    }\n",
       "\n",
       "    .dataframe tbody tr th {\n",
       "        vertical-align: top;\n",
       "    }\n",
       "\n",
       "    .dataframe thead th {\n",
       "        text-align: right;\n",
       "    }\n",
       "</style>\n",
       "<table border=\"1\" class=\"dataframe\">\n",
       "  <thead>\n",
       "    <tr style=\"text-align: right;\">\n",
       "      <th></th>\n",
       "      <th>Elevation</th>\n",
       "      <th>Aspect</th>\n",
       "      <th>Slope</th>\n",
       "      <th>Horizontal_Distance_To_Hydrology</th>\n",
       "      <th>Vertical_Distance_To_Hydrology</th>\n",
       "      <th>Horizontal_Distance_To_Roadways</th>\n",
       "      <th>Hillshade_9am</th>\n",
       "      <th>Hillshade_Noon</th>\n",
       "      <th>Hillshade_3pm</th>\n",
       "      <th>Horizontal_Distance_To_Fire_Points</th>\n",
       "      <th>...</th>\n",
       "      <th>Soil_Type32</th>\n",
       "      <th>Soil_Type33</th>\n",
       "      <th>Soil_Type34</th>\n",
       "      <th>Soil_Type35</th>\n",
       "      <th>Soil_Type36</th>\n",
       "      <th>Soil_Type37</th>\n",
       "      <th>Soil_Type38</th>\n",
       "      <th>Soil_Type39</th>\n",
       "      <th>Soil_Type40</th>\n",
       "      <th>Cover_Type</th>\n",
       "    </tr>\n",
       "  </thead>\n",
       "  <tbody>\n",
       "    <tr>\n",
       "      <th>count</th>\n",
       "      <td>80000.000000</td>\n",
       "      <td>80000.000000</td>\n",
       "      <td>80000.000000</td>\n",
       "      <td>80000.000000</td>\n",
       "      <td>80000.000000</td>\n",
       "      <td>80000.000000</td>\n",
       "      <td>80000.000000</td>\n",
       "      <td>80000.000000</td>\n",
       "      <td>80000.000000</td>\n",
       "      <td>80000.000000</td>\n",
       "      <td>...</td>\n",
       "      <td>80000.000000</td>\n",
       "      <td>80000.000000</td>\n",
       "      <td>80000.000000</td>\n",
       "      <td>80000.000000</td>\n",
       "      <td>80000.000000</td>\n",
       "      <td>80000.000000</td>\n",
       "      <td>80000.000000</td>\n",
       "      <td>80000.000000</td>\n",
       "      <td>80000.000000</td>\n",
       "      <td>80000.000000</td>\n",
       "    </tr>\n",
       "    <tr>\n",
       "      <th>mean</th>\n",
       "      <td>2981.434325</td>\n",
       "      <td>151.634175</td>\n",
       "      <td>15.093913</td>\n",
       "      <td>271.564212</td>\n",
       "      <td>51.510737</td>\n",
       "      <td>1770.080712</td>\n",
       "      <td>211.781612</td>\n",
       "      <td>221.069125</td>\n",
       "      <td>140.711750</td>\n",
       "      <td>1577.937550</td>\n",
       "      <td>...</td>\n",
       "      <td>0.038150</td>\n",
       "      <td>0.037687</td>\n",
       "      <td>0.011838</td>\n",
       "      <td>0.015425</td>\n",
       "      <td>0.010812</td>\n",
       "      <td>0.012538</td>\n",
       "      <td>0.040325</td>\n",
       "      <td>0.039163</td>\n",
       "      <td>0.030437</td>\n",
       "      <td>1.770725</td>\n",
       "    </tr>\n",
       "    <tr>\n",
       "      <th>std</th>\n",
       "      <td>287.972764</td>\n",
       "      <td>109.945631</td>\n",
       "      <td>8.531364</td>\n",
       "      <td>227.532197</td>\n",
       "      <td>68.091489</td>\n",
       "      <td>1318.661060</td>\n",
       "      <td>30.814815</td>\n",
       "      <td>22.191030</td>\n",
       "      <td>43.859689</td>\n",
       "      <td>1126.514346</td>\n",
       "      <td>...</td>\n",
       "      <td>0.191559</td>\n",
       "      <td>0.190441</td>\n",
       "      <td>0.108155</td>\n",
       "      <td>0.123237</td>\n",
       "      <td>0.103420</td>\n",
       "      <td>0.111268</td>\n",
       "      <td>0.196722</td>\n",
       "      <td>0.193983</td>\n",
       "      <td>0.171789</td>\n",
       "      <td>0.892577</td>\n",
       "    </tr>\n",
       "    <tr>\n",
       "      <th>min</th>\n",
       "      <td>1813.000000</td>\n",
       "      <td>-29.000000</td>\n",
       "      <td>-3.000000</td>\n",
       "      <td>-43.000000</td>\n",
       "      <td>-276.000000</td>\n",
       "      <td>-238.000000</td>\n",
       "      <td>10.000000</td>\n",
       "      <td>69.000000</td>\n",
       "      <td>-48.000000</td>\n",
       "      <td>-218.000000</td>\n",
       "      <td>...</td>\n",
       "      <td>0.000000</td>\n",
       "      <td>0.000000</td>\n",
       "      <td>0.000000</td>\n",
       "      <td>0.000000</td>\n",
       "      <td>0.000000</td>\n",
       "      <td>0.000000</td>\n",
       "      <td>0.000000</td>\n",
       "      <td>0.000000</td>\n",
       "      <td>0.000000</td>\n",
       "      <td>1.000000</td>\n",
       "    </tr>\n",
       "    <tr>\n",
       "      <th>25%</th>\n",
       "      <td>2762.000000</td>\n",
       "      <td>60.000000</td>\n",
       "      <td>9.000000</td>\n",
       "      <td>111.000000</td>\n",
       "      <td>4.000000</td>\n",
       "      <td>821.000000</td>\n",
       "      <td>198.000000</td>\n",
       "      <td>210.000000</td>\n",
       "      <td>115.000000</td>\n",
       "      <td>781.000000</td>\n",
       "      <td>...</td>\n",
       "      <td>0.000000</td>\n",
       "      <td>0.000000</td>\n",
       "      <td>0.000000</td>\n",
       "      <td>0.000000</td>\n",
       "      <td>0.000000</td>\n",
       "      <td>0.000000</td>\n",
       "      <td>0.000000</td>\n",
       "      <td>0.000000</td>\n",
       "      <td>0.000000</td>\n",
       "      <td>1.000000</td>\n",
       "    </tr>\n",
       "    <tr>\n",
       "      <th>50%</th>\n",
       "      <td>2967.000000</td>\n",
       "      <td>122.000000</td>\n",
       "      <td>14.000000</td>\n",
       "      <td>212.000000</td>\n",
       "      <td>31.000000</td>\n",
       "      <td>1440.000000</td>\n",
       "      <td>218.000000</td>\n",
       "      <td>224.000000</td>\n",
       "      <td>142.000000</td>\n",
       "      <td>1361.000000</td>\n",
       "      <td>...</td>\n",
       "      <td>0.000000</td>\n",
       "      <td>0.000000</td>\n",
       "      <td>0.000000</td>\n",
       "      <td>0.000000</td>\n",
       "      <td>0.000000</td>\n",
       "      <td>0.000000</td>\n",
       "      <td>0.000000</td>\n",
       "      <td>0.000000</td>\n",
       "      <td>0.000000</td>\n",
       "      <td>2.000000</td>\n",
       "    </tr>\n",
       "    <tr>\n",
       "      <th>75%</th>\n",
       "      <td>3217.000000</td>\n",
       "      <td>246.000000</td>\n",
       "      <td>20.000000</td>\n",
       "      <td>361.000000</td>\n",
       "      <td>78.000000</td>\n",
       "      <td>2366.000000</td>\n",
       "      <td>233.000000</td>\n",
       "      <td>237.000000</td>\n",
       "      <td>169.000000</td>\n",
       "      <td>2083.000000</td>\n",
       "      <td>...</td>\n",
       "      <td>0.000000</td>\n",
       "      <td>0.000000</td>\n",
       "      <td>0.000000</td>\n",
       "      <td>0.000000</td>\n",
       "      <td>0.000000</td>\n",
       "      <td>0.000000</td>\n",
       "      <td>0.000000</td>\n",
       "      <td>0.000000</td>\n",
       "      <td>0.000000</td>\n",
       "      <td>2.000000</td>\n",
       "    </tr>\n",
       "    <tr>\n",
       "      <th>max</th>\n",
       "      <td>4271.000000</td>\n",
       "      <td>400.000000</td>\n",
       "      <td>61.000000</td>\n",
       "      <td>1544.000000</td>\n",
       "      <td>562.000000</td>\n",
       "      <td>7604.000000</td>\n",
       "      <td>293.000000</td>\n",
       "      <td>264.000000</td>\n",
       "      <td>268.000000</td>\n",
       "      <td>8011.000000</td>\n",
       "      <td>...</td>\n",
       "      <td>1.000000</td>\n",
       "      <td>1.000000</td>\n",
       "      <td>1.000000</td>\n",
       "      <td>1.000000</td>\n",
       "      <td>1.000000</td>\n",
       "      <td>1.000000</td>\n",
       "      <td>1.000000</td>\n",
       "      <td>1.000000</td>\n",
       "      <td>1.000000</td>\n",
       "      <td>7.000000</td>\n",
       "    </tr>\n",
       "  </tbody>\n",
       "</table>\n",
       "<p>8 rows × 55 columns</p>\n",
       "</div>"
      ],
      "text/plain": [
       "          Elevation        Aspect         Slope  \\\n",
       "count  80000.000000  80000.000000  80000.000000   \n",
       "mean    2981.434325    151.634175     15.093913   \n",
       "std      287.972764    109.945631      8.531364   \n",
       "min     1813.000000    -29.000000     -3.000000   \n",
       "25%     2762.000000     60.000000      9.000000   \n",
       "50%     2967.000000    122.000000     14.000000   \n",
       "75%     3217.000000    246.000000     20.000000   \n",
       "max     4271.000000    400.000000     61.000000   \n",
       "\n",
       "       Horizontal_Distance_To_Hydrology  Vertical_Distance_To_Hydrology  \\\n",
       "count                      80000.000000                    80000.000000   \n",
       "mean                         271.564212                       51.510737   \n",
       "std                          227.532197                       68.091489   \n",
       "min                          -43.000000                     -276.000000   \n",
       "25%                          111.000000                        4.000000   \n",
       "50%                          212.000000                       31.000000   \n",
       "75%                          361.000000                       78.000000   \n",
       "max                         1544.000000                      562.000000   \n",
       "\n",
       "       Horizontal_Distance_To_Roadways  Hillshade_9am  Hillshade_Noon  \\\n",
       "count                     80000.000000   80000.000000    80000.000000   \n",
       "mean                       1770.080712     211.781612      221.069125   \n",
       "std                        1318.661060      30.814815       22.191030   \n",
       "min                        -238.000000      10.000000       69.000000   \n",
       "25%                         821.000000     198.000000      210.000000   \n",
       "50%                        1440.000000     218.000000      224.000000   \n",
       "75%                        2366.000000     233.000000      237.000000   \n",
       "max                        7604.000000     293.000000      264.000000   \n",
       "\n",
       "       Hillshade_3pm  Horizontal_Distance_To_Fire_Points  ...   Soil_Type32  \\\n",
       "count   80000.000000                        80000.000000  ...  80000.000000   \n",
       "mean      140.711750                         1577.937550  ...      0.038150   \n",
       "std        43.859689                         1126.514346  ...      0.191559   \n",
       "min       -48.000000                         -218.000000  ...      0.000000   \n",
       "25%       115.000000                          781.000000  ...      0.000000   \n",
       "50%       142.000000                         1361.000000  ...      0.000000   \n",
       "75%       169.000000                         2083.000000  ...      0.000000   \n",
       "max       268.000000                         8011.000000  ...      1.000000   \n",
       "\n",
       "        Soil_Type33   Soil_Type34   Soil_Type35   Soil_Type36   Soil_Type37  \\\n",
       "count  80000.000000  80000.000000  80000.000000  80000.000000  80000.000000   \n",
       "mean       0.037687      0.011838      0.015425      0.010812      0.012538   \n",
       "std        0.190441      0.108155      0.123237      0.103420      0.111268   \n",
       "min        0.000000      0.000000      0.000000      0.000000      0.000000   \n",
       "25%        0.000000      0.000000      0.000000      0.000000      0.000000   \n",
       "50%        0.000000      0.000000      0.000000      0.000000      0.000000   \n",
       "75%        0.000000      0.000000      0.000000      0.000000      0.000000   \n",
       "max        1.000000      1.000000      1.000000      1.000000      1.000000   \n",
       "\n",
       "        Soil_Type38   Soil_Type39   Soil_Type40    Cover_Type  \n",
       "count  80000.000000  80000.000000  80000.000000  80000.000000  \n",
       "mean       0.040325      0.039163      0.030437      1.770725  \n",
       "std        0.196722      0.193983      0.171789      0.892577  \n",
       "min        0.000000      0.000000      0.000000      1.000000  \n",
       "25%        0.000000      0.000000      0.000000      1.000000  \n",
       "50%        0.000000      0.000000      0.000000      2.000000  \n",
       "75%        0.000000      0.000000      0.000000      2.000000  \n",
       "max        1.000000      1.000000      1.000000      7.000000  \n",
       "\n",
       "[8 rows x 55 columns]"
      ]
     },
     "execution_count": 327,
     "metadata": {},
     "output_type": "execute_result"
    }
   ],
   "source": [
    "print(data.shape)\n",
    "data.describe()"
   ]
  },
  {
   "cell_type": "code",
   "execution_count": 328,
   "metadata": {},
   "outputs": [],
   "source": [
    "y= data['Cover_Type']\n",
    "data.drop(columns= 'Cover_Type')\n",
    "x= data\n",
    "labels= x.columns.values"
   ]
  },
  {
   "cell_type": "code",
   "execution_count": 329,
   "metadata": {},
   "outputs": [
    {
     "name": "stdout",
     "output_type": "stream",
     "text": [
      "(80000,) (80000, 55)\n",
      "['Elevation' 'Aspect' 'Slope' 'Horizontal_Distance_To_Hydrology'\n",
      " 'Vertical_Distance_To_Hydrology' 'Horizontal_Distance_To_Roadways'\n",
      " 'Hillshade_9am' 'Hillshade_Noon' 'Hillshade_3pm'\n",
      " 'Horizontal_Distance_To_Fire_Points' 'Wilderness_Area1'\n",
      " 'Wilderness_Area2' 'Wilderness_Area3' 'Wilderness_Area4' 'Soil_Type1'\n",
      " 'Soil_Type2' 'Soil_Type3' 'Soil_Type4' 'Soil_Type5' 'Soil_Type6'\n",
      " 'Soil_Type7' 'Soil_Type8' 'Soil_Type9' 'Soil_Type10' 'Soil_Type11'\n",
      " 'Soil_Type12' 'Soil_Type13' 'Soil_Type14' 'Soil_Type15' 'Soil_Type16'\n",
      " 'Soil_Type17' 'Soil_Type18' 'Soil_Type19' 'Soil_Type20' 'Soil_Type21'\n",
      " 'Soil_Type22' 'Soil_Type23' 'Soil_Type24' 'Soil_Type25' 'Soil_Type26'\n",
      " 'Soil_Type27' 'Soil_Type28' 'Soil_Type29' 'Soil_Type30' 'Soil_Type31'\n",
      " 'Soil_Type32' 'Soil_Type33' 'Soil_Type34' 'Soil_Type35' 'Soil_Type36'\n",
      " 'Soil_Type37' 'Soil_Type38' 'Soil_Type39' 'Soil_Type40' 'Cover_Type']\n"
     ]
    }
   ],
   "source": [
    "print(y.shape, x.shape)\n",
    "print(labels)"
   ]
  },
  {
   "cell_type": "markdown",
   "metadata": {},
   "source": [
    "**Q2:** Observe the range of all feature values from the dataframe description above. \n",
    "1. Do you think in our dataset normalization is required? -- Give proper justification based on your opinion. \n",
    "2. What type of normalization/Scaling technique you whould recommend for our dataset?"
   ]
  },
  {
   "cell_type": "markdown",
   "metadata": {},
   "source": [
    "**A2** \n",
    "\n",
    "```Answer 1:``` There are 80,000 sets of data for each column, with this many rows, it will be computationally expensive to render complex models like SVM and polynomial linear regression, so normalization would benefit us in saving resources. However it is not required, due to the data appearing to be non-biased\n",
    "\n",
    "```Answer 2:``` Standard scaling will allow us to maintain the integrity of the data but make it computionally simpler."
   ]
  },
  {
   "cell_type": "markdown",
   "metadata": {},
   "source": [
    "**Q3:** \n",
    "1. Use the above mentioned normalization technique on our HW_8 dataset.\n",
    "2. Transform the X dataframe using choosen normalization technique. \n",
    "\n",
    "### ```Note:``` Make sure the scaled X has all column name same as ```X dataframe```\n",
    "\n",
    "**A3** Fill the cell blocks below, Create new cell as per your necessary"
   ]
  },
  {
   "cell_type": "code",
   "execution_count": 330,
   "metadata": {},
   "outputs": [],
   "source": [
    "sc = StandardScaler()\n",
    "sc.fit(x)\n",
    "Scaled_X = sc.transform(x)\n",
    "Scaled_X = pd.DataFrame(data= Scaled_X, columns= labels)"
   ]
  },
  {
   "cell_type": "code",
   "execution_count": 331,
   "metadata": {},
   "outputs": [
    {
     "name": "stdout",
     "output_type": "stream",
     "text": [
      "[-6.13574469e-16  5.52544122e-17 -1.33867223e-16  5.05914755e-17\n",
      "  1.02129416e-16  6.12343509e-17  1.69536607e-16 -6.58953274e-16\n",
      "  7.42156336e-17 -1.14801224e-16  8.13278611e-16 -6.65455885e-16\n",
      " -2.88226665e-15 -2.37049269e-16  4.26991775e-16  2.26518596e-15\n",
      "  1.56256084e-15 -1.63703565e-15  1.00683073e-15 -6.37933109e-16\n",
      "  0.00000000e+00  6.59381057e-16 -3.52035935e-15 -3.66863831e-15\n",
      " -1.21757465e-16 -2.42478260e-16 -1.60372410e-16  4.44861890e-15\n",
      "  0.00000000e+00 -6.92293445e-18 -1.72496809e-15 -2.85586138e-15\n",
      " -3.18743296e-16 -7.45498108e-16  9.74747019e-16 -5.65771735e-16\n",
      " -8.04527972e-16 -2.61260805e-15 -1.83319505e-16 -1.77826955e-15\n",
      "  8.41415479e-16  8.95105171e-16  2.62102284e-15 -1.28956013e-15\n",
      "  6.86109503e-16  8.33291075e-16 -4.54690452e-16 -1.77174074e-15\n",
      " -1.31723521e-15 -3.53092208e-16  2.32767989e-15 -9.70397721e-16\n",
      "  7.54778184e-16 -1.14647389e-15 -1.40088496e-15] [1.00000625 1.00000625 1.00000625 1.00000625 1.00000625 1.00000625\n",
      " 1.00000625 1.00000625 1.00000625 1.00000625 1.00000625 1.00000625\n",
      " 1.00000625 1.00000625 1.00000625 1.00000625 1.00000625 1.00000625\n",
      " 1.00000625 1.00000625 0.         1.00000625 1.00000625 1.00000625\n",
      " 1.00000625 1.00000625 1.00000625 1.00000625 0.         1.00000625\n",
      " 1.00000625 1.00000625 1.00000625 1.00000625 1.00000625 1.00000625\n",
      " 1.00000625 1.00000625 1.00000625 1.00000625 1.00000625 1.00000625\n",
      " 1.00000625 1.00000625 1.00000625 1.00000625 1.00000625 1.00000625\n",
      " 1.00000625 1.00000625 1.00000625 1.00000625 1.00000625 1.00000625\n",
      " 1.00000625]\n"
     ]
    },
    {
     "data": {
      "text/html": [
       "<div>\n",
       "<style scoped>\n",
       "    .dataframe tbody tr th:only-of-type {\n",
       "        vertical-align: middle;\n",
       "    }\n",
       "\n",
       "    .dataframe tbody tr th {\n",
       "        vertical-align: top;\n",
       "    }\n",
       "\n",
       "    .dataframe thead th {\n",
       "        text-align: right;\n",
       "    }\n",
       "</style>\n",
       "<table border=\"1\" class=\"dataframe\">\n",
       "  <thead>\n",
       "    <tr style=\"text-align: right;\">\n",
       "      <th></th>\n",
       "      <th>Elevation</th>\n",
       "      <th>Aspect</th>\n",
       "      <th>Slope</th>\n",
       "      <th>Horizontal_Distance_To_Hydrology</th>\n",
       "      <th>Vertical_Distance_To_Hydrology</th>\n",
       "      <th>Horizontal_Distance_To_Roadways</th>\n",
       "      <th>Hillshade_9am</th>\n",
       "      <th>Hillshade_Noon</th>\n",
       "      <th>Hillshade_3pm</th>\n",
       "      <th>Horizontal_Distance_To_Fire_Points</th>\n",
       "      <th>...</th>\n",
       "      <th>Soil_Type32</th>\n",
       "      <th>Soil_Type33</th>\n",
       "      <th>Soil_Type34</th>\n",
       "      <th>Soil_Type35</th>\n",
       "      <th>Soil_Type36</th>\n",
       "      <th>Soil_Type37</th>\n",
       "      <th>Soil_Type38</th>\n",
       "      <th>Soil_Type39</th>\n",
       "      <th>Soil_Type40</th>\n",
       "      <th>Cover_Type</th>\n",
       "    </tr>\n",
       "  </thead>\n",
       "  <tbody>\n",
       "    <tr>\n",
       "      <th>0</th>\n",
       "      <td>0.342276</td>\n",
       "      <td>-0.133105</td>\n",
       "      <td>0.340638</td>\n",
       "      <td>-0.463956</td>\n",
       "      <td>-0.741812</td>\n",
       "      <td>-0.577165</td>\n",
       "      <td>1.240268</td>\n",
       "      <td>-1.039576</td>\n",
       "      <td>0.576575</td>\n",
       "      <td>1.826053</td>\n",
       "      <td>...</td>\n",
       "      <td>-0.199156</td>\n",
       "      <td>-0.197898</td>\n",
       "      <td>-0.10945</td>\n",
       "      <td>-0.125167</td>\n",
       "      <td>-0.10455</td>\n",
       "      <td>-0.11268</td>\n",
       "      <td>-0.204986</td>\n",
       "      <td>-0.201888</td>\n",
       "      <td>-0.177181</td>\n",
       "      <td>-0.863489</td>\n",
       "    </tr>\n",
       "    <tr>\n",
       "      <th>1</th>\n",
       "      <td>-0.775892</td>\n",
       "      <td>-1.206369</td>\n",
       "      <td>-0.831515</td>\n",
       "      <td>1.228123</td>\n",
       "      <td>-0.036873</td>\n",
       "      <td>-0.003095</td>\n",
       "      <td>0.428965</td>\n",
       "      <td>0.447520</td>\n",
       "      <td>-0.381030</td>\n",
       "      <td>0.062194</td>\n",
       "      <td>...</td>\n",
       "      <td>-0.199156</td>\n",
       "      <td>-0.197898</td>\n",
       "      <td>-0.10945</td>\n",
       "      <td>-0.125167</td>\n",
       "      <td>-0.10455</td>\n",
       "      <td>-0.11268</td>\n",
       "      <td>-0.204986</td>\n",
       "      <td>-0.201888</td>\n",
       "      <td>-0.177181</td>\n",
       "      <td>0.256870</td>\n",
       "    </tr>\n",
       "    <tr>\n",
       "      <th>2</th>\n",
       "      <td>-0.702968</td>\n",
       "      <td>-0.596973</td>\n",
       "      <td>-0.714300</td>\n",
       "      <td>-1.004542</td>\n",
       "      <td>-0.903360</td>\n",
       "      <td>1.606882</td>\n",
       "      <td>-1.842684</td>\n",
       "      <td>-0.769195</td>\n",
       "      <td>-0.403830</td>\n",
       "      <td>-1.077612</td>\n",
       "      <td>...</td>\n",
       "      <td>-0.199156</td>\n",
       "      <td>-0.197898</td>\n",
       "      <td>-0.10945</td>\n",
       "      <td>-0.125167</td>\n",
       "      <td>-0.10455</td>\n",
       "      <td>-0.11268</td>\n",
       "      <td>4.878372</td>\n",
       "      <td>-0.201888</td>\n",
       "      <td>-0.177181</td>\n",
       "      <td>0.256870</td>\n",
       "    </tr>\n",
       "    <tr>\n",
       "      <th>3</th>\n",
       "      <td>-0.591846</td>\n",
       "      <td>1.313074</td>\n",
       "      <td>-1.769237</td>\n",
       "      <td>0.067840</td>\n",
       "      <td>-0.697753</td>\n",
       "      <td>-0.744761</td>\n",
       "      <td>-0.674408</td>\n",
       "      <td>0.222203</td>\n",
       "      <td>-0.631831</td>\n",
       "      <td>-1.272906</td>\n",
       "      <td>...</td>\n",
       "      <td>-0.199156</td>\n",
       "      <td>-0.197898</td>\n",
       "      <td>-0.10945</td>\n",
       "      <td>-0.125167</td>\n",
       "      <td>-0.10455</td>\n",
       "      <td>-0.11268</td>\n",
       "      <td>-0.204986</td>\n",
       "      <td>-0.201888</td>\n",
       "      <td>-0.177181</td>\n",
       "      <td>0.256870</td>\n",
       "    </tr>\n",
       "    <tr>\n",
       "      <th>4</th>\n",
       "      <td>-0.088323</td>\n",
       "      <td>1.476792</td>\n",
       "      <td>1.278360</td>\n",
       "      <td>-0.881482</td>\n",
       "      <td>-0.433401</td>\n",
       "      <td>0.864457</td>\n",
       "      <td>0.591225</td>\n",
       "      <td>-0.949449</td>\n",
       "      <td>-0.951033</td>\n",
       "      <td>-0.741174</td>\n",
       "      <td>...</td>\n",
       "      <td>-0.199156</td>\n",
       "      <td>-0.197898</td>\n",
       "      <td>-0.10945</td>\n",
       "      <td>-0.125167</td>\n",
       "      <td>-0.10455</td>\n",
       "      <td>-0.11268</td>\n",
       "      <td>4.878372</td>\n",
       "      <td>-0.201888</td>\n",
       "      <td>-0.177181</td>\n",
       "      <td>0.256870</td>\n",
       "    </tr>\n",
       "  </tbody>\n",
       "</table>\n",
       "<p>5 rows × 55 columns</p>\n",
       "</div>"
      ],
      "text/plain": [
       "   Elevation    Aspect     Slope  Horizontal_Distance_To_Hydrology  \\\n",
       "0   0.342276 -0.133105  0.340638                         -0.463956   \n",
       "1  -0.775892 -1.206369 -0.831515                          1.228123   \n",
       "2  -0.702968 -0.596973 -0.714300                         -1.004542   \n",
       "3  -0.591846  1.313074 -1.769237                          0.067840   \n",
       "4  -0.088323  1.476792  1.278360                         -0.881482   \n",
       "\n",
       "   Vertical_Distance_To_Hydrology  Horizontal_Distance_To_Roadways  \\\n",
       "0                       -0.741812                        -0.577165   \n",
       "1                       -0.036873                        -0.003095   \n",
       "2                       -0.903360                         1.606882   \n",
       "3                       -0.697753                        -0.744761   \n",
       "4                       -0.433401                         0.864457   \n",
       "\n",
       "   Hillshade_9am  Hillshade_Noon  Hillshade_3pm  \\\n",
       "0       1.240268       -1.039576       0.576575   \n",
       "1       0.428965        0.447520      -0.381030   \n",
       "2      -1.842684       -0.769195      -0.403830   \n",
       "3      -0.674408        0.222203      -0.631831   \n",
       "4       0.591225       -0.949449      -0.951033   \n",
       "\n",
       "   Horizontal_Distance_To_Fire_Points  ...  Soil_Type32  Soil_Type33  \\\n",
       "0                            1.826053  ...    -0.199156    -0.197898   \n",
       "1                            0.062194  ...    -0.199156    -0.197898   \n",
       "2                           -1.077612  ...    -0.199156    -0.197898   \n",
       "3                           -1.272906  ...    -0.199156    -0.197898   \n",
       "4                           -0.741174  ...    -0.199156    -0.197898   \n",
       "\n",
       "   Soil_Type34  Soil_Type35  Soil_Type36  Soil_Type37  Soil_Type38  \\\n",
       "0     -0.10945    -0.125167     -0.10455     -0.11268    -0.204986   \n",
       "1     -0.10945    -0.125167     -0.10455     -0.11268    -0.204986   \n",
       "2     -0.10945    -0.125167     -0.10455     -0.11268     4.878372   \n",
       "3     -0.10945    -0.125167     -0.10455     -0.11268    -0.204986   \n",
       "4     -0.10945    -0.125167     -0.10455     -0.11268     4.878372   \n",
       "\n",
       "   Soil_Type39  Soil_Type40  Cover_Type  \n",
       "0    -0.201888    -0.177181   -0.863489  \n",
       "1    -0.201888    -0.177181    0.256870  \n",
       "2    -0.201888    -0.177181    0.256870  \n",
       "3    -0.201888    -0.177181    0.256870  \n",
       "4    -0.201888    -0.177181    0.256870  \n",
       "\n",
       "[5 rows x 55 columns]"
      ]
     },
     "execution_count": 331,
     "metadata": {},
     "output_type": "execute_result"
    }
   ],
   "source": [
    "print(Scaled_X.mean().values, Scaled_X.std().values)\n",
    "Scaled_X.head()"
   ]
  },
  {
   "cell_type": "markdown",
   "metadata": {},
   "source": [
    "**Q4:** \n",
    "\n",
    "1. Check and show if there is any null values in our dataset.\n",
    "2. Print all unique values/ different class id from the ```Y data```.\n",
    "\n",
    "\n",
    "**A4** Fill the cell blocks below, Create new cell as per your necessary"
   ]
  },
  {
   "cell_type": "code",
   "execution_count": 332,
   "metadata": {},
   "outputs": [
    {
     "name": "stdout",
     "output_type": "stream",
     "text": [
      "Elevation                             0\n",
      "Aspect                                0\n",
      "Slope                                 0\n",
      "Horizontal_Distance_To_Hydrology      0\n",
      "Vertical_Distance_To_Hydrology        0\n",
      "Horizontal_Distance_To_Roadways       0\n",
      "Hillshade_9am                         0\n",
      "Hillshade_Noon                        0\n",
      "Hillshade_3pm                         0\n",
      "Horizontal_Distance_To_Fire_Points    0\n",
      "Wilderness_Area1                      0\n",
      "Wilderness_Area2                      0\n",
      "Wilderness_Area3                      0\n",
      "Wilderness_Area4                      0\n",
      "Soil_Type1                            0\n",
      "Soil_Type2                            0\n",
      "Soil_Type3                            0\n",
      "Soil_Type4                            0\n",
      "Soil_Type5                            0\n",
      "Soil_Type6                            0\n",
      "Soil_Type7                            0\n",
      "Soil_Type8                            0\n",
      "Soil_Type9                            0\n",
      "Soil_Type10                           0\n",
      "Soil_Type11                           0\n",
      "Soil_Type12                           0\n",
      "Soil_Type13                           0\n",
      "Soil_Type14                           0\n",
      "Soil_Type15                           0\n",
      "Soil_Type16                           0\n",
      "Soil_Type17                           0\n",
      "Soil_Type18                           0\n",
      "Soil_Type19                           0\n",
      "Soil_Type20                           0\n",
      "Soil_Type21                           0\n",
      "Soil_Type22                           0\n",
      "Soil_Type23                           0\n",
      "Soil_Type24                           0\n",
      "Soil_Type25                           0\n",
      "Soil_Type26                           0\n",
      "Soil_Type27                           0\n",
      "Soil_Type28                           0\n",
      "Soil_Type29                           0\n",
      "Soil_Type30                           0\n",
      "Soil_Type31                           0\n",
      "Soil_Type32                           0\n",
      "Soil_Type33                           0\n",
      "Soil_Type34                           0\n",
      "Soil_Type35                           0\n",
      "Soil_Type36                           0\n",
      "Soil_Type37                           0\n",
      "Soil_Type38                           0\n",
      "Soil_Type39                           0\n",
      "Soil_Type40                           0\n",
      "Cover_Type                            0\n",
      "dtype: int64\n"
     ]
    }
   ],
   "source": [
    "print(x.isnull().sum())\n"
   ]
  },
  {
   "cell_type": "code",
   "execution_count": 333,
   "metadata": {},
   "outputs": [
    {
     "name": "stdout",
     "output_type": "stream",
     "text": [
      "\n",
      " Y unique:\n",
      " [1 2 3 7 6 4]\n"
     ]
    }
   ],
   "source": [
    "print(\"\\n Y unique:\\n\", y.unique())"
   ]
  },
  {
   "cell_type": "markdown",
   "metadata": {},
   "source": [
    "## Part 1: Use a subset of whole data(N=20000) for Data Visualization\n",
    "\n"
   ]
  },
  {
   "cell_type": "markdown",
   "metadata": {},
   "source": [
    "**Data Subset Creation**\n",
    "\n",
    "1. First we are Selecting ```N=20000``` random rows from our dataset and create a new subset of data.\n",
    "\n",
    "2. Using the below **rndperm** and selecting first N index from the ```Scaled_X``` and ```Y```"
   ]
  },
  {
   "cell_type": "code",
   "execution_count": 334,
   "metadata": {},
   "outputs": [
    {
     "name": "stdout",
     "output_type": "stream",
     "text": [
      "(20000, 55) \n",
      " (20000,)\n"
     ]
    }
   ],
   "source": [
    "np.random.seed(42)\n",
    "rndperm = np.random.permutation(Scaled_X.shape[0])\n",
    "N = 20000\n",
    "data_subset_x = Scaled_X.loc[rndperm[:N],:].copy()\n",
    "data_subset_y = y.loc[rndperm[:N]].copy()\n",
    "print(data_subset_x.shape, \"\\n\", data_subset_y.shape)\n"
   ]
  },
  {
   "cell_type": "markdown",
   "metadata": {},
   "source": [
    "Anthony: \n",
    "Removed .loc function due to numpy array (Scaled_X) not having such function"
   ]
  },
  {
   "cell_type": "markdown",
   "metadata": {},
   "source": [
    "**Q5:**\n",
    "\n",
    "1. Use PCA and reduce the dimension of the **data_subset_x** into ```3```.\n",
    "2. Store the PCA reuslt into ```pca_result``` variable\n",
    "3. Add the ```3``` PCA reduced columns into  **data_subset_x** \n",
    "\n",
    "\n",
    "**A5** Fill the below cells. Use extra cells as per your necessary"
   ]
  },
  {
   "cell_type": "code",
   "execution_count": 335,
   "metadata": {},
   "outputs": [
    {
     "name": "stdout",
     "output_type": "stream",
     "text": [
      "(20000, 3)\n",
      "[[ 1.80551143  0.65159099 -0.08750342]\n",
      " [ 0.94526184  0.08537972  3.56520282]\n",
      " [-1.27287745  1.84935163 -1.28069758]\n",
      " ...\n",
      " [-3.51305855  2.10694596  0.34544604]\n",
      " [ 0.9002506  -0.19619492 -1.83615002]\n",
      " [ 1.55435465 -1.12465616 -0.70338639]]\n"
     ]
    }
   ],
   "source": [
    "pca = PCA(n_components= 3)\n",
    "pca.fit(X= data_subset_x)\n",
    "pca_result = pca.transform(data_subset_x)\n",
    "print(pca_result.shape)\n",
    "print(pca_result)"
   ]
  },
  {
   "cell_type": "code",
   "execution_count": 336,
   "metadata": {},
   "outputs": [],
   "source": [
    "data_subset_x['pca-one'] = pca_result[:,0]\n",
    "data_subset_x['pca-two'] = pca_result[:,1]\n",
    "data_subset_x['pca-three'] = pca_result[:,2]"
   ]
  },
  {
   "cell_type": "markdown",
   "metadata": {},
   "source": [
    "**Q6:**\n",
    "\n",
    "1. Use TSNE and reduce the dimension of the **data_subset_x** into ```2```.\n",
    "2. Store the TSNE reuslt into ```tsne_results``` variable\n",
    "3. Add the ```2``` TSNE reduced columns into  **data_subset_x** \n",
    "\n",
    "\n",
    "```Note:``` \n",
    "1. You can use ```from sklearn.manifold import TSNE``` for TSNE initialization.\n",
    "2. Give value of n_components as per the question.\n",
    "3. Also use other parameters while TSNE initialization as, ```verbose=1, perplexity=40, n_iter=300```\n",
    "\n",
    "**A6** Fill the below cells. Use extra cells as per your necessary"
   ]
  },
  {
   "cell_type": "code",
   "execution_count": 337,
   "metadata": {},
   "outputs": [
    {
     "name": "stderr",
     "output_type": "stream",
     "text": [
      "C:\\Users\\antho\\anaconda3\\lib\\site-packages\\sklearn\\manifold\\_t_sne.py:780: FutureWarning: The default initialization in TSNE will change from 'random' to 'pca' in 1.2.\n",
      "  warnings.warn(\n",
      "C:\\Users\\antho\\anaconda3\\lib\\site-packages\\sklearn\\manifold\\_t_sne.py:790: FutureWarning: The default learning rate in TSNE will change from 200.0 to 'auto' in 1.2.\n",
      "  warnings.warn(\n"
     ]
    },
    {
     "name": "stdout",
     "output_type": "stream",
     "text": [
      "[t-SNE] Computing 121 nearest neighbors...\n",
      "[t-SNE] Indexed 20000 samples in 0.011s...\n",
      "[t-SNE] Computed neighbors for 20000 samples in 55.866s...\n",
      "[t-SNE] Computed conditional probabilities for sample 1000 / 20000\n",
      "[t-SNE] Computed conditional probabilities for sample 2000 / 20000\n",
      "[t-SNE] Computed conditional probabilities for sample 3000 / 20000\n",
      "[t-SNE] Computed conditional probabilities for sample 4000 / 20000\n",
      "[t-SNE] Computed conditional probabilities for sample 5000 / 20000\n",
      "[t-SNE] Computed conditional probabilities for sample 6000 / 20000\n",
      "[t-SNE] Computed conditional probabilities for sample 7000 / 20000\n",
      "[t-SNE] Computed conditional probabilities for sample 8000 / 20000\n",
      "[t-SNE] Computed conditional probabilities for sample 9000 / 20000\n",
      "[t-SNE] Computed conditional probabilities for sample 10000 / 20000\n",
      "[t-SNE] Computed conditional probabilities for sample 11000 / 20000\n",
      "[t-SNE] Computed conditional probabilities for sample 12000 / 20000\n",
      "[t-SNE] Computed conditional probabilities for sample 13000 / 20000\n",
      "[t-SNE] Computed conditional probabilities for sample 14000 / 20000\n",
      "[t-SNE] Computed conditional probabilities for sample 15000 / 20000\n",
      "[t-SNE] Computed conditional probabilities for sample 16000 / 20000\n",
      "[t-SNE] Computed conditional probabilities for sample 17000 / 20000\n",
      "[t-SNE] Computed conditional probabilities for sample 18000 / 20000\n",
      "[t-SNE] Computed conditional probabilities for sample 19000 / 20000\n",
      "[t-SNE] Computed conditional probabilities for sample 20000 / 20000\n",
      "[t-SNE] Mean sigma: 1.341820\n",
      "[t-SNE] KL divergence after 250 iterations with early exaggeration: 76.428108\n",
      "[t-SNE] KL divergence after 300 iterations: 3.144526\n"
     ]
    }
   ],
   "source": [
    "tsne = TSNE(n_components= 2, \n",
    "            verbose= 1, \n",
    "            perplexity = 40, \n",
    "            n_iter= 300)\n",
    "tsne_results = tsne.fit_transform(data_subset_x)"
   ]
  },
  {
   "cell_type": "code",
   "execution_count": 338,
   "metadata": {},
   "outputs": [
    {
     "name": "stdout",
     "output_type": "stream",
     "text": [
      "(20000, 2)\n"
     ]
    }
   ],
   "source": [
    "#verify shape of TSNE\n",
    "print(tsne_results.shape)"
   ]
  },
  {
   "cell_type": "code",
   "execution_count": 339,
   "metadata": {},
   "outputs": [],
   "source": [
    "data_subset_x['tsne-2d-one'] = tsne_results[:,0]\n",
    "data_subset_x['tsne-2d-two'] = tsne_results[:,1]"
   ]
  },
  {
   "cell_type": "markdown",
   "metadata": {},
   "source": [
    "**Q7:**\n",
    "\n",
    "1. Create a new dataframe with name ```df_plot```\n",
    "2. This dataframe whill merge everything from **data_subset_x** and **data_subset_y**\n",
    "3. We need to give a name for the ```data_subset_y``` column. Use ```Cover_Type``` as the name of the column\n",
    "\n",
    "\n",
    "**A7** Fill the below cells. Use extra cells as per your necessary"
   ]
  },
  {
   "cell_type": "code",
   "execution_count": 340,
   "metadata": {},
   "outputs": [
    {
     "data": {
      "text/html": [
       "<div>\n",
       "<style scoped>\n",
       "    .dataframe tbody tr th:only-of-type {\n",
       "        vertical-align: middle;\n",
       "    }\n",
       "\n",
       "    .dataframe tbody tr th {\n",
       "        vertical-align: top;\n",
       "    }\n",
       "\n",
       "    .dataframe thead th {\n",
       "        text-align: right;\n",
       "    }\n",
       "</style>\n",
       "<table border=\"1\" class=\"dataframe\">\n",
       "  <thead>\n",
       "    <tr style=\"text-align: right;\">\n",
       "      <th></th>\n",
       "      <th>Elevation</th>\n",
       "      <th>Aspect</th>\n",
       "      <th>Slope</th>\n",
       "      <th>Horizontal_Distance_To_Hydrology</th>\n",
       "      <th>Vertical_Distance_To_Hydrology</th>\n",
       "      <th>Horizontal_Distance_To_Roadways</th>\n",
       "      <th>Hillshade_9am</th>\n",
       "      <th>Hillshade_Noon</th>\n",
       "      <th>Hillshade_3pm</th>\n",
       "      <th>Horizontal_Distance_To_Fire_Points</th>\n",
       "      <th>...</th>\n",
       "      <th>Soil_Type37</th>\n",
       "      <th>Soil_Type38</th>\n",
       "      <th>Soil_Type39</th>\n",
       "      <th>Soil_Type40</th>\n",
       "      <th>Cover_Type</th>\n",
       "      <th>pca-one</th>\n",
       "      <th>pca-two</th>\n",
       "      <th>pca-three</th>\n",
       "      <th>tsne-2d-one</th>\n",
       "      <th>tsne-2d-two</th>\n",
       "    </tr>\n",
       "  </thead>\n",
       "  <tbody>\n",
       "    <tr>\n",
       "      <th>47044</th>\n",
       "      <td>-1.678761</td>\n",
       "      <td>-0.933505</td>\n",
       "      <td>0.809499</td>\n",
       "      <td>-0.121145</td>\n",
       "      <td>-1.270515</td>\n",
       "      <td>-0.455071</td>\n",
       "      <td>-0.739312</td>\n",
       "      <td>0.537647</td>\n",
       "      <td>0.462575</td>\n",
       "      <td>-0.400297</td>\n",
       "      <td>...</td>\n",
       "      <td>-0.11268</td>\n",
       "      <td>-0.204986</td>\n",
       "      <td>-0.201888</td>\n",
       "      <td>-0.177181</td>\n",
       "      <td>3</td>\n",
       "      <td>1.805511</td>\n",
       "      <td>0.651591</td>\n",
       "      <td>-0.087503</td>\n",
       "      <td>5.132165</td>\n",
       "      <td>6.528484</td>\n",
       "    </tr>\n",
       "    <tr>\n",
       "      <th>44295</th>\n",
       "      <td>-0.762002</td>\n",
       "      <td>-0.042150</td>\n",
       "      <td>-0.245439</td>\n",
       "      <td>-0.912247</td>\n",
       "      <td>-0.859301</td>\n",
       "      <td>-1.166403</td>\n",
       "      <td>-0.025365</td>\n",
       "      <td>0.582711</td>\n",
       "      <td>0.143373</td>\n",
       "      <td>-0.305313</td>\n",
       "      <td>...</td>\n",
       "      <td>-0.11268</td>\n",
       "      <td>-0.204986</td>\n",
       "      <td>4.953245</td>\n",
       "      <td>-0.177181</td>\n",
       "      <td>2</td>\n",
       "      <td>0.945262</td>\n",
       "      <td>0.085380</td>\n",
       "      <td>3.565203</td>\n",
       "      <td>9.338666</td>\n",
       "      <td>-1.702256</td>\n",
       "    </tr>\n",
       "    <tr>\n",
       "      <th>74783</th>\n",
       "      <td>-0.748111</td>\n",
       "      <td>0.749155</td>\n",
       "      <td>-0.011008</td>\n",
       "      <td>-0.903457</td>\n",
       "      <td>-0.139677</td>\n",
       "      <td>-0.417912</td>\n",
       "      <td>-2.621535</td>\n",
       "      <td>-0.003115</td>\n",
       "      <td>1.032578</td>\n",
       "      <td>1.141637</td>\n",
       "      <td>...</td>\n",
       "      <td>-0.11268</td>\n",
       "      <td>-0.204986</td>\n",
       "      <td>-0.201888</td>\n",
       "      <td>-0.177181</td>\n",
       "      <td>2</td>\n",
       "      <td>-1.272877</td>\n",
       "      <td>1.849352</td>\n",
       "      <td>-1.280698</td>\n",
       "      <td>7.353817</td>\n",
       "      <td>-1.029844</td>\n",
       "    </tr>\n",
       "    <tr>\n",
       "      <th>70975</th>\n",
       "      <td>-0.400854</td>\n",
       "      <td>-1.233655</td>\n",
       "      <td>-0.362654</td>\n",
       "      <td>-0.547461</td>\n",
       "      <td>-0.771184</td>\n",
       "      <td>-0.234391</td>\n",
       "      <td>0.039539</td>\n",
       "      <td>1.529045</td>\n",
       "      <td>1.739381</td>\n",
       "      <td>1.128322</td>\n",
       "      <td>...</td>\n",
       "      <td>-0.11268</td>\n",
       "      <td>-0.204986</td>\n",
       "      <td>-0.201888</td>\n",
       "      <td>-0.177181</td>\n",
       "      <td>2</td>\n",
       "      <td>0.088097</td>\n",
       "      <td>-0.195748</td>\n",
       "      <td>0.418734</td>\n",
       "      <td>4.200974</td>\n",
       "      <td>1.660371</td>\n",
       "    </tr>\n",
       "    <tr>\n",
       "      <th>46645</th>\n",
       "      <td>-1.595419</td>\n",
       "      <td>-0.033054</td>\n",
       "      <td>0.106207</td>\n",
       "      <td>-0.402426</td>\n",
       "      <td>0.756182</td>\n",
       "      <td>-0.758411</td>\n",
       "      <td>0.396513</td>\n",
       "      <td>1.393855</td>\n",
       "      <td>-0.426630</td>\n",
       "      <td>-0.355024</td>\n",
       "      <td>...</td>\n",
       "      <td>-0.11268</td>\n",
       "      <td>-0.204986</td>\n",
       "      <td>-0.201888</td>\n",
       "      <td>-0.177181</td>\n",
       "      <td>3</td>\n",
       "      <td>1.783682</td>\n",
       "      <td>0.701913</td>\n",
       "      <td>-0.165906</td>\n",
       "      <td>5.062283</td>\n",
       "      <td>5.493229</td>\n",
       "    </tr>\n",
       "  </tbody>\n",
       "</table>\n",
       "<p>5 rows × 60 columns</p>\n",
       "</div>"
      ],
      "text/plain": [
       "       Elevation    Aspect     Slope  Horizontal_Distance_To_Hydrology  \\\n",
       "47044  -1.678761 -0.933505  0.809499                         -0.121145   \n",
       "44295  -0.762002 -0.042150 -0.245439                         -0.912247   \n",
       "74783  -0.748111  0.749155 -0.011008                         -0.903457   \n",
       "70975  -0.400854 -1.233655 -0.362654                         -0.547461   \n",
       "46645  -1.595419 -0.033054  0.106207                         -0.402426   \n",
       "\n",
       "       Vertical_Distance_To_Hydrology  Horizontal_Distance_To_Roadways  \\\n",
       "47044                       -1.270515                        -0.455071   \n",
       "44295                       -0.859301                        -1.166403   \n",
       "74783                       -0.139677                        -0.417912   \n",
       "70975                       -0.771184                        -0.234391   \n",
       "46645                        0.756182                        -0.758411   \n",
       "\n",
       "       Hillshade_9am  Hillshade_Noon  Hillshade_3pm  \\\n",
       "47044      -0.739312        0.537647       0.462575   \n",
       "44295      -0.025365        0.582711       0.143373   \n",
       "74783      -2.621535       -0.003115       1.032578   \n",
       "70975       0.039539        1.529045       1.739381   \n",
       "46645       0.396513        1.393855      -0.426630   \n",
       "\n",
       "       Horizontal_Distance_To_Fire_Points  ...  Soil_Type37  Soil_Type38  \\\n",
       "47044                           -0.400297  ...     -0.11268    -0.204986   \n",
       "44295                           -0.305313  ...     -0.11268    -0.204986   \n",
       "74783                            1.141637  ...     -0.11268    -0.204986   \n",
       "70975                            1.128322  ...     -0.11268    -0.204986   \n",
       "46645                           -0.355024  ...     -0.11268    -0.204986   \n",
       "\n",
       "       Soil_Type39  Soil_Type40  Cover_Type   pca-one   pca-two  pca-three  \\\n",
       "47044    -0.201888    -0.177181           3  1.805511  0.651591  -0.087503   \n",
       "44295     4.953245    -0.177181           2  0.945262  0.085380   3.565203   \n",
       "74783    -0.201888    -0.177181           2 -1.272877  1.849352  -1.280698   \n",
       "70975    -0.201888    -0.177181           2  0.088097 -0.195748   0.418734   \n",
       "46645    -0.201888    -0.177181           3  1.783682  0.701913  -0.165906   \n",
       "\n",
       "       tsne-2d-one  tsne-2d-two  \n",
       "47044     5.132165     6.528484  \n",
       "44295     9.338666    -1.702256  \n",
       "74783     7.353817    -1.029844  \n",
       "70975     4.200974     1.660371  \n",
       "46645     5.062283     5.493229  \n",
       "\n",
       "[5 rows x 60 columns]"
      ]
     },
     "execution_count": 340,
     "metadata": {},
     "output_type": "execute_result"
    }
   ],
   "source": [
    "df_plot= pd.DataFrame(data= data_subset_x, )\n",
    "df_plot['Cover_Type'] = data_subset_y\n",
    "df_plot.head()\n"
   ]
  },
  {
   "cell_type": "markdown",
   "metadata": {},
   "source": [
    "**Q8:** Now we will plot all points from our dataframe ```df_plot``` Using the result from **PCA**\n",
    "\n",
    "1. Use ```pca-one``` and ```pca-two``` column as X and Y axis respectively.\n",
    "2. Use seaborn scatterplot for plotting the points.\n",
    "\n",
    "```Note:``` Use the notebook from class 4/11 for data plotting. The link is provided below.\n",
    "\n",
    "```Link:``` https://git.txstate.edu/ML/2022Spring/blob/master/project/Data_Viz_with_PCA_TSNE.ipynb\n",
    "\n",
    "**A8** Fill the below cells. Use extra cells as per your necessary"
   ]
  },
  {
   "cell_type": "code",
   "execution_count": 341,
   "metadata": {},
   "outputs": [
    {
     "data": {
      "text/plain": [
       "<AxesSubplot:xlabel='pca-one', ylabel='pca-two'>"
      ]
     },
     "execution_count": 341,
     "metadata": {},
     "output_type": "execute_result"
    },
    {
     "data": {
      "image/png": "[encoded data removed]",
      "text/plain": [
       "<Figure size 1152x720 with 1 Axes>"
      ]
     },
     "metadata": {
      "needs_background": "light"
     },
     "output_type": "display_data"
    }
   ],
   "source": [
    "plt.figure(figsize=(16,10))\n",
    "sns.scatterplot(data= df_plot,\n",
    "                x= 'pca-one',\n",
    "                y= 'pca-two',\n",
    "                hue= 'Cover_Type',\n",
    "                legend= 'full',\n",
    "                palette=sns.color_palette(\"hls\"))\n"
   ]
  },
  {
   "cell_type": "markdown",
   "metadata": {},
   "source": [
    "**Q9:** Now we will plot all points from our dataframe ```df_plot``` Using result from T-SNE.\n",
    "\n",
    "1. Use ```tsne-2d-one``` and ```tsne-2d-one``` column as X and Y axis respectively.\n",
    "2. Use seaborn scatterplot for plotting the points.\n",
    "\n",
    "\n",
    "```Note:``` Use the notebook from class 4/11 for data plotting. The link is provided below.\n",
    "\n",
    "```Link:``` https://git.txstate.edu/ML/2022Spring/blob/master/project/Data_Viz_with_PCA_TSNE.ipynb\n",
    "\n",
    "**A9** Fill the below cells. Use extra cells as per your necessary"
   ]
  },
  {
   "cell_type": "code",
   "execution_count": 342,
   "metadata": {},
   "outputs": [
    {
     "data": {
      "text/plain": [
       "<AxesSubplot:xlabel='tsne-2d-two', ylabel='tsne-2d-two'>"
      ]
     },
     "execution_count": 342,
     "metadata": {},
     "output_type": "execute_result"
    },
    {
     "data": {
      "image/png": "[encoded data removed]",
      "text/plain": [
       "<Figure size 1152x720 with 1 Axes>"
      ]
     },
     "metadata": {
      "needs_background": "light"
     },
     "output_type": "display_data"
    }
   ],
   "source": [
    "plt.figure(figsize=(16,10))\n",
    "sns.scatterplot(data= df_plot,\n",
    "                x= 'tsne-2d-two',\n",
    "                y= 'tsne-2d-two',\n",
    "                hue= 'Cover_Type',\n",
    "                legend= 'full',\n",
    "                palette=sns.color_palette(\"hls\"))"
   ]
  },
  {
   "cell_type": "markdown",
   "metadata": {},
   "source": [
    "## Part 2: Data Analysis and Classification Using Entire Dataset"
   ]
  },
  {
   "cell_type": "markdown",
   "metadata": {},
   "source": [
    "**Q10:** Observe the data plotting and find the relation between datapoints and their characteristics.\n",
    "\n",
    "\n",
    "1. Reduce the dimension of our ```Scaled_X``` dataframe to ```3``` using PCA algorithm.\n",
    "2. Store the result into a variable named ```pca_result```\n",
    "3. Create Train data and Test data using the pca_result and Y.\n",
    "\n",
    "```Note:``` \n",
    "1. Consider pca_result as X values, and Y as y values.\n",
    "2. You can use sklearn train_test_split\n",
    "3. Keep Train and Test ratio as : 75%:25%\n",
    "\n",
    "**A10** Fill the below cells. Use extra cells as per your necessary"
   ]
  },
  {
   "cell_type": "code",
   "execution_count": 343,
   "metadata": {},
   "outputs": [],
   "source": [
    "pca = PCA(n_components= 3)\n",
    "pca_result = pca.fit_transform(Scaled_X)"
   ]
  },
  {
   "cell_type": "code",
   "execution_count": 344,
   "metadata": {},
   "outputs": [
    {
     "name": "stdout",
     "output_type": "stream",
     "text": [
      "(60000, 3) (60000,) (20000, 3) (20000,)\n"
     ]
    }
   ],
   "source": [
    "x_train,x_test,y_train,y_test = train_test_split(pca_result, y, train_size= .75)\n",
    "print(x_train.shape, y_train.shape, x_test.shape, y_test.shape)"
   ]
  },
  {
   "cell_type": "markdown",
   "metadata": {},
   "source": [
    "### Now, Select Three best model for our dataset. You have to decide three models which might work well with our dataset. "
   ]
  },
  {
   "cell_type": "markdown",
   "metadata": {
    "id": "NsUM8-i_KhK1"
   },
   "source": [
    "**Q11** \n",
    "\n",
    "**Model Number 1** \n",
    "\n",
    "1. Reason behind choosing the model.\n",
    "2. Create the model using sklearn or any proper library\n",
    "3. Fit the model with the train data \n",
    "4. Get the score from the model using test data\n",
    "\n",
    "**A11** Fill the below cells. Use extra cells as per your necessary"
   ]
  },
  {
   "cell_type": "markdown",
   "metadata": {},
   "source": [
    "```Answer for Q.No:1 goes here```\n",
    "\n",
    "Given the linearity of the graphs for PCA and TSNE, I think using a linear regression model will suffice in accurately representing the data. Using polynomial regression will also help since the data is in seperable chunks and might find a blend between the data"
   ]
  },
  {
   "cell_type": "code",
   "execution_count": null,
   "metadata": {},
   "outputs": [],
   "source": []
  },
  {
   "cell_type": "code",
   "execution_count": 346,
   "metadata": {
    "id": "2QutY2XJWps5"
   },
   "outputs": [
    {
     "name": "stdout",
     "output_type": "stream",
     "text": [
      "(60000, 35)\n",
      "[0.5575632  0.55140724 0.55096114 0.56701075 0.55427867]\n",
      "0.5585186592565545\n",
      "0.42989996110622786\n"
     ]
    }
   ],
   "source": [
    "from sklearn import linear_model\n",
    "from sklearn.model_selection import cross_val_score\n",
    "from sklearn.preprocessing import PolynomialFeatures\n",
    "\n",
    "\n",
    "#initiate the models\n",
    "linearReg = linear_model.LinearRegression()\n",
    "poly = PolynomialFeatures(degree= 4)\n",
    "\n",
    "#fit the model\n",
    "polyData= poly.fit_transform(x_train)\n",
    "print(polyData.shape)\n",
    "linearReg.fit(polyData, y_train)\n",
    "\n",
    "#test the model\n",
    "linearScore = cross_val_score(estimator= linearReg, X= polyData, y= y_train)\n",
    "print(linearScore)\n",
    "print(linearReg.score(polyData, y_train))\n",
    "\n",
    "#test for non polynomial data\n",
    "linearReg.fit(x_train, y_train)\n",
    "print(linearReg.score(x_test, y_test))\n",
    "\n",
    "\n"
   ]
  },
  {
   "cell_type": "markdown",
   "metadata": {},
   "source": [
    "RESULTS: \n",
    "\n",
    "Not good enough, score of 55% is too low"
   ]
  },
  {
   "cell_type": "markdown",
   "metadata": {},
   "source": [
    "**Q12** \n",
    "\n",
    "**Model Number 2** \n",
    "\n",
    "1. Reason behind choosing the model.\n",
    "2. Create the model using sklearn or any proper library\n",
    "3. Fit the model with the train data \n",
    "4. Get the score from the model using test data\n",
    "\n",
    "**A12** Fill the below cells. Use extra cells as per your necessaryReplace ??? with code in the code cell below"
   ]
  },
  {
   "cell_type": "markdown",
   "metadata": {},
   "source": [
    "```Answer for Q.No:1 goes here```\n",
    "\n",
    "SVM will be my next model of choice, since the linearity of the data doesnt help because they are in seperate clusters, maybe SVM can capitalize on the easily seperable data.\n",
    "\n",
    "\n"
   ]
  },
  {
   "cell_type": "code",
   "execution_count": 349,
   "metadata": {},
   "outputs": [
    {
     "name": "stdout",
     "output_type": "stream",
     "text": [
      "{'C': 100}\n",
      "0.9255\n"
     ]
    }
   ],
   "source": [
    "from sklearn.svm import SVC\n",
    "from sklearn.model_selection import GridSearchCV\n",
    "#initiize the model\n",
    "svc = SVC()\n",
    "gridParams = [{'C': [0.01, 0.1, 5, 10, 100]}]\n",
    "\n",
    "#fit the model\n",
    "svc = GridSearchCV(svc, gridParams, scoring = 'accuracy', refit= True)\n",
    "svc.fit(x_train, y_train)\n",
    "\n",
    "#whats the best param?\n",
    "print(svc.best_params_)\n",
    "\n",
    "#test the model\n",
    "print(svc.score(x_test, y_test))"
   ]
  },
  {
   "cell_type": "markdown",
   "metadata": {},
   "source": [
    "**Q13** \n",
    "\n",
    "**Model Number 3** \n",
    "\n",
    "1. Reason behind choosing the model.\n",
    "2. Create the model using sklearn or any proper library\n",
    "3. Fit the model with the train data \n",
    "4. Get the score from the model using test data\n",
    "\n",
    "**A13** Fill the below cells. Use extra cells as per your necessary"
   ]
  },
  {
   "cell_type": "markdown",
   "metadata": {},
   "source": [
    "```Answer for Q.No:1 goes here```\n",
    "Since SVM already did very well considering the stark difference in score from Linear/poly regression and now, I will try Random Forest Tree Classifier due to it being a very well model and see how well it does with the data.\n",
    "\n"
   ]
  },
  {
   "cell_type": "code",
   "execution_count": 351,
   "metadata": {},
   "outputs": [
    {
     "name": "stdout",
     "output_type": "stream",
     "text": [
      "0.92435\n"
     ]
    }
   ],
   "source": [
    "from sklearn.ensemble import RandomForestClassifier\n",
    "\n",
    "#initialize the model\n",
    "rand = RandomForestClassifier()\n",
    "\n",
    "#fit the model\n",
    "rand.fit(x_train, y_train)\n",
    "\n",
    "#test the model\n",
    "print(rand.score(x_test, y_test))"
   ]
  },
  {
   "cell_type": "markdown",
   "metadata": {},
   "source": [
    "**Q14** \n",
    "\n",
    "\n",
    "1. Plot a histogram using Y dataframe and display the per-class data distribution(number of rows per class).\n",
    "2. Also print the number of rows per class as numeric value.\n",
    "\n",
    "**A14** Fill the below cells. Use extra cells as per your necessary"
   ]
  },
  {
   "cell_type": "code",
   "execution_count": 371,
   "metadata": {},
   "outputs": [
    {
     "data": {
      "text/plain": [
       "<AxesSubplot:xlabel='Cover_Type', ylabel='Count'>"
      ]
     },
     "execution_count": 371,
     "metadata": {},
     "output_type": "execute_result"
    },
    {
     "data": {
      "image/png": "[encoded data removed]",
      "text/plain": [
       "<Figure size 432x288 with 1 Axes>"
      ]
     },
     "metadata": {
      "needs_background": "light"
     },
     "output_type": "display_data"
    }
   ],
   "source": [
    "sns.histplot(data= y)"
   ]
  },
  {
   "cell_type": "code",
   "execution_count": 381,
   "metadata": {},
   "outputs": [
    {
     "name": "stdout",
     "output_type": "stream",
     "text": [
      "<bound method IndexOpsMixin.value_counts of 0        1\n",
      "1        2\n",
      "2        2\n",
      "3        2\n",
      "4        2\n",
      "        ..\n",
      "79995    2\n",
      "79996    2\n",
      "79997    1\n",
      "79998    1\n",
      "79999    1\n",
      "Name: Cover_Type, Length: 80000, dtype: int64>\n"
     ]
    }
   ],
   "source": [
    "print(y.value_counts)"
   ]
  },
  {
   "cell_type": "markdown",
   "metadata": {},
   "source": [
    "**Q15** \n",
    "\n",
    "\n",
    "1. From the histogram we can see that the dataset is highly imbalanced.\n",
    "2. Use a proper dataset balancing technique to make the dataset balanced.\n",
    "3. Plot a histogram using new y values and display the per-class data distribution(number of rows per class).\n",
    "\n",
    "```Note:``` Use can use the ```imblearn.over_sampling``` library for this task. But use appropriate strategy for the method.\n",
    "\n",
    "Follow the documentation for details: https://imbalanced-learn.org/stable/references/generated/imblearn.over_sampling.SMOTE.html\n",
    "\n",
    "**A15** Fill the below cells. Use extra cells as per your necessary"
   ]
  },
  {
   "cell_type": "code",
   "execution_count": 385,
   "metadata": {},
   "outputs": [],
   "source": [
    "from imblearn.over_sampling import SMOTE\n",
    "balancer = SMOTE()\n",
    "X_res, y_res= balancer.fit_resample(X= x, y= y)"
   ]
  },
  {
   "cell_type": "code",
   "execution_count": 387,
   "metadata": {},
   "outputs": [
    {
     "data": {
      "text/plain": [
       "<AxesSubplot:xlabel='Cover_Type', ylabel='Count'>"
      ]
     },
     "execution_count": 387,
     "metadata": {},
     "output_type": "execute_result"
    },
    {
     "data": {
      "image/png": "[encoded data removed]",
      "text/plain": [
       "<Figure size 432x288 with 1 Axes>"
      ]
     },
     "metadata": {
      "needs_background": "light"
     },
     "output_type": "display_data"
    }
   ],
   "source": [
    "sns.histplot(data = y_res)"
   ]
  },
  {
   "cell_type": "markdown",
   "metadata": {},
   "source": [
    "**Q16** \n",
    "\n",
    "\n",
    "1. Create new Train and Test data from the balaned X and Y value.\n",
    "2. Keep Train and Test ratio as : 75%:25%\n",
    "\n",
    "**A16** Fill the below cells. Use extra cells as per your necessary"
   ]
  },
  {
   "cell_type": "code",
   "execution_count": 389,
   "metadata": {},
   "outputs": [],
   "source": [
    "x_train,x_test,y_train,y_test = train_test_split(X_res, y_res, train_size= .75)"
   ]
  },
  {
   "cell_type": "markdown",
   "metadata": {},
   "source": [
    "**Q17**\n",
    "\n",
    "### Now, Use the previously initialized three models and calculate the score from our new balanced dataset.\n",
    "\n"
   ]
  },
  {
   "cell_type": "markdown",
   "metadata": {},
   "source": [
    "**Model Number 1** \n",
    "\n",
    "1. Fit the model with the new train data(Use the previous Model 1) \n",
    "2. Get the score from the model using  new test data\n",
    "\n",
    "**A17** Fill the below cells. Use extra cells as per your necessary"
   ]
  },
  {
   "cell_type": "code",
   "execution_count": 394,
   "metadata": {},
   "outputs": [
    {
     "name": "stdout",
     "output_type": "stream",
     "text": [
      "[1. 1. 1. 1. 1.]\n",
      "1.0\n"
     ]
    }
   ],
   "source": [
    "#initiate the models\n",
    "linearReg = linear_model.LinearRegression()\n",
    "\n",
    "#fit the model\n",
    "linearReg.fit(x_train, y_train)\n",
    "\n",
    "#test the model\n",
    "linearScore = cross_val_score(estimator= linearReg, X= x_train, y= y_train)\n",
    "print(linearScore)\n",
    "print(linearReg.score(x_test, y_test))"
   ]
  },
  {
   "cell_type": "markdown",
   "metadata": {},
   "source": [
    "Polynomial data was too large to complete, normal linear is fine. I do not understand the perfect score however"
   ]
  },
  {
   "cell_type": "markdown",
   "metadata": {},
   "source": [
    "**Model Number 2** \n",
    "\n",
    "1. Fit the model with the new train data(Use the previous Model 2) \n",
    "2. Get the score from the model using  new test data\n",
    "\n",
    "Fill the below cells. Use extra cells as per your necessary"
   ]
  },
  {
   "cell_type": "code",
   "execution_count": 395,
   "metadata": {},
   "outputs": [
    {
     "name": "stdout",
     "output_type": "stream",
     "text": [
      "0.9586576589807607\n"
     ]
    }
   ],
   "source": [
    "#initiize the model\n",
    "svc = SVC(C= 100)\n",
    "#gridParams = [{'C': [0.01, 0.1, 5, 10, 100]}]\n",
    "\n",
    "#fit the model\n",
    "svc.fit(x_train, y_train)\n",
    "\n",
    "#test the model        \n",
    "print(svc.score(x_test, y_test))"
   ]
  },
  {
   "cell_type": "markdown",
   "metadata": {},
   "source": [
    "Chose best C score from previous model\n",
    "No need to re-do grid search"
   ]
  },
  {
   "cell_type": "markdown",
   "metadata": {},
   "source": [
    "**Model Number 3** \n",
    "\n",
    "1. Fit the model with the new train data(Use the previous Model 3) \n",
    "2. Get the score from the model using  new test data\n",
    "\n",
    "Fill the below cells. Use extra cells as per your necessary"
   ]
  },
  {
   "cell_type": "code",
   "execution_count": 396,
   "metadata": {},
   "outputs": [
    {
     "name": "stdout",
     "output_type": "stream",
     "text": [
      "0.9999853135555882\n"
     ]
    }
   ],
   "source": [
    "#initialize the model\n",
    "rand = RandomForestClassifier()\n",
    "\n",
    "#fit the model\n",
    "rand.fit(x_train, y_train)\n",
    "\n",
    "#test the model\n",
    "print(rand.score(x_test, y_test))"
   ]
  },
  {
   "cell_type": "markdown",
   "metadata": {},
   "source": [
    "### After making the dataset balanced we can see a significant improve in the performence for all three models."
   ]
  }
 ],
 "metadata": {
  "colab": {
   "collapsed_sections": [],
   "name": "Copy of CS4347-Assignment2-NETID.ipynb",
   "provenance": [
    {
     "file_id": "1vsORsvIGVbJ2cNHR1lIPDIuGobP25ZPq",
     "timestamp": 1629391503766
    },
    {
     "file_id": "1vuQua73YBPg3xOVKXACAGdS_8R1OlQdX",
     "timestamp": 1611597429764
    },
    {
     "file_id": "1Jr8VoifAgTlPqVE_AiCDeWbiHGEyvkxq",
     "timestamp": 1580784119108
    }
   ]
  },
  "interpreter": {
   "hash": "61092feec5071c5645c5e9fd8e6ed751662eaf3fad39a8c2be0e7ae1843d914b"
  },
  "kernelspec": {
   "display_name": "Python 3 (ipykernel)",
   "language": "python",
   "name": "python3"
  },
  "language_info": {
   "codemirror_mode": {
    "name": "ipython",
    "version": 3
   },
   "file_extension": ".py",
   "mimetype": "text/x-python",
   "name": "python",
   "nbconvert_exporter": "python",
   "pygments_lexer": "ipython3",
   "version": "3.9.7"
  }
 },
 "nbformat": 4,
 "nbformat_minor": 2
}
