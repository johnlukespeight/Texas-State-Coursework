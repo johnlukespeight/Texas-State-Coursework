{
 "cells": [
  {
   "cell_type": "markdown",
   "source": [
    "# HW 3\n",
    "\n",
    "**DO NOT ERASE MARKDOWN CELLS AND INSTRUCTIONS IN YOUR HW submission**\n",
    "\n",
    "  * **Q** - QUESTION\n",
    "  * **A** - Where to input your answer\n",
    "\n",
    "Keep the following in mind for all notebooks you develop:\n",
    "* Structure your notebook. \n",
    "* Use headings with meaningful levels in Markdown cells, and explain the questions each piece of code is to answer or the reason it is there.\n",
    "* Make sure your notebook can always be rerun from top to bottom.\n",
    "\n",
    "Provided Jupyter notbook includes several notes, documentation and examples followed by coding challenges. \n",
    "* This assignment will cover several aspects in Python programming. \n",
    "* Python documentation has many examples, you can run these examples in your own version of notebook.\n",
    "  1.   Data Structures | [tutorial](https://docs.python.org/3.8/tutorial/datastructures.html)\n",
    "  2.   Input/Output | [tutorial](https://docs.python.org/3.8/tutorial/inputoutput.html) \n",
    "  3.   Errors and Exceptions | [tutorial](https://docs.python.org/3.8/tutorial/errors.html) \n",
    "  4.   Numpy | [quickstart](https://numpy.org/devdocs/user/quickstart.html)\n",
    "\n",
    "\n",
    "* Follow [README.md](README.md) for homework submission instructions\n",
    "\n",
    "**NOTE** Please start working on this assignment as soon as possible. If you are a beginner in Python this might take a long time. The objective of this assignment is to help you learn python.** \n",
    "\n",
    "In jupyter notebook environment, commands starting with the symbol % are magic commands or magic functions. ```%%timeit``` is one of such function. It basically gives you the speed of execution  of certain statement or blocks of codes."
   ],
   "metadata": {}
  },
  {
   "cell_type": "markdown",
   "source": [
    "\n",
    "## CONTROL FLOWS\n",
    "\n",
    "### If-else statements"
   ],
   "metadata": {
    "id": "0yKUUNHlR53f"
   }
  },
  {
   "cell_type": "code",
   "execution_count": 1,
   "source": [
    "x = int(input('Enter A Number : ')) #Cast to integer\r\n",
    "\r\n",
    "if x>0:\r\n",
    "  print(f'{x} is positive')\r\n",
    "elif x<0:\r\n",
    "  print(f'{x} is negative')\r\n",
    "else:\r\n",
    "  print(f'{x} is neither negative nor positive')"
   ],
   "outputs": [
    {
     "output_type": "stream",
     "name": "stdout",
     "text": [
      "78 is positive\n"
     ]
    }
   ],
   "metadata": {
    "id": "UqEtM9VgRoh6"
   }
  },
  {
   "cell_type": "markdown",
   "source": [
    "**Q1:** Complete the following code below so that: \n",
    "* if the user input is greater than goal_number prompt 'Guess is higher!'\n",
    "* if user input is smaller than goal_number prompt 'Guess is lower!'\n",
    "* if user input is equal to the goal_number prompt 'Congratulations you guessed it right!'\n",
    "\n",
    "**A1** Replace ??? with code in the code cell below"
   ],
   "metadata": {
    "id": "aWziLa7WbpZA"
   }
  },
  {
   "cell_type": "code",
   "execution_count": 4,
   "source": [
    "# A1: fill in ???\r\n",
    "from random import randint\r\n",
    "goal_number = randint(1,101)\r\n",
    "x = int(input('Guess your random number : '))\r\n",
    "\r\n",
    "assert x in range(1, 101), 'YOUR INPUT MUST BE BETWEEN 1 AND 100 INCLUSIVE'\r\n",
    "\r\n",
    "#A1 Enter your code below \r\n",
    "# If user input is greater than goal_number prompt 'Guess is higher!'\r\n",
    "# If user input is smaller than goal_number prompt 'Guess is lower!'\r\n",
    "# If user input is equal to the goal_number prompt 'Congratulations you guessed it right!'\r\n",
    "\r\n",
    "if x>goal_number:\r\n",
    "  print('Guess is higher!')\r\n",
    "elif x<goal_number:\r\n",
    "  print(\"'Guess is lower!'\")\r\n",
    "else:\r\n",
    "  print('Congratulations you guessed it right!')"
   ],
   "outputs": [
    {
     "output_type": "stream",
     "name": "stdout",
     "text": [
      "Guess is higher!\n"
     ]
    }
   ],
   "metadata": {
    "id": "5KA09GE0a7_d"
   }
  },
  {
   "cell_type": "markdown",
   "source": [
    "# while loop\n",
    "  "
   ],
   "metadata": {
    "id": "cB1TvPM7gsHR"
   }
  },
  {
   "cell_type": "markdown",
   "source": [
    "Following is a random math expression generator Just study this code and don't worry about it. We just need it for some math game we are going to make  "
   ],
   "metadata": {}
  },
  {
   "cell_type": "code",
   "execution_count": 5,
   "source": [
    "from time import time\r\n",
    "import random\r\n",
    "random.seed()\r\n",
    "\r\n",
    "# Generate random symbol\r\n",
    "def symbol():\r\n",
    "  return random.choice(['+', '-', '*'])\r\n",
    "\r\n",
    "def symbol_():\r\n",
    "  return random.choice(['','-'])\r\n",
    "\r\n",
    "# Generate random number from 0 to 10\r\n",
    "def num():\r\n",
    "  return random.randint(0,10)\r\n",
    "\r\n",
    "rand_exp = f'{symbol_()} {num()} {symbol()} {num()} {symbol()} {num()} {symbol()} {num()}'\r\n",
    "print(f'rand_exp : {rand_exp}') \r\n",
    "print(f'solution : {rand_exp} = {eval(rand_exp)}') #We can Evaluate this statement"
   ],
   "outputs": [
    {
     "output_type": "stream",
     "name": "stdout",
     "text": [
      "rand_exp :  7 * 7 * 10 + 10\n",
      "solution :  7 * 7 * 10 + 10 = 500\n"
     ]
    }
   ],
   "metadata": {
    "id": "vgcaSt2Dgtey"
   }
  },
  {
   "cell_type": "markdown",
   "source": [
    "Now with the help of above we will design a math-machine-game.Basically you have to keep calculating the value of a mathematical expression correctly.  \n",
    "1) For every question you are give ten seconds.  \n",
    "2) The more questions you answer correctly and the faster, the higher your score.   \n",
    "3) Your total score is the total time you saved out of each ten-second window.  \n",
    "4) If you answer a qustion wrong game will end.  \n",
    "5) If time is runs out the game will end.  \n",
    "\n",
    "\n",
    "This is basically a tutorial to make a very simple game.  \n",
    "You will be using this same idea to make a game that includes guessing a number  "
   ],
   "metadata": {}
  },
  {
   "cell_type": "code",
   "execution_count": 10,
   "source": [
    "def math_machine_game():\r\n",
    "  score = 0\r\n",
    "  total_time = 10\r\n",
    "\r\n",
    "  while(True):\r\n",
    "    rand_exp = f'{symbol_()} {num()} {symbol()} {num()} {symbol()} {num()} {symbol()} {num()}'\r\n",
    "    real_value = eval(rand_exp)\r\n",
    "    timenow = time() #getting current time\r\n",
    "\r\n",
    "    value = int(input(f'{rand_exp} = '))\r\n",
    "    time_elapsed = int(time() - timenow) #just need this to calculate how many secods passed\r\n",
    "    intime = time_elapsed < total_time #is this on time??\r\n",
    "    print(f'time elapsed = {time_elapsed}')\r\n",
    "    print(f'-'*10)\r\n",
    "    if intime:\r\n",
    "      print(f'Great On Time')\r\n",
    "      if real_value == value:\r\n",
    "        score += int(total_time - time_elapsed)\r\n",
    "        print(f'Good one you got this right')\r\n",
    "        print(f'Your score is {score}')\r\n",
    "        print(f'-'*10)\r\n",
    "        continue # What does continue does here?\r\n",
    "      else:\r\n",
    "        print(f'Sorry the correct answer is {real_value}')\r\n",
    "        print(f'-'*10)\r\n",
    "        break # What does break does here?\r\n",
    "    else:\r\n",
    "      print(f'Sorry time expired')\r\n",
    "      print(f'-'*10)\r\n",
    "      break # What does break does here.\r\n",
    "\r\n",
    "  print(f'Final Score is {score}')\r\n",
    "\r\n",
    "math_machine_game()"
   ],
   "outputs": [
    {
     "output_type": "stream",
     "name": "stdout",
     "text": [
      "time elapsed = 6\n",
      "----------\n",
      "Great On Time\n",
      "Good one you got this right\n",
      "Your score is 4\n",
      "----------\n",
      "time elapsed = 5\n",
      "----------\n",
      "Great On Time\n",
      "Good one you got this right\n",
      "Your score is 9\n",
      "----------\n",
      "time elapsed = 3\n",
      "----------\n",
      "Great On Time\n",
      "Good one you got this right\n",
      "Your score is 16\n",
      "----------\n",
      "time elapsed = 15\n",
      "----------\n",
      "Sorry time expired\n",
      "----------\n",
      "Final Score is 16\n"
     ]
    }
   ],
   "metadata": {
    "id": "UFgP9z8nlnbU"
   }
  },
  {
   "cell_type": "markdown",
   "source": [
    "Go to View -> Toggle Line Number (shift L) if you cannot see the line numbers\r\n",
    "\r\n",
    "**Q2** Respond to the following 3 questions related to the code snippet above \r\n",
    "\r\n",
    "1. What is the use of ```continue``` in line 22 in the code above?\r\n",
    "\r\n",
    " The continue statement allows us to move forward with the game. As long as we will give correct answer the while loop  \r\n",
    " will repeat again and again. So, the control of the program will not go below the continue statement if the condition is True.\r\n",
    "\r\n",
    "2. What happens if we replace ```continue``` (line 22) with ```pass``` statement?\r\n",
    "\r\n",
    "Pass is a statement which does nothing inside a block of code. It is used to provide an empty block of statement without any implementation in it. Here replacing the continue statement with pass statement will not hamper the normal flow of the code as there not other statements after the continue statement. So, code will work same as before.\r\n",
    "\r\n",
    "3. What is the use of ```break``` command on lines 26 and 30.    \r\n",
    "\r\n",
    "break statements are used in the above mentioned lines to terminate the while loop when some designed conditions are matched.\r\n",
    "if we do not provide break statement in those lines, the while loop will run for infinite time.\r\n",
    "\r\n",
    "HINT: replace the code, run the cell and explain the outcome "
   ],
   "metadata": {
    "id": "v-aFxbXfSdpA"
   }
  },
  {
   "cell_type": "markdown",
   "source": [
    "## FUNCTIONAL PROGRAMMING"
   ],
   "metadata": {
    "id": "IIntd-qp7EBV"
   }
  },
  {
   "cell_type": "markdown",
   "source": [
    "[lambda operation]: A lambda function is an anynymous function. It simply takes some input, processes it and returns it  \n",
    "You can call it as a one line function as well  \n",
    "\n",
    "Example: a lambda function that takes a,b -> adds them and returns the sume  "
   ],
   "metadata": {}
  },
  {
   "cell_type": "code",
   "execution_count": 11,
   "source": [
    "#lambda\r\n",
    "sumthem = lambda a,b:a+b\r\n",
    "print(f'sumthem(2,3) = {sumthem(2,3)}')\r\n",
    "\r\n",
    "squareit = lambda a:a**2\r\n",
    "print(f'squareit(2) = {squareit(2)}')"
   ],
   "outputs": [
    {
     "output_type": "stream",
     "name": "stdout",
     "text": [
      "sumthem(2,3) = 5\n",
      "squareit(2) = 4\n"
     ]
    }
   ],
   "metadata": {
    "id": "ol4lZgCv6NKQ"
   }
  },
  {
   "cell_type": "markdown",
   "source": [
    "It is not advised to use lambda every time, there are specific uses of lambda operations  \n",
    "To understand this lets discuss another powerful concept called as map  \n",
    "\n",
    "For a list x = [1,3,5,6,7], if I want to find a square of each element, i can use for loop or lambda operator: "
   ],
   "metadata": {}
  },
  {
   "cell_type": "code",
   "execution_count": 12,
   "source": [
    "#For loop \r\n",
    "x = [1,3,5,6,7]\r\n",
    "xsquare = []\r\n",
    "for xi in x:\r\n",
    "  xsquare.append(xi**2)\r\n",
    "print(f'x = {x}')\r\n",
    "print(f'xsquare = {xsquare}')\r\n",
    "\r\n",
    "# Well there is a pythonic way to do this, lets use map\r\n",
    "\r\n",
    "squarewithmap = map(lambda a:a**2, x)\r\n",
    "print(f'squarewithmap = {squarewithmap}')"
   ],
   "outputs": [
    {
     "output_type": "stream",
     "name": "stdout",
     "text": [
      "x = [1, 3, 5, 6, 7]\n",
      "xsquare = [1, 9, 25, 36, 49]\n",
      "squarewithmap = <map object at 0x000000D6387673D0>\n"
     ]
    }
   ],
   "metadata": {}
  },
  {
   "cell_type": "markdown",
   "source": [
    "But that will print map object, you need to convert this into list. You can cast by list(mapobject)"
   ],
   "metadata": {}
  },
  {
   "cell_type": "code",
   "execution_count": 13,
   "source": [
    "#lambda\r\n",
    "squarewithmap = list(map(lambda a:a**2, x))\r\n",
    "print(f'squarewithmap = {squarewithmap}')\r\n",
    "# Or,\r\n",
    "squarewithmap = [*map(lambda a:a**2, x)]\r\n",
    "print(f'squarewithmap = {squarewithmap}')"
   ],
   "outputs": [
    {
     "output_type": "stream",
     "name": "stdout",
     "text": [
      "squarewithmap = [1, 9, 25, 36, 49]\n",
      "squarewithmap = [1, 9, 25, 36, 49]\n"
     ]
    }
   ],
   "metadata": {}
  },
  {
   "cell_type": "markdown",
   "source": [
    "Another important thing is 'filter'. Lets say we want to filter out odd numbers from x.   \n",
    "We can do this by taking only even numbers "
   ],
   "metadata": {}
  },
  {
   "cell_type": "code",
   "execution_count": 14,
   "source": [
    "filtered = [*filter(lambda x:x%2==0,x)]\r\n",
    "print(f'filtered = {filtered}')\r\n",
    "\r\n",
    "# There are many other functional aspects, we suggest you to visit the documentation to learn cool stuff\r\n",
    "# I would love to add those, but already assignment is too long"
   ],
   "outputs": [
    {
     "output_type": "stream",
     "name": "stdout",
     "text": [
      "filtered = [6]\n"
     ]
    }
   ],
   "metadata": {}
  },
  {
   "cell_type": "markdown",
   "source": [
    "**Q3** Fill out two fuctional programming examples in the following code cell. \n",
    "\n",
    "**A3** Replace ? in the code below "
   ],
   "metadata": {
    "id": "tLgwe00m9un8"
   }
  },
  {
   "cell_type": "code",
   "execution_count": 15,
   "source": [
    "#Task 1: Add argument a, b, and c and return the result\r\n",
    "sum3 = lambda a, b, c: a+b+c \r\n",
    "print(f'sum3(1, 2, 3) = {sum3(1, 2, 3)}')\r\n",
    "\r\n",
    "#Task 2: Return True if the input augument is odd number\r\n",
    "isOdd = lambda x: x%2!=0\r\n",
    "print(f' 15 is an odd number : {isOdd(15)}')\r\n"
   ],
   "outputs": [
    {
     "output_type": "stream",
     "name": "stdout",
     "text": [
      "sum3(1, 2, 3) = 6\n",
      " 15 is an odd number : True\n"
     ]
    }
   ],
   "metadata": {
    "colab": {
     "base_uri": "https://localhost:8080/"
    },
    "executionInfo": {
     "elapsed": 374,
     "status": "ok",
     "timestamp": 1611117115987,
     "user": {
      "displayName": "Xiaomin Li",
      "photoUrl": "",
      "userId": "05582660067082111980"
     },
     "user_tz": 360
    },
    "id": "frQPIlth-sP4",
    "outputId": "5cba9045-19f8-4fb4-d10c-f41d1cdf0c5e"
   }
  },
  {
   "cell_type": "markdown",
   "source": [
    "## PANDAS"
   ],
   "metadata": {
    "id": "Xaeevxa8HyMX"
   }
  },
  {
   "cell_type": "markdown",
   "source": [
    "[Pandas](https://pandas.pydata.org/docs/pandas.pdf) is a python library to deal with tabular data. \n",
    "First, we create artificial tabular data using python [faker](https://faker.readthedocs.io/en/master/) python module. \n",
    "\n",
    "If ```faker``` package is not installed, use \n",
    "```conda install faker``` in commandline"
   ],
   "metadata": {}
  },
  {
   "cell_type": "code",
   "execution_count": 16,
   "source": [
    "# Lets use faker\r\n",
    "from faker import Faker\r\n",
    "import random\r\n",
    "random.seed()\r\n",
    "fake = Faker()\r\n",
    "\r\n",
    "#  Lets create some random data of size 100\r\n",
    "data = {'name' : [fake.name() for _ in range(100)],\r\n",
    "        'company' : [fake.company() for _ in range(100)],\r\n",
    "        'salary' : [random.randrange(50000,1000000,10000) for _ in range(100)],\r\n",
    "        'address' : [fake.address() for _ in range(100)]}\r\n"
   ],
   "outputs": [],
   "metadata": {
    "id": "usirwjRxIdK3"
   }
  },
  {
   "cell_type": "code",
   "execution_count": 17,
   "source": [
    "print(data) # See our data"
   ],
   "outputs": [
    {
     "output_type": "stream",
     "name": "stdout",
     "text": [
      "{'name': ['Tina Hansen', 'Edwin Nichols', 'Megan Herman', 'Yvette Compton', 'Joseph Rivera', 'Michelle Hale', 'Nancy Riley', 'Gregory Turner', 'Jennifer Steele', 'Jane Hernandez', 'Tara Hicks', 'Patrick Jackson', 'Kristin Farmer', 'Kristin Dixon', 'Courtney Roberts', 'Crystal Sanchez', 'Melissa Peterson', 'Kaitlyn Wilson', 'Sarah Rose', 'Lee Morris', 'Chelsea Ellis', 'Mary Wallace', 'Jill Villanueva', 'Kathy Powell', 'Natalie Gonzalez', 'Michael Turner', 'Wanda Fernandez', 'Joshua Townsend', 'John Anderson', 'Jeremy Tyler', 'Haley Henry', 'Dawn Riley', 'Nichole Mills', 'Donald Munoz', 'Michael Lloyd', 'Jessica Leon', 'Matthew Ruiz', 'April Mitchell', 'Ryan Robertson', 'Ashley Jones', 'Michael Grant', 'Joanna Byrd', 'Rita Hayden', 'Steven Williams', 'Kevin Gomez', 'Adam Garcia', 'John Ayala', 'John Johnson', 'Elizabeth Lawrence', 'Kelly Martinez', 'Mr. Daniel Wang', 'Juan Alvarado', 'Jacqueline Franklin', 'Daniel Keller', 'James Simmons', 'Kevin Tucker', 'Paul Carter', 'Michael Patel', 'Shawn Serrano', 'Craig Woods', 'Nicole Tate', 'Lori Hickman', 'Joshua Cook', 'Jeffrey Baker', 'Amber Cohen', 'Cameron Gordon', 'Kelly Robinson', 'John Calderon', 'Crystal Stewart DDS', 'Duane Johnson', 'Mackenzie Cabrera', 'Marie Martinez', 'Sharon Dixon', 'Anthony Ramirez', 'Jennifer Hall', 'Kayla Gonzalez', 'Christopher Marshall', 'Ronald Sanchez', 'Andrew Williams', 'Brian Holland', 'Angela Crawford', 'Barbara Mcintosh', 'Sean Marsh', 'Justin Murray', 'Tara Rodriguez', 'Christine Le', 'Ashley Walker', 'Wendy Stewart', 'Robin Schmidt', 'Susan Parker', 'Nancy Stevens', 'Donna Howard', 'Ashley Taylor', 'Autumn Bennett', 'Stacie Anderson', 'Michele Tanner', 'Laurie Powell', 'Marcus Johnson', 'Glenn Walter', 'Nicole Villarreal'], 'company': ['Chapman, Owen and Hernandez', 'Williams Ltd', 'Greene-Reed', 'Wheeler-Andrews', 'Miller and Sons', 'Smith-Smith', 'Thomas Inc', 'Boyer-Graham', 'Gonzalez-Morris', 'Roberts PLC', 'Parsons-Hill', 'Smith-Bass', 'Powers-Ellis', 'Turner-Evans', 'Leblanc, Harris and Morris', 'Williams-Wilson', 'Campos-Jones', 'Dunn Group', 'Moody, Hayes and Turner', 'Freeman-King', 'Olson, Nguyen and Andrade', 'Thomas PLC', 'Alvarez, Howell and King', 'Hayes Inc', 'Dixon-Campbell', 'Houston-Hall', 'Donovan, Hamilton and Lewis', 'Hamilton and Sons', 'Taylor, Carlson and Kaufman', 'Schmidt Group', 'Guerrero Ltd', 'Morton, Wilson and Jones', 'Jones-Robinson', 'Franklin, George and Gibson', 'Gonzalez-Keith', 'Rivera, Erickson and Hernandez', 'Le PLC', 'Davis-Robinson', 'Hernandez-Perez', 'Henry, Nichols and Nelson', 'Daniel, Vincent and Johnson', 'Molina-Carson', 'Thompson, King and Burns', 'Foster, Holland and Stark', 'Powell LLC', 'Alvarez, Sims and Santos', 'Ortiz and Sons', 'Lee-Mann', 'Harrison, Ramirez and Schmidt', 'Hoover Ltd', 'Franklin and Sons', 'Chaney Inc', 'Gonzalez and Sons', 'Dyer Group', 'Cox, Griffin and Swanson', 'Ramos-Stafford', 'Stone-Barry', 'Horton-Rodriguez', 'Camacho-Moss', 'Hill Inc', 'Lee-Durham', 'Collins, Wade and Lopez', 'Deleon, Ellis and Powell', 'Tate-Palmer', 'Doyle-Martinez', 'Matthews PLC', 'Miller-Wright', 'Swanson LLC', 'Torres, Washington and Murphy', 'Flores LLC', 'Morales-Curry', 'Garcia LLC', 'Allen, Cox and Kaiser', 'Hamilton-Montgomery', 'Stevens-Avila', 'Gutierrez-Tran', 'Rivas Inc', 'Anderson-Gutierrez', 'Harris, Kane and Singh', 'Jackson, Gordon and Craig', 'Lee, Patterson and Johnson', 'Levy-Avery', 'Hall-Davis', 'Peterson, Hull and Butler', 'Williams-Collins', 'Dunn-Rodriguez', 'Soto-Christensen', 'Barajas, Herman and Hall', 'Hernandez LLC', 'Carr, Moore and Garcia', 'Cunningham, Nelson and Price', 'Barrett-Castillo', 'Jenkins, Garza and Johnson', 'Stewart, Rivera and Newman', 'Decker, Torres and Anderson', 'Fisher, King and Castillo', 'Evans LLC', 'Lee-Sullivan', 'Clark, Espinoza and Moore', 'Riley-Brown'], 'salary': [810000, 780000, 440000, 560000, 780000, 600000, 860000, 710000, 310000, 550000, 660000, 130000, 360000, 760000, 760000, 280000, 660000, 330000, 390000, 170000, 810000, 780000, 420000, 830000, 960000, 300000, 360000, 640000, 510000, 660000, 950000, 120000, 700000, 430000, 360000, 340000, 680000, 140000, 430000, 840000, 760000, 280000, 470000, 250000, 600000, 320000, 680000, 310000, 260000, 320000, 710000, 440000, 180000, 340000, 670000, 130000, 920000, 800000, 60000, 940000, 140000, 870000, 960000, 500000, 180000, 70000, 570000, 120000, 540000, 680000, 500000, 990000, 150000, 790000, 340000, 920000, 240000, 530000, 700000, 850000, 960000, 400000, 470000, 550000, 810000, 330000, 720000, 740000, 120000, 350000, 950000, 830000, 250000, 950000, 510000, 100000, 210000, 610000, 790000, 310000], 'address': ['94348 Kathryn Street\\nNew Dennis, SD 55325', '05962 Wise Hill Apt. 447\\nHuberchester, ND 81670', '30314 Nancy Lodge Apt. 810\\nMasonchester, ID 16774', '4622 Powell Islands Apt. 558\\nThomasville, HI 43845', '8104 James Motorway\\nLake Kara, PA 08266', '046 Glenn Ferry\\nBrownside, LA 06458', '4912 Mike Junctions\\nLake Victoriamouth, HI 95323', '77383 Campbell Springs Apt. 481\\nPort Melissaport, ME 12416', '3790 Michael Cove Suite 425\\nGaryshire, MT 75606', 'USCGC Mccormick\\nFPO AP 33477', '9359 Torres Oval\\nPort Carrie, IN 21393', '1224 Marcia Route Apt. 318\\nSouth Denise, MA 87011', '3271 Wright Radial Apt. 573\\nMendozastad, AZ 84242', '24268 Rebecca Terrace Suite 665\\nNorth Sabrinabury, MO 27824', '377 Patterson Neck Suite 171\\nMichaelmouth, MO 69421', '720 Robin Orchard\\nRebeccaport, ID 92901', '046 Sandoval Point\\nGordonmouth, NH 04040', '75031 Chandler Parkway\\nDominiqueland, KS 18757', '33320 Campbell Loop Apt. 067\\nLorifort, OH 49419', '81601 Lopez Landing Suite 994\\nGreenburgh, ND 54107', '99466 Lauren Key\\nEast Carolyn, NH 81576', '0696 Jennifer Alley Apt. 694\\nLeslietown, OR 38568', '705 Chavez Trail Suite 403\\nWest Danielberg, WA 03440', '114 Goodwin Walks\\nWest Jamieside, DC 79406', '048 Brian Forges Apt. 462\\nMejiaborough, AK 81934', '2741 Banks Courts\\nNorth Kristen, NC 58308', '87102 Kristen Station Apt. 371\\nSouth Faith, PA 17042', '8705 Mathews Green Apt. 003\\nTamaraview, VT 78137', '40375 Maxwell Corners\\nNew Robinfort, MO 60010', '89757 Miller Path\\nCarneyfort, VT 49937', 'USS Hill\\nFPO AE 23820', '252 Dennis Island Apt. 101\\nSouth Christina, ID 98320', '34249 Roberts Lights Suite 467\\nLake Margaret, NE 57365', 'Unit 5495 Box 6830\\nDPO AA 74538', 'Unit 8331 Box 2484\\nDPO AA 13279', '017 Sheppard Cliffs Apt. 298\\nSouth Tracyview, SD 31978', '15893 Gomez Points\\nMirandaport, HI 54129', '70612 Snyder Causeway Apt. 726\\nWest Amyport, NY 25865', '128 Martin Lodge Apt. 070\\nEast Elizabeth, AL 48476', '34971 Jacqueline Park\\nNorth Shannon, VA 25300', '77673 Gray Harbor Apt. 453\\nMorganfurt, CO 62109', 'Unit 3314 Box 7188\\nDPO AP 10484', '075 Douglas Groves Apt. 808\\nMarshallville, CO 70892', '8207 Brown Mill Apt. 420\\nWest Josephbury, FL 22652', '160 Taylor Square\\nLake Leroy, RI 53136', '337 Smith Road Apt. 991\\nDylanview, MT 59999', '45116 Jacob Parks Apt. 067\\nRodneyberg, OR 74635', '91323 Martin Rapid Suite 316\\nLake Austinside, MD 83047', '1265 Schultz Pass Apt. 735\\nGarciaville, AK 83841', 'USS Crawford\\nFPO AP 75601', '75876 Eddie Keys\\nLake Alexaport, CO 66861', '92177 Jerome Fields\\nWest Kristinafurt, IN 82719', '6633 Duran Roads\\nWest Toniton, FL 17327', '68559 Paige Park Apt. 094\\nNew Jamesside, LA 24467', '2727 Nathan Knoll\\nChangshire, OH 19365', '570 Bolton Key Apt. 121\\nGarystad, HI 30304', '04412 Matthew Spur\\nDavidville, MD 26776', '224 Johnson Station Apt. 165\\nEast Stuart, OK 80188', 'USNS Martinez\\nFPO AE 72964', '51411 Carl Burgs\\nNew Erik, CO 69559', '862 Brooke Alley\\nPort Joshua, HI 75082', '21600 Joseph Motorway\\nSouth Karimouth, IN 55770', 'USNS Dixon\\nFPO AP 95993', '80079 Zachary Rapids\\nWest William, PA 42301', '502 Williams Key\\nJoneschester, SC 39738', '125 Adam Skyway\\nKevinborough, MD 05249', '53225 Lonnie Forge Apt. 066\\nWatkinstown, CA 37137', '84256 Morrow Loaf\\nNew Craigton, OH 22341', '2018 Tiffany Falls\\nNew Ann, HI 83073', '762 Tina Field Apt. 299\\nSullivanside, SD 60151', '82193 Christopher Ways Suite 203\\nWest Nicholas, WI 15099', '889 Rodriguez Island\\nPort Gina, TX 07694', '428 Andrew Forks\\nNew Johntown, IN 90969', '05362 George Spring\\nSouth Graceland, OR 03143', '8861 Lisa Parkways Apt. 641\\nPort Curtisfort, NM 70802', '700 Craig Corners\\nElliottburgh, WI 70611', '4839 Tommy Overpass\\nWarrenville, ND 35008', '92595 Reynolds Walk\\nPort Melissa, SC 99453', '35511 James Well Suite 905\\nRiveraberg, LA 05947', '163 Caitlin Isle Apt. 817\\nNorth Frankton, KS 18876', '58645 Lindsey Estates\\nSamanthatown, MI 76491', '4581 Ryan Cliff\\nAndrewbury, DE 64370', '20067 Chris Wall\\nPort Debraport, KS 94224', 'USNV Shepherd\\nFPO AE 21525', '74530 Chelsea Square Suite 207\\nLucasland, DC 37517', '8844 Thomas Loop\\nRangelfurt, WV 97941', '274 Lane Locks\\nFisherport, AK 85819', '57755 Rhodes Stream Suite 998\\nChristopherbury, DE 98421', 'USCGC Mcdonald\\nFPO AP 13339', 'Unit 0173 Box 3712\\nDPO AP 76658', '91159 Christopher Highway Apt. 529\\nRhondatown, NJ 94077', '2961 Alvarez Groves Apt. 173\\nNew Joanna, CO 05296', '4549 Rhonda Way Suite 345\\nShelbyshire, RI 66758', '6175 Brian Dale Apt. 550\\nDebraside, TN 73752', '3747 Rodriguez Turnpike Suite 986\\nSouth Elizabeth, NC 25510', 'Unit 3834 Box 5056\\nDPO AP 51415', '378 Tucker Locks Apt. 647\\nWest Teresachester, IA 93795', '83337 Hogan Inlet Suite 026\\nCoxhaven, IN 03816', '650 Elizabeth Creek\\nEast Ericamouth, FL 30737', '196 Jamie Creek\\nDavidhaven, AK 68131']}\n"
     ]
    }
   ],
   "metadata": {
    "id": "LWCS5IvZIs9q"
   }
  },
  {
   "cell_type": "markdown",
   "source": [
    "### Well, now we can use panda dataframe to make this data more neat"
   ],
   "metadata": {}
  },
  {
   "cell_type": "code",
   "execution_count": 19,
   "source": [
    "import pandas as pd\r\n",
    "df = pd.DataFrame(data = data, columns = data.keys())\r\n",
    "df.head()"
   ],
   "outputs": [
    {
     "output_type": "execute_result",
     "data": {
      "text/html": [
       "<div>\n",
       "<style scoped>\n",
       "    .dataframe tbody tr th:only-of-type {\n",
       "        vertical-align: middle;\n",
       "    }\n",
       "\n",
       "    .dataframe tbody tr th {\n",
       "        vertical-align: top;\n",
       "    }\n",
       "\n",
       "    .dataframe thead th {\n",
       "        text-align: right;\n",
       "    }\n",
       "</style>\n",
       "<table border=\"1\" class=\"dataframe\">\n",
       "  <thead>\n",
       "    <tr style=\"text-align: right;\">\n",
       "      <th></th>\n",
       "      <th>name</th>\n",
       "      <th>company</th>\n",
       "      <th>salary</th>\n",
       "      <th>address</th>\n",
       "    </tr>\n",
       "  </thead>\n",
       "  <tbody>\n",
       "    <tr>\n",
       "      <th>0</th>\n",
       "      <td>Tina Hansen</td>\n",
       "      <td>Chapman, Owen and Hernandez</td>\n",
       "      <td>810000</td>\n",
       "      <td>94348 Kathryn Street\\nNew Dennis, SD 55325</td>\n",
       "    </tr>\n",
       "    <tr>\n",
       "      <th>1</th>\n",
       "      <td>Edwin Nichols</td>\n",
       "      <td>Williams Ltd</td>\n",
       "      <td>780000</td>\n",
       "      <td>05962 Wise Hill Apt. 447\\nHuberchester, ND 81670</td>\n",
       "    </tr>\n",
       "    <tr>\n",
       "      <th>2</th>\n",
       "      <td>Megan Herman</td>\n",
       "      <td>Greene-Reed</td>\n",
       "      <td>440000</td>\n",
       "      <td>30314 Nancy Lodge Apt. 810\\nMasonchester, ID 1...</td>\n",
       "    </tr>\n",
       "    <tr>\n",
       "      <th>3</th>\n",
       "      <td>Yvette Compton</td>\n",
       "      <td>Wheeler-Andrews</td>\n",
       "      <td>560000</td>\n",
       "      <td>4622 Powell Islands Apt. 558\\nThomasville, HI ...</td>\n",
       "    </tr>\n",
       "    <tr>\n",
       "      <th>4</th>\n",
       "      <td>Joseph Rivera</td>\n",
       "      <td>Miller and Sons</td>\n",
       "      <td>780000</td>\n",
       "      <td>8104 James Motorway\\nLake Kara, PA 08266</td>\n",
       "    </tr>\n",
       "  </tbody>\n",
       "</table>\n",
       "</div>"
      ],
      "text/plain": [
       "             name                      company  salary  \\\n",
       "0     Tina Hansen  Chapman, Owen and Hernandez  810000   \n",
       "1   Edwin Nichols                 Williams Ltd  780000   \n",
       "2    Megan Herman                  Greene-Reed  440000   \n",
       "3  Yvette Compton              Wheeler-Andrews  560000   \n",
       "4   Joseph Rivera              Miller and Sons  780000   \n",
       "\n",
       "                                             address  \n",
       "0         94348 Kathryn Street\\nNew Dennis, SD 55325  \n",
       "1   05962 Wise Hill Apt. 447\\nHuberchester, ND 81670  \n",
       "2  30314 Nancy Lodge Apt. 810\\nMasonchester, ID 1...  \n",
       "3  4622 Powell Islands Apt. 558\\nThomasville, HI ...  \n",
       "4           8104 James Motorway\\nLake Kara, PA 08266  "
      ]
     },
     "metadata": {},
     "execution_count": 19
    }
   ],
   "metadata": {
    "id": "WOrV-AcMIzgM"
   }
  },
  {
   "cell_type": "code",
   "execution_count": 20,
   "source": [
    "df.describe() # Interesting things about this data frame is we can see the summary of data"
   ],
   "outputs": [
    {
     "output_type": "execute_result",
     "data": {
      "text/html": [
       "<div>\n",
       "<style scoped>\n",
       "    .dataframe tbody tr th:only-of-type {\n",
       "        vertical-align: middle;\n",
       "    }\n",
       "\n",
       "    .dataframe tbody tr th {\n",
       "        vertical-align: top;\n",
       "    }\n",
       "\n",
       "    .dataframe thead th {\n",
       "        text-align: right;\n",
       "    }\n",
       "</style>\n",
       "<table border=\"1\" class=\"dataframe\">\n",
       "  <thead>\n",
       "    <tr style=\"text-align: right;\">\n",
       "      <th></th>\n",
       "      <th>salary</th>\n",
       "    </tr>\n",
       "  </thead>\n",
       "  <tbody>\n",
       "    <tr>\n",
       "      <th>count</th>\n",
       "      <td>100.000000</td>\n",
       "    </tr>\n",
       "    <tr>\n",
       "      <th>mean</th>\n",
       "      <td>532000.000000</td>\n",
       "    </tr>\n",
       "    <tr>\n",
       "      <th>std</th>\n",
       "      <td>266412.757907</td>\n",
       "    </tr>\n",
       "    <tr>\n",
       "      <th>min</th>\n",
       "      <td>60000.000000</td>\n",
       "    </tr>\n",
       "    <tr>\n",
       "      <th>25%</th>\n",
       "      <td>317500.000000</td>\n",
       "    </tr>\n",
       "    <tr>\n",
       "      <th>50%</th>\n",
       "      <td>535000.000000</td>\n",
       "    </tr>\n",
       "    <tr>\n",
       "      <th>75%</th>\n",
       "      <td>765000.000000</td>\n",
       "    </tr>\n",
       "    <tr>\n",
       "      <th>max</th>\n",
       "      <td>990000.000000</td>\n",
       "    </tr>\n",
       "  </tbody>\n",
       "</table>\n",
       "</div>"
      ],
      "text/plain": [
       "              salary\n",
       "count     100.000000\n",
       "mean   532000.000000\n",
       "std    266412.757907\n",
       "min     60000.000000\n",
       "25%    317500.000000\n",
       "50%    535000.000000\n",
       "75%    765000.000000\n",
       "max    990000.000000"
      ]
     },
     "metadata": {},
     "execution_count": 20
    }
   ],
   "metadata": {
    "id": "5oydGZMVJBxj"
   }
  },
  {
   "cell_type": "markdown",
   "source": [
    "So since salary is only a column with numeric values, we get only salary statistics  \n",
    "You can access each column by following two ways  \n",
    "Lets access salary  "
   ],
   "metadata": {}
  },
  {
   "cell_type": "code",
   "execution_count": 21,
   "source": [
    "\r\n",
    "df.salary"
   ],
   "outputs": [
    {
     "output_type": "execute_result",
     "data": {
      "text/plain": [
       "0     810000\n",
       "1     780000\n",
       "2     440000\n",
       "3     560000\n",
       "4     780000\n",
       "       ...  \n",
       "95    100000\n",
       "96    210000\n",
       "97    610000\n",
       "98    790000\n",
       "99    310000\n",
       "Name: salary, Length: 100, dtype: int64"
      ]
     },
     "metadata": {},
     "execution_count": 21
    }
   ],
   "metadata": {
    "id": "0BZVOiPNJyex"
   }
  },
  {
   "cell_type": "code",
   "execution_count": 22,
   "source": [
    "df['salary'] # Similarly another way "
   ],
   "outputs": [
    {
     "output_type": "execute_result",
     "data": {
      "text/plain": [
       "0     810000\n",
       "1     780000\n",
       "2     440000\n",
       "3     560000\n",
       "4     780000\n",
       "       ...  \n",
       "95    100000\n",
       "96    210000\n",
       "97    610000\n",
       "98    790000\n",
       "99    310000\n",
       "Name: salary, Length: 100, dtype: int64"
      ]
     },
     "metadata": {},
     "execution_count": 22
    }
   ],
   "metadata": {
    "id": "UiypF01hJ77M"
   }
  },
  {
   "cell_type": "markdown",
   "source": [
    "For further more indexing of data frame please review panda documentation  \n",
    "Now lets do some interesting stuff, lets create a column that has an information about if that person salary is above 500k  "
   ],
   "metadata": {}
  },
  {
   "cell_type": "code",
   "execution_count": 23,
   "source": [
    "df['above500k'] = df.salary > 500000\r\n",
    "\r\n",
    "df.head() # Now lets review our dataframe"
   ],
   "outputs": [
    {
     "output_type": "execute_result",
     "data": {
      "text/html": [
       "<div>\n",
       "<style scoped>\n",
       "    .dataframe tbody tr th:only-of-type {\n",
       "        vertical-align: middle;\n",
       "    }\n",
       "\n",
       "    .dataframe tbody tr th {\n",
       "        vertical-align: top;\n",
       "    }\n",
       "\n",
       "    .dataframe thead th {\n",
       "        text-align: right;\n",
       "    }\n",
       "</style>\n",
       "<table border=\"1\" class=\"dataframe\">\n",
       "  <thead>\n",
       "    <tr style=\"text-align: right;\">\n",
       "      <th></th>\n",
       "      <th>name</th>\n",
       "      <th>company</th>\n",
       "      <th>salary</th>\n",
       "      <th>address</th>\n",
       "      <th>above500k</th>\n",
       "    </tr>\n",
       "  </thead>\n",
       "  <tbody>\n",
       "    <tr>\n",
       "      <th>0</th>\n",
       "      <td>Tina Hansen</td>\n",
       "      <td>Chapman, Owen and Hernandez</td>\n",
       "      <td>810000</td>\n",
       "      <td>94348 Kathryn Street\\nNew Dennis, SD 55325</td>\n",
       "      <td>True</td>\n",
       "    </tr>\n",
       "    <tr>\n",
       "      <th>1</th>\n",
       "      <td>Edwin Nichols</td>\n",
       "      <td>Williams Ltd</td>\n",
       "      <td>780000</td>\n",
       "      <td>05962 Wise Hill Apt. 447\\nHuberchester, ND 81670</td>\n",
       "      <td>True</td>\n",
       "    </tr>\n",
       "    <tr>\n",
       "      <th>2</th>\n",
       "      <td>Megan Herman</td>\n",
       "      <td>Greene-Reed</td>\n",
       "      <td>440000</td>\n",
       "      <td>30314 Nancy Lodge Apt. 810\\nMasonchester, ID 1...</td>\n",
       "      <td>False</td>\n",
       "    </tr>\n",
       "    <tr>\n",
       "      <th>3</th>\n",
       "      <td>Yvette Compton</td>\n",
       "      <td>Wheeler-Andrews</td>\n",
       "      <td>560000</td>\n",
       "      <td>4622 Powell Islands Apt. 558\\nThomasville, HI ...</td>\n",
       "      <td>True</td>\n",
       "    </tr>\n",
       "    <tr>\n",
       "      <th>4</th>\n",
       "      <td>Joseph Rivera</td>\n",
       "      <td>Miller and Sons</td>\n",
       "      <td>780000</td>\n",
       "      <td>8104 James Motorway\\nLake Kara, PA 08266</td>\n",
       "      <td>True</td>\n",
       "    </tr>\n",
       "  </tbody>\n",
       "</table>\n",
       "</div>"
      ],
      "text/plain": [
       "             name                      company  salary  \\\n",
       "0     Tina Hansen  Chapman, Owen and Hernandez  810000   \n",
       "1   Edwin Nichols                 Williams Ltd  780000   \n",
       "2    Megan Herman                  Greene-Reed  440000   \n",
       "3  Yvette Compton              Wheeler-Andrews  560000   \n",
       "4   Joseph Rivera              Miller and Sons  780000   \n",
       "\n",
       "                                             address  above500k  \n",
       "0         94348 Kathryn Street\\nNew Dennis, SD 55325       True  \n",
       "1   05962 Wise Hill Apt. 447\\nHuberchester, ND 81670       True  \n",
       "2  30314 Nancy Lodge Apt. 810\\nMasonchester, ID 1...      False  \n",
       "3  4622 Powell Islands Apt. 558\\nThomasville, HI ...       True  \n",
       "4           8104 James Motorway\\nLake Kara, PA 08266       True  "
      ]
     },
     "metadata": {},
     "execution_count": 23
    }
   ],
   "metadata": {
    "id": "N9eoyzhaKJot"
   }
  },
  {
   "cell_type": "markdown",
   "source": [
    "Now lets say we wan't to do even more complicated stuff  \n",
    "We want to add a status column that has following information  \n",
    "If salary is between 0 to 500k we will write '0k-500k USD' else we will write '500k-1M USD' in 'status' column  \n",
    "This can be done easily  "
   ],
   "metadata": {}
  },
  {
   "cell_type": "code",
   "execution_count": 24,
   "source": [
    "df['status'] = df.salary.apply(lambda x:'0k-500k USD' if x in range(0,500000) else '500k-1M USD')\r\n",
    "\r\n",
    "# Now lets see our data frame\r\n",
    "df.head()"
   ],
   "outputs": [
    {
     "output_type": "execute_result",
     "data": {
      "text/html": [
       "<div>\n",
       "<style scoped>\n",
       "    .dataframe tbody tr th:only-of-type {\n",
       "        vertical-align: middle;\n",
       "    }\n",
       "\n",
       "    .dataframe tbody tr th {\n",
       "        vertical-align: top;\n",
       "    }\n",
       "\n",
       "    .dataframe thead th {\n",
       "        text-align: right;\n",
       "    }\n",
       "</style>\n",
       "<table border=\"1\" class=\"dataframe\">\n",
       "  <thead>\n",
       "    <tr style=\"text-align: right;\">\n",
       "      <th></th>\n",
       "      <th>name</th>\n",
       "      <th>company</th>\n",
       "      <th>salary</th>\n",
       "      <th>address</th>\n",
       "      <th>above500k</th>\n",
       "      <th>status</th>\n",
       "    </tr>\n",
       "  </thead>\n",
       "  <tbody>\n",
       "    <tr>\n",
       "      <th>0</th>\n",
       "      <td>Tina Hansen</td>\n",
       "      <td>Chapman, Owen and Hernandez</td>\n",
       "      <td>810000</td>\n",
       "      <td>94348 Kathryn Street\\nNew Dennis, SD 55325</td>\n",
       "      <td>True</td>\n",
       "      <td>500k-1M USD</td>\n",
       "    </tr>\n",
       "    <tr>\n",
       "      <th>1</th>\n",
       "      <td>Edwin Nichols</td>\n",
       "      <td>Williams Ltd</td>\n",
       "      <td>780000</td>\n",
       "      <td>05962 Wise Hill Apt. 447\\nHuberchester, ND 81670</td>\n",
       "      <td>True</td>\n",
       "      <td>500k-1M USD</td>\n",
       "    </tr>\n",
       "    <tr>\n",
       "      <th>2</th>\n",
       "      <td>Megan Herman</td>\n",
       "      <td>Greene-Reed</td>\n",
       "      <td>440000</td>\n",
       "      <td>30314 Nancy Lodge Apt. 810\\nMasonchester, ID 1...</td>\n",
       "      <td>False</td>\n",
       "      <td>0k-500k USD</td>\n",
       "    </tr>\n",
       "    <tr>\n",
       "      <th>3</th>\n",
       "      <td>Yvette Compton</td>\n",
       "      <td>Wheeler-Andrews</td>\n",
       "      <td>560000</td>\n",
       "      <td>4622 Powell Islands Apt. 558\\nThomasville, HI ...</td>\n",
       "      <td>True</td>\n",
       "      <td>500k-1M USD</td>\n",
       "    </tr>\n",
       "    <tr>\n",
       "      <th>4</th>\n",
       "      <td>Joseph Rivera</td>\n",
       "      <td>Miller and Sons</td>\n",
       "      <td>780000</td>\n",
       "      <td>8104 James Motorway\\nLake Kara, PA 08266</td>\n",
       "      <td>True</td>\n",
       "      <td>500k-1M USD</td>\n",
       "    </tr>\n",
       "  </tbody>\n",
       "</table>\n",
       "</div>"
      ],
      "text/plain": [
       "             name                      company  salary  \\\n",
       "0     Tina Hansen  Chapman, Owen and Hernandez  810000   \n",
       "1   Edwin Nichols                 Williams Ltd  780000   \n",
       "2    Megan Herman                  Greene-Reed  440000   \n",
       "3  Yvette Compton              Wheeler-Andrews  560000   \n",
       "4   Joseph Rivera              Miller and Sons  780000   \n",
       "\n",
       "                                             address  above500k       status  \n",
       "0         94348 Kathryn Street\\nNew Dennis, SD 55325       True  500k-1M USD  \n",
       "1   05962 Wise Hill Apt. 447\\nHuberchester, ND 81670       True  500k-1M USD  \n",
       "2  30314 Nancy Lodge Apt. 810\\nMasonchester, ID 1...      False  0k-500k USD  \n",
       "3  4622 Powell Islands Apt. 558\\nThomasville, HI ...       True  500k-1M USD  \n",
       "4           8104 James Motorway\\nLake Kara, PA 08266       True  500k-1M USD  "
      ]
     },
     "metadata": {},
     "execution_count": 24
    }
   ],
   "metadata": {
    "id": "pgh2QjbnOExD"
   }
  },
  {
   "cell_type": "markdown",
   "source": [
    "Now Lets say we wan't to save our data frame in csv format  \n",
    "We can do so by following steps  "
   ],
   "metadata": {}
  },
  {
   "cell_type": "code",
   "execution_count": 26,
   "source": [
    "\r\n",
    "df.to_csv('fakedata.csv', index = None) #I am not preserving index here"
   ],
   "outputs": [],
   "metadata": {
    "id": "K1iCldU-KL-o"
   }
  },
  {
   "cell_type": "code",
   "execution_count": 27,
   "source": [
    "# Lets see if we have saved the data frame \r\n",
    "%ls"
   ],
   "outputs": [
    {
     "output_type": "stream",
     "name": "stdout",
     "text": [
      " Volume in drive C has no label.\n",
      " Volume Serial Number is 0AA8-8A3F\n",
      "\n",
      " Directory of c:\\Users\\Bishal\\Documents\\GitHub\\2021Fall\\HW\n",
      "\n",
      "09/20/2021  02:34 PM    <DIR>          .\n",
      "09/20/2021  02:34 PM    <DIR>          ..\n",
      "09/20/2021  01:12 PM             5,607 BikeSharingDataser_Readme.txt\n",
      "09/15/2021  04:45 PM            57,569 day.csv\n",
      "09/15/2021  04:45 PM            74,391 day_output.csv\n",
      "09/20/2021  02:34 PM            10,487 fakedata.csv\n",
      "09/15/2021  04:45 PM         1,156,736 hour.csv\n",
      "09/13/2021  12:06 AM            11,383 HW1.ipynb\n",
      "09/15/2021  04:45 PM           137,259 HW1-Solution.ipynb\n",
      "09/20/2021  01:12 PM            23,232 HW2.ipynb\n",
      "09/20/2021  01:12 PM            33,848 HW2-Solution.ipynb\n",
      "09/20/2021  02:34 PM            52,899 HW3.ipynb\n",
      "09/20/2021  01:12 PM           307,641 rdu-weather-history.csv\n",
      "09/20/2021  01:12 PM             3,178 README.md\n",
      "              12 File(s)      1,874,230 bytes\n",
      "               2 Dir(s)   3,209,580,544 bytes free\n"
     ]
    }
   ],
   "metadata": {
    "id": "JbEygJhDKaYL"
   }
  },
  {
   "cell_type": "code",
   "execution_count": 28,
   "source": [
    "# Now we can read this data frame as well\r\n",
    "newdf = pd.read_csv('fakedata.csv')\r\n",
    "newdf.head()"
   ],
   "outputs": [
    {
     "output_type": "execute_result",
     "data": {
      "text/html": [
       "<div>\n",
       "<style scoped>\n",
       "    .dataframe tbody tr th:only-of-type {\n",
       "        vertical-align: middle;\n",
       "    }\n",
       "\n",
       "    .dataframe tbody tr th {\n",
       "        vertical-align: top;\n",
       "    }\n",
       "\n",
       "    .dataframe thead th {\n",
       "        text-align: right;\n",
       "    }\n",
       "</style>\n",
       "<table border=\"1\" class=\"dataframe\">\n",
       "  <thead>\n",
       "    <tr style=\"text-align: right;\">\n",
       "      <th></th>\n",
       "      <th>name</th>\n",
       "      <th>company</th>\n",
       "      <th>salary</th>\n",
       "      <th>address</th>\n",
       "      <th>above500k</th>\n",
       "      <th>status</th>\n",
       "    </tr>\n",
       "  </thead>\n",
       "  <tbody>\n",
       "    <tr>\n",
       "      <th>0</th>\n",
       "      <td>Tina Hansen</td>\n",
       "      <td>Chapman, Owen and Hernandez</td>\n",
       "      <td>810000</td>\n",
       "      <td>94348 Kathryn Street\\nNew Dennis, SD 55325</td>\n",
       "      <td>True</td>\n",
       "      <td>500k-1M USD</td>\n",
       "    </tr>\n",
       "    <tr>\n",
       "      <th>1</th>\n",
       "      <td>Edwin Nichols</td>\n",
       "      <td>Williams Ltd</td>\n",
       "      <td>780000</td>\n",
       "      <td>05962 Wise Hill Apt. 447\\nHuberchester, ND 81670</td>\n",
       "      <td>True</td>\n",
       "      <td>500k-1M USD</td>\n",
       "    </tr>\n",
       "    <tr>\n",
       "      <th>2</th>\n",
       "      <td>Megan Herman</td>\n",
       "      <td>Greene-Reed</td>\n",
       "      <td>440000</td>\n",
       "      <td>30314 Nancy Lodge Apt. 810\\nMasonchester, ID 1...</td>\n",
       "      <td>False</td>\n",
       "      <td>0k-500k USD</td>\n",
       "    </tr>\n",
       "    <tr>\n",
       "      <th>3</th>\n",
       "      <td>Yvette Compton</td>\n",
       "      <td>Wheeler-Andrews</td>\n",
       "      <td>560000</td>\n",
       "      <td>4622 Powell Islands Apt. 558\\nThomasville, HI ...</td>\n",
       "      <td>True</td>\n",
       "      <td>500k-1M USD</td>\n",
       "    </tr>\n",
       "    <tr>\n",
       "      <th>4</th>\n",
       "      <td>Joseph Rivera</td>\n",
       "      <td>Miller and Sons</td>\n",
       "      <td>780000</td>\n",
       "      <td>8104 James Motorway\\nLake Kara, PA 08266</td>\n",
       "      <td>True</td>\n",
       "      <td>500k-1M USD</td>\n",
       "    </tr>\n",
       "  </tbody>\n",
       "</table>\n",
       "</div>"
      ],
      "text/plain": [
       "             name                      company  salary  \\\n",
       "0     Tina Hansen  Chapman, Owen and Hernandez  810000   \n",
       "1   Edwin Nichols                 Williams Ltd  780000   \n",
       "2    Megan Herman                  Greene-Reed  440000   \n",
       "3  Yvette Compton              Wheeler-Andrews  560000   \n",
       "4   Joseph Rivera              Miller and Sons  780000   \n",
       "\n",
       "                                             address  above500k       status  \n",
       "0         94348 Kathryn Street\\nNew Dennis, SD 55325       True  500k-1M USD  \n",
       "1   05962 Wise Hill Apt. 447\\nHuberchester, ND 81670       True  500k-1M USD  \n",
       "2  30314 Nancy Lodge Apt. 810\\nMasonchester, ID 1...      False  0k-500k USD  \n",
       "3  4622 Powell Islands Apt. 558\\nThomasville, HI ...       True  500k-1M USD  \n",
       "4           8104 James Motorway\\nLake Kara, PA 08266       True  500k-1M USD  "
      ]
     },
     "metadata": {},
     "execution_count": 28
    }
   ],
   "metadata": {
    "id": "F03AckLBKwUF"
   }
  },
  {
   "cell_type": "markdown",
   "source": [
    "### Well there are many more stuff to learn in panda data frame  \n",
    "But for now you will be doing something similar above  \n",
    "Following exercise will give you some advance concept in panda dataframe.  \n",
    "you will be asked few things to code at last.  "
   ],
   "metadata": {}
  },
  {
   "cell_type": "markdown",
   "source": [
    "### First lets download the data set\n",
    "### https://data.townofcary.org/api/v2/catalog/datasets/rdu-weather-history/exports/csv"
   ],
   "metadata": {}
  },
  {
   "cell_type": "code",
   "execution_count": 29,
   "source": [
    "import pandas as pd\r\n",
    "df = pd.read_csv('rdu-weather-history.csv', sep = ';')\r\n",
    "# Lets see the size of our data\r\n",
    "df.shape"
   ],
   "outputs": [
    {
     "output_type": "execute_result",
     "data": {
      "text/plain": [
       "(4377, 28)"
      ]
     },
     "metadata": {},
     "execution_count": 29
    }
   ],
   "metadata": {
    "id": "nwHvmfCYQS9W"
   }
  },
  {
   "cell_type": "code",
   "execution_count": 30,
   "source": [
    "df.head()"
   ],
   "outputs": [
    {
     "output_type": "execute_result",
     "data": {
      "text/html": [
       "<div>\n",
       "<style scoped>\n",
       "    .dataframe tbody tr th:only-of-type {\n",
       "        vertical-align: middle;\n",
       "    }\n",
       "\n",
       "    .dataframe tbody tr th {\n",
       "        vertical-align: top;\n",
       "    }\n",
       "\n",
       "    .dataframe thead th {\n",
       "        text-align: right;\n",
       "    }\n",
       "</style>\n",
       "<table border=\"1\" class=\"dataframe\">\n",
       "  <thead>\n",
       "    <tr style=\"text-align: right;\">\n",
       "      <th></th>\n",
       "      <th>date</th>\n",
       "      <th>temperaturemin</th>\n",
       "      <th>temperaturemax</th>\n",
       "      <th>precipitation</th>\n",
       "      <th>snowfall</th>\n",
       "      <th>snowdepth</th>\n",
       "      <th>avgwindspeed</th>\n",
       "      <th>fastest2minwinddir</th>\n",
       "      <th>fastest2minwindspeed</th>\n",
       "      <th>fastest5secwinddir</th>\n",
       "      <th>...</th>\n",
       "      <th>drizzle</th>\n",
       "      <th>snow</th>\n",
       "      <th>freezingrain</th>\n",
       "      <th>smokehaze</th>\n",
       "      <th>thunder</th>\n",
       "      <th>highwind</th>\n",
       "      <th>hail</th>\n",
       "      <th>blowingsnow</th>\n",
       "      <th>dust</th>\n",
       "      <th>freezingfog</th>\n",
       "    </tr>\n",
       "  </thead>\n",
       "  <tbody>\n",
       "    <tr>\n",
       "      <th>0</th>\n",
       "      <td>2009-01-02</td>\n",
       "      <td>27</td>\n",
       "      <td>42</td>\n",
       "      <td>0.05</td>\n",
       "      <td>0.0</td>\n",
       "      <td>0.0</td>\n",
       "      <td>6.26</td>\n",
       "      <td>220</td>\n",
       "      <td>14.1</td>\n",
       "      <td>NaN</td>\n",
       "      <td>...</td>\n",
       "      <td>NaN</td>\n",
       "      <td>NaN</td>\n",
       "      <td>NaN</td>\n",
       "      <td>NaN</td>\n",
       "      <td>NaN</td>\n",
       "      <td>NaN</td>\n",
       "      <td>Present</td>\n",
       "      <td>NaN</td>\n",
       "      <td>NaN</td>\n",
       "      <td>NaN</td>\n",
       "    </tr>\n",
       "    <tr>\n",
       "      <th>1</th>\n",
       "      <td>2009-01-16</td>\n",
       "      <td>15</td>\n",
       "      <td>28</td>\n",
       "      <td>0.00</td>\n",
       "      <td>0.0</td>\n",
       "      <td>0.0</td>\n",
       "      <td>4.47</td>\n",
       "      <td>300</td>\n",
       "      <td>13.0</td>\n",
       "      <td>NaN</td>\n",
       "      <td>...</td>\n",
       "      <td>NaN</td>\n",
       "      <td>NaN</td>\n",
       "      <td>NaN</td>\n",
       "      <td>NaN</td>\n",
       "      <td>NaN</td>\n",
       "      <td>NaN</td>\n",
       "      <td>NaN</td>\n",
       "      <td>NaN</td>\n",
       "      <td>NaN</td>\n",
       "      <td>NaN</td>\n",
       "    </tr>\n",
       "    <tr>\n",
       "      <th>2</th>\n",
       "      <td>2009-01-18</td>\n",
       "      <td>32</td>\n",
       "      <td>41</td>\n",
       "      <td>0.00</td>\n",
       "      <td>0.0</td>\n",
       "      <td>0.0</td>\n",
       "      <td>10.51</td>\n",
       "      <td>210</td>\n",
       "      <td>17.0</td>\n",
       "      <td>NaN</td>\n",
       "      <td>...</td>\n",
       "      <td>NaN</td>\n",
       "      <td>NaN</td>\n",
       "      <td>NaN</td>\n",
       "      <td>NaN</td>\n",
       "      <td>NaN</td>\n",
       "      <td>NaN</td>\n",
       "      <td>Present</td>\n",
       "      <td>NaN</td>\n",
       "      <td>NaN</td>\n",
       "      <td>NaN</td>\n",
       "    </tr>\n",
       "    <tr>\n",
       "      <th>3</th>\n",
       "      <td>2009-01-23</td>\n",
       "      <td>31</td>\n",
       "      <td>60</td>\n",
       "      <td>0.00</td>\n",
       "      <td>0.0</td>\n",
       "      <td>0.0</td>\n",
       "      <td>8.05</td>\n",
       "      <td>240</td>\n",
       "      <td>17.0</td>\n",
       "      <td>NaN</td>\n",
       "      <td>...</td>\n",
       "      <td>NaN</td>\n",
       "      <td>NaN</td>\n",
       "      <td>NaN</td>\n",
       "      <td>NaN</td>\n",
       "      <td>NaN</td>\n",
       "      <td>NaN</td>\n",
       "      <td>NaN</td>\n",
       "      <td>NaN</td>\n",
       "      <td>NaN</td>\n",
       "      <td>NaN</td>\n",
       "    </tr>\n",
       "    <tr>\n",
       "      <th>4</th>\n",
       "      <td>2009-02-09</td>\n",
       "      <td>40</td>\n",
       "      <td>66</td>\n",
       "      <td>0.00</td>\n",
       "      <td>0.0</td>\n",
       "      <td>0.0</td>\n",
       "      <td>6.04</td>\n",
       "      <td>100</td>\n",
       "      <td>14.1</td>\n",
       "      <td>NaN</td>\n",
       "      <td>...</td>\n",
       "      <td>NaN</td>\n",
       "      <td>NaN</td>\n",
       "      <td>NaN</td>\n",
       "      <td>NaN</td>\n",
       "      <td>NaN</td>\n",
       "      <td>NaN</td>\n",
       "      <td>NaN</td>\n",
       "      <td>NaN</td>\n",
       "      <td>NaN</td>\n",
       "      <td>NaN</td>\n",
       "    </tr>\n",
       "  </tbody>\n",
       "</table>\n",
       "<p>5 rows × 28 columns</p>\n",
       "</div>"
      ],
      "text/plain": [
       "         date  temperaturemin  temperaturemax  precipitation  snowfall  \\\n",
       "0  2009-01-02              27              42           0.05       0.0   \n",
       "1  2009-01-16              15              28           0.00       0.0   \n",
       "2  2009-01-18              32              41           0.00       0.0   \n",
       "3  2009-01-23              31              60           0.00       0.0   \n",
       "4  2009-02-09              40              66           0.00       0.0   \n",
       "\n",
       "   snowdepth  avgwindspeed  fastest2minwinddir  fastest2minwindspeed  \\\n",
       "0        0.0          6.26                 220                  14.1   \n",
       "1        0.0          4.47                 300                  13.0   \n",
       "2        0.0         10.51                 210                  17.0   \n",
       "3        0.0          8.05                 240                  17.0   \n",
       "4        0.0          6.04                 100                  14.1   \n",
       "\n",
       "   fastest5secwinddir  ...  drizzle snow freezingrain smokehaze thunder  \\\n",
       "0                 NaN  ...      NaN  NaN          NaN       NaN     NaN   \n",
       "1                 NaN  ...      NaN  NaN          NaN       NaN     NaN   \n",
       "2                 NaN  ...      NaN  NaN          NaN       NaN     NaN   \n",
       "3                 NaN  ...      NaN  NaN          NaN       NaN     NaN   \n",
       "4                 NaN  ...      NaN  NaN          NaN       NaN     NaN   \n",
       "\n",
       "  highwind     hail blowingsnow dust freezingfog  \n",
       "0      NaN  Present         NaN  NaN         NaN  \n",
       "1      NaN      NaN         NaN  NaN         NaN  \n",
       "2      NaN  Present         NaN  NaN         NaN  \n",
       "3      NaN      NaN         NaN  NaN         NaN  \n",
       "4      NaN      NaN         NaN  NaN         NaN  \n",
       "\n",
       "[5 rows x 28 columns]"
      ]
     },
     "metadata": {},
     "execution_count": 30
    }
   ],
   "metadata": {
    "id": "tKCCP_mEQVmF"
   }
  },
  {
   "cell_type": "markdown",
   "source": [
    "Well this is a public data. There might be many missing values.  \n",
    "Lets see these missing values  "
   ],
   "metadata": {}
  },
  {
   "cell_type": "code",
   "execution_count": 31,
   "source": [
    "df.isna().sum()"
   ],
   "outputs": [
    {
     "output_type": "execute_result",
     "data": {
      "text/plain": [
       "date                       0\n",
       "temperaturemin             0\n",
       "temperaturemax             0\n",
       "precipitation              0\n",
       "snowfall                   2\n",
       "snowdepth                 25\n",
       "avgwindspeed               0\n",
       "fastest2minwinddir         0\n",
       "fastest2minwindspeed       0\n",
       "fastest5secwinddir      4377\n",
       "fastest5secwindspeed    4377\n",
       "fog                     2477\n",
       "fogheavy                4133\n",
       "mist                    3874\n",
       "rain                    3776\n",
       "fogground               4368\n",
       "ice                     4335\n",
       "glaze                   4361\n",
       "drizzle                 4210\n",
       "snow                    4343\n",
       "freezingrain            4375\n",
       "smokehaze               4150\n",
       "thunder                 3841\n",
       "highwind                4376\n",
       "hail                    4142\n",
       "blowingsnow             4337\n",
       "dust                    4341\n",
       "freezingfog             4375\n",
       "dtype: int64"
      ]
     },
     "metadata": {},
     "execution_count": 31
    }
   ],
   "metadata": {
    "id": "QJ1HLBTeTGVE"
   }
  },
  {
   "cell_type": "code",
   "execution_count": 32,
   "source": [
    "df.columns # Lets see columns of our data"
   ],
   "outputs": [
    {
     "output_type": "execute_result",
     "data": {
      "text/plain": [
       "Index(['date', 'temperaturemin', 'temperaturemax', 'precipitation', 'snowfall',\n",
       "       'snowdepth', 'avgwindspeed', 'fastest2minwinddir',\n",
       "       'fastest2minwindspeed', 'fastest5secwinddir', 'fastest5secwindspeed',\n",
       "       'fog', 'fogheavy', 'mist', 'rain', 'fogground', 'ice', 'glaze',\n",
       "       'drizzle', 'snow', 'freezingrain', 'smokehaze', 'thunder', 'highwind',\n",
       "       'hail', 'blowingsnow', 'dust', 'freezingfog'],\n",
       "      dtype='object')"
      ]
     },
     "metadata": {},
     "execution_count": 32
    }
   ],
   "metadata": {
    "id": "unXPA5BiR58H"
   }
  },
  {
   "cell_type": "markdown",
   "source": [
    "### One important thing to notice here is following columns \n",
    "\n",
    "'fog', 'fogheavy', 'mist', 'rain', 'fogground', 'ice', 'glaze',\n",
    "'drizzle', 'snow', 'freezingrain', 'smokehaze', 'thunder', 'highwind',\n",
    "'hail', 'blowingsnow', 'dust', 'freezingfog'\n",
    "\n",
    "These columns are weather information, it will be lot more easier to see these values in one single column called weather. So we can do this by following code, observe closely what we are doing."
   ],
   "metadata": {}
  },
  {
   "cell_type": "code",
   "execution_count": 33,
   "source": [
    "tidydf = pd.melt(df,['date', 'temperaturemin', 'temperaturemax', 'precipitation', 'snowfall',\r\n",
    "       'snowdepth', 'avgwindspeed', 'fastest2minwinddir',\r\n",
    "       'fastest2minwindspeed', 'fastest5secwinddir', 'fastest5secwindspeed'],var_name=\"weather\",value_name=\"status\")"
   ],
   "outputs": [],
   "metadata": {}
  },
  {
   "cell_type": "code",
   "execution_count": 41,
   "source": [
    "tidydf.head()"
   ],
   "outputs": [
    {
     "output_type": "execute_result",
     "data": {
      "text/html": [
       "<div>\n",
       "<style scoped>\n",
       "    .dataframe tbody tr th:only-of-type {\n",
       "        vertical-align: middle;\n",
       "    }\n",
       "\n",
       "    .dataframe tbody tr th {\n",
       "        vertical-align: top;\n",
       "    }\n",
       "\n",
       "    .dataframe thead th {\n",
       "        text-align: right;\n",
       "    }\n",
       "</style>\n",
       "<table border=\"1\" class=\"dataframe\">\n",
       "  <thead>\n",
       "    <tr style=\"text-align: right;\">\n",
       "      <th></th>\n",
       "      <th>date</th>\n",
       "      <th>temperaturemin</th>\n",
       "      <th>temperaturemax</th>\n",
       "      <th>precipitation</th>\n",
       "      <th>snowfall</th>\n",
       "      <th>snowdepth</th>\n",
       "      <th>avgwindspeed</th>\n",
       "      <th>fastest2minwinddir</th>\n",
       "      <th>fastest2minwindspeed</th>\n",
       "      <th>fastest5secwinddir</th>\n",
       "      <th>fastest5secwindspeed</th>\n",
       "      <th>weather</th>\n",
       "      <th>status</th>\n",
       "    </tr>\n",
       "  </thead>\n",
       "  <tbody>\n",
       "    <tr>\n",
       "      <th>0</th>\n",
       "      <td>2009-01-02</td>\n",
       "      <td>27</td>\n",
       "      <td>42</td>\n",
       "      <td>0.05</td>\n",
       "      <td>0.0</td>\n",
       "      <td>0.0</td>\n",
       "      <td>6.26</td>\n",
       "      <td>220</td>\n",
       "      <td>14.1</td>\n",
       "      <td>NaN</td>\n",
       "      <td>NaN</td>\n",
       "      <td>fog</td>\n",
       "      <td>Present</td>\n",
       "    </tr>\n",
       "    <tr>\n",
       "      <th>1</th>\n",
       "      <td>2009-01-16</td>\n",
       "      <td>15</td>\n",
       "      <td>28</td>\n",
       "      <td>0.00</td>\n",
       "      <td>0.0</td>\n",
       "      <td>0.0</td>\n",
       "      <td>4.47</td>\n",
       "      <td>300</td>\n",
       "      <td>13.0</td>\n",
       "      <td>NaN</td>\n",
       "      <td>NaN</td>\n",
       "      <td>fog</td>\n",
       "      <td>NaN</td>\n",
       "    </tr>\n",
       "    <tr>\n",
       "      <th>2</th>\n",
       "      <td>2009-01-18</td>\n",
       "      <td>32</td>\n",
       "      <td>41</td>\n",
       "      <td>0.00</td>\n",
       "      <td>0.0</td>\n",
       "      <td>0.0</td>\n",
       "      <td>10.51</td>\n",
       "      <td>210</td>\n",
       "      <td>17.0</td>\n",
       "      <td>NaN</td>\n",
       "      <td>NaN</td>\n",
       "      <td>fog</td>\n",
       "      <td>Present</td>\n",
       "    </tr>\n",
       "    <tr>\n",
       "      <th>3</th>\n",
       "      <td>2009-01-23</td>\n",
       "      <td>31</td>\n",
       "      <td>60</td>\n",
       "      <td>0.00</td>\n",
       "      <td>0.0</td>\n",
       "      <td>0.0</td>\n",
       "      <td>8.05</td>\n",
       "      <td>240</td>\n",
       "      <td>17.0</td>\n",
       "      <td>NaN</td>\n",
       "      <td>NaN</td>\n",
       "      <td>fog</td>\n",
       "      <td>NaN</td>\n",
       "    </tr>\n",
       "    <tr>\n",
       "      <th>4</th>\n",
       "      <td>2009-02-09</td>\n",
       "      <td>40</td>\n",
       "      <td>66</td>\n",
       "      <td>0.00</td>\n",
       "      <td>0.0</td>\n",
       "      <td>0.0</td>\n",
       "      <td>6.04</td>\n",
       "      <td>100</td>\n",
       "      <td>14.1</td>\n",
       "      <td>NaN</td>\n",
       "      <td>NaN</td>\n",
       "      <td>fog</td>\n",
       "      <td>NaN</td>\n",
       "    </tr>\n",
       "  </tbody>\n",
       "</table>\n",
       "</div>"
      ],
      "text/plain": [
       "         date  temperaturemin  temperaturemax  precipitation  snowfall  \\\n",
       "0  2009-01-02              27              42           0.05       0.0   \n",
       "1  2009-01-16              15              28           0.00       0.0   \n",
       "2  2009-01-18              32              41           0.00       0.0   \n",
       "3  2009-01-23              31              60           0.00       0.0   \n",
       "4  2009-02-09              40              66           0.00       0.0   \n",
       "\n",
       "   snowdepth  avgwindspeed  fastest2minwinddir  fastest2minwindspeed  \\\n",
       "0        0.0          6.26                 220                  14.1   \n",
       "1        0.0          4.47                 300                  13.0   \n",
       "2        0.0         10.51                 210                  17.0   \n",
       "3        0.0          8.05                 240                  17.0   \n",
       "4        0.0          6.04                 100                  14.1   \n",
       "\n",
       "   fastest5secwinddir  fastest5secwindspeed weather   status  \n",
       "0                 NaN                   NaN     fog  Present  \n",
       "1                 NaN                   NaN     fog      NaN  \n",
       "2                 NaN                   NaN     fog  Present  \n",
       "3                 NaN                   NaN     fog      NaN  \n",
       "4                 NaN                   NaN     fog      NaN  "
      ]
     },
     "metadata": {},
     "execution_count": 41
    }
   ],
   "metadata": {
    "id": "zjlU1HWJSD5q"
   }
  },
  {
   "cell_type": "markdown",
   "source": [
    "### Now we don't need rows that has status 'No' so we will only select rows with 'Yes' status. Moreover, now we don't  need status column any more so lets drop that column as well"
   ],
   "metadata": {}
  },
  {
   "cell_type": "code",
   "execution_count": 43,
   "source": [
    "\r\n",
    "df = tidydf[tidydf.status == 'Present']\r\n",
    "df = df.drop(columns = ['status'])\r\n",
    "df.head()"
   ],
   "outputs": [
    {
     "output_type": "execute_result",
     "data": {
      "text/html": [
       "<div>\n",
       "<style scoped>\n",
       "    .dataframe tbody tr th:only-of-type {\n",
       "        vertical-align: middle;\n",
       "    }\n",
       "\n",
       "    .dataframe tbody tr th {\n",
       "        vertical-align: top;\n",
       "    }\n",
       "\n",
       "    .dataframe thead th {\n",
       "        text-align: right;\n",
       "    }\n",
       "</style>\n",
       "<table border=\"1\" class=\"dataframe\">\n",
       "  <thead>\n",
       "    <tr style=\"text-align: right;\">\n",
       "      <th></th>\n",
       "      <th>date</th>\n",
       "      <th>temperaturemin</th>\n",
       "      <th>temperaturemax</th>\n",
       "      <th>precipitation</th>\n",
       "      <th>snowfall</th>\n",
       "      <th>snowdepth</th>\n",
       "      <th>avgwindspeed</th>\n",
       "      <th>fastest2minwinddir</th>\n",
       "      <th>fastest2minwindspeed</th>\n",
       "      <th>fastest5secwinddir</th>\n",
       "      <th>fastest5secwindspeed</th>\n",
       "      <th>weather</th>\n",
       "    </tr>\n",
       "  </thead>\n",
       "  <tbody>\n",
       "    <tr>\n",
       "      <th>0</th>\n",
       "      <td>2009-01-02</td>\n",
       "      <td>27</td>\n",
       "      <td>42</td>\n",
       "      <td>0.05</td>\n",
       "      <td>0.0</td>\n",
       "      <td>0.0</td>\n",
       "      <td>6.26</td>\n",
       "      <td>220</td>\n",
       "      <td>14.1</td>\n",
       "      <td>NaN</td>\n",
       "      <td>NaN</td>\n",
       "      <td>fog</td>\n",
       "    </tr>\n",
       "    <tr>\n",
       "      <th>2</th>\n",
       "      <td>2009-01-18</td>\n",
       "      <td>32</td>\n",
       "      <td>41</td>\n",
       "      <td>0.00</td>\n",
       "      <td>0.0</td>\n",
       "      <td>0.0</td>\n",
       "      <td>10.51</td>\n",
       "      <td>210</td>\n",
       "      <td>17.0</td>\n",
       "      <td>NaN</td>\n",
       "      <td>NaN</td>\n",
       "      <td>fog</td>\n",
       "    </tr>\n",
       "    <tr>\n",
       "      <th>5</th>\n",
       "      <td>2009-02-10</td>\n",
       "      <td>48</td>\n",
       "      <td>73</td>\n",
       "      <td>0.00</td>\n",
       "      <td>0.0</td>\n",
       "      <td>0.0</td>\n",
       "      <td>10.51</td>\n",
       "      <td>230</td>\n",
       "      <td>25.1</td>\n",
       "      <td>NaN</td>\n",
       "      <td>NaN</td>\n",
       "      <td>fog</td>\n",
       "    </tr>\n",
       "    <tr>\n",
       "      <th>9</th>\n",
       "      <td>2009-02-19</td>\n",
       "      <td>34</td>\n",
       "      <td>58</td>\n",
       "      <td>0.00</td>\n",
       "      <td>0.0</td>\n",
       "      <td>0.0</td>\n",
       "      <td>10.29</td>\n",
       "      <td>300</td>\n",
       "      <td>21.0</td>\n",
       "      <td>NaN</td>\n",
       "      <td>NaN</td>\n",
       "      <td>fog</td>\n",
       "    </tr>\n",
       "    <tr>\n",
       "      <th>11</th>\n",
       "      <td>2009-03-01</td>\n",
       "      <td>35</td>\n",
       "      <td>38</td>\n",
       "      <td>1.38</td>\n",
       "      <td>0.0</td>\n",
       "      <td>0.0</td>\n",
       "      <td>12.75</td>\n",
       "      <td>50</td>\n",
       "      <td>23.0</td>\n",
       "      <td>NaN</td>\n",
       "      <td>NaN</td>\n",
       "      <td>fog</td>\n",
       "    </tr>\n",
       "  </tbody>\n",
       "</table>\n",
       "</div>"
      ],
      "text/plain": [
       "          date  temperaturemin  temperaturemax  precipitation  snowfall  \\\n",
       "0   2009-01-02              27              42           0.05       0.0   \n",
       "2   2009-01-18              32              41           0.00       0.0   \n",
       "5   2009-02-10              48              73           0.00       0.0   \n",
       "9   2009-02-19              34              58           0.00       0.0   \n",
       "11  2009-03-01              35              38           1.38       0.0   \n",
       "\n",
       "    snowdepth  avgwindspeed  fastest2minwinddir  fastest2minwindspeed  \\\n",
       "0         0.0          6.26                 220                  14.1   \n",
       "2         0.0         10.51                 210                  17.0   \n",
       "5         0.0         10.51                 230                  25.1   \n",
       "9         0.0         10.29                 300                  21.0   \n",
       "11        0.0         12.75                  50                  23.0   \n",
       "\n",
       "    fastest5secwinddir  fastest5secwindspeed weather  \n",
       "0                  NaN                   NaN     fog  \n",
       "2                  NaN                   NaN     fog  \n",
       "5                  NaN                   NaN     fog  \n",
       "9                  NaN                   NaN     fog  \n",
       "11                 NaN                   NaN     fog  "
      ]
     },
     "metadata": {},
     "execution_count": 43
    }
   ],
   "metadata": {
    "id": "3BEf7dbaSJUv"
   }
  },
  {
   "cell_type": "code",
   "execution_count": 44,
   "source": [
    "# Now lets describe this data\r\n",
    "\r\n",
    "df.describe()"
   ],
   "outputs": [
    {
     "output_type": "execute_result",
     "data": {
      "text/html": [
       "<div>\n",
       "<style scoped>\n",
       "    .dataframe tbody tr th:only-of-type {\n",
       "        vertical-align: middle;\n",
       "    }\n",
       "\n",
       "    .dataframe tbody tr th {\n",
       "        vertical-align: top;\n",
       "    }\n",
       "\n",
       "    .dataframe thead th {\n",
       "        text-align: right;\n",
       "    }\n",
       "</style>\n",
       "<table border=\"1\" class=\"dataframe\">\n",
       "  <thead>\n",
       "    <tr style=\"text-align: right;\">\n",
       "      <th></th>\n",
       "      <th>temperaturemin</th>\n",
       "      <th>temperaturemax</th>\n",
       "      <th>precipitation</th>\n",
       "      <th>snowfall</th>\n",
       "      <th>snowdepth</th>\n",
       "      <th>avgwindspeed</th>\n",
       "      <th>fastest2minwinddir</th>\n",
       "      <th>fastest2minwindspeed</th>\n",
       "      <th>fastest5secwinddir</th>\n",
       "      <th>fastest5secwindspeed</th>\n",
       "    </tr>\n",
       "  </thead>\n",
       "  <tbody>\n",
       "    <tr>\n",
       "      <th>count</th>\n",
       "      <td>4595.000000</td>\n",
       "      <td>4595.000000</td>\n",
       "      <td>4595.000000</td>\n",
       "      <td>4595.000000</td>\n",
       "      <td>4572.000000</td>\n",
       "      <td>4595.000000</td>\n",
       "      <td>4595.000000</td>\n",
       "      <td>4595.000000</td>\n",
       "      <td>0.0</td>\n",
       "      <td>0.0</td>\n",
       "    </tr>\n",
       "    <tr>\n",
       "      <th>mean</th>\n",
       "      <td>54.486398</td>\n",
       "      <td>72.810229</td>\n",
       "      <td>0.276603</td>\n",
       "      <td>0.042503</td>\n",
       "      <td>0.030621</td>\n",
       "      <td>6.075976</td>\n",
       "      <td>164.970620</td>\n",
       "      <td>16.858390</td>\n",
       "      <td>NaN</td>\n",
       "      <td>NaN</td>\n",
       "    </tr>\n",
       "    <tr>\n",
       "      <th>std</th>\n",
       "      <td>15.218435</td>\n",
       "      <td>16.970579</td>\n",
       "      <td>0.454832</td>\n",
       "      <td>0.372524</td>\n",
       "      <td>0.279306</td>\n",
       "      <td>3.049237</td>\n",
       "      <td>92.729226</td>\n",
       "      <td>5.982619</td>\n",
       "      <td>NaN</td>\n",
       "      <td>NaN</td>\n",
       "    </tr>\n",
       "    <tr>\n",
       "      <th>min</th>\n",
       "      <td>9.000000</td>\n",
       "      <td>27.000000</td>\n",
       "      <td>0.000000</td>\n",
       "      <td>0.000000</td>\n",
       "      <td>0.000000</td>\n",
       "      <td>0.000000</td>\n",
       "      <td>10.000000</td>\n",
       "      <td>4.900000</td>\n",
       "      <td>NaN</td>\n",
       "      <td>NaN</td>\n",
       "    </tr>\n",
       "    <tr>\n",
       "      <th>25%</th>\n",
       "      <td>41.000000</td>\n",
       "      <td>61.000000</td>\n",
       "      <td>0.000000</td>\n",
       "      <td>0.000000</td>\n",
       "      <td>0.000000</td>\n",
       "      <td>3.800000</td>\n",
       "      <td>70.000000</td>\n",
       "      <td>13.000000</td>\n",
       "      <td>NaN</td>\n",
       "      <td>NaN</td>\n",
       "    </tr>\n",
       "    <tr>\n",
       "      <th>50%</th>\n",
       "      <td>57.000000</td>\n",
       "      <td>76.000000</td>\n",
       "      <td>0.080000</td>\n",
       "      <td>0.000000</td>\n",
       "      <td>0.000000</td>\n",
       "      <td>5.590000</td>\n",
       "      <td>190.000000</td>\n",
       "      <td>16.100000</td>\n",
       "      <td>NaN</td>\n",
       "      <td>NaN</td>\n",
       "    </tr>\n",
       "    <tr>\n",
       "      <th>75%</th>\n",
       "      <td>68.000000</td>\n",
       "      <td>87.000000</td>\n",
       "      <td>0.370000</td>\n",
       "      <td>0.000000</td>\n",
       "      <td>0.000000</td>\n",
       "      <td>7.610000</td>\n",
       "      <td>230.000000</td>\n",
       "      <td>21.000000</td>\n",
       "      <td>NaN</td>\n",
       "      <td>NaN</td>\n",
       "    </tr>\n",
       "    <tr>\n",
       "      <th>max</th>\n",
       "      <td>79.000000</td>\n",
       "      <td>105.000000</td>\n",
       "      <td>6.450000</td>\n",
       "      <td>7.000000</td>\n",
       "      <td>4.000000</td>\n",
       "      <td>20.360000</td>\n",
       "      <td>360.000000</td>\n",
       "      <td>44.100000</td>\n",
       "      <td>NaN</td>\n",
       "      <td>NaN</td>\n",
       "    </tr>\n",
       "  </tbody>\n",
       "</table>\n",
       "</div>"
      ],
      "text/plain": [
       "       temperaturemin  temperaturemax  precipitation     snowfall  \\\n",
       "count     4595.000000     4595.000000    4595.000000  4595.000000   \n",
       "mean        54.486398       72.810229       0.276603     0.042503   \n",
       "std         15.218435       16.970579       0.454832     0.372524   \n",
       "min          9.000000       27.000000       0.000000     0.000000   \n",
       "25%         41.000000       61.000000       0.000000     0.000000   \n",
       "50%         57.000000       76.000000       0.080000     0.000000   \n",
       "75%         68.000000       87.000000       0.370000     0.000000   \n",
       "max         79.000000      105.000000       6.450000     7.000000   \n",
       "\n",
       "         snowdepth  avgwindspeed  fastest2minwinddir  fastest2minwindspeed  \\\n",
       "count  4572.000000   4595.000000         4595.000000           4595.000000   \n",
       "mean      0.030621      6.075976          164.970620             16.858390   \n",
       "std       0.279306      3.049237           92.729226              5.982619   \n",
       "min       0.000000      0.000000           10.000000              4.900000   \n",
       "25%       0.000000      3.800000           70.000000             13.000000   \n",
       "50%       0.000000      5.590000          190.000000             16.100000   \n",
       "75%       0.000000      7.610000          230.000000             21.000000   \n",
       "max       4.000000     20.360000          360.000000             44.100000   \n",
       "\n",
       "       fastest5secwinddir  fastest5secwindspeed  \n",
       "count                 0.0                   0.0  \n",
       "mean                  NaN                   NaN  \n",
       "std                   NaN                   NaN  \n",
       "min                   NaN                   NaN  \n",
       "25%                   NaN                   NaN  \n",
       "50%                   NaN                   NaN  \n",
       "75%                   NaN                   NaN  \n",
       "max                   NaN                   NaN  "
      ]
     },
     "metadata": {},
     "execution_count": 44
    }
   ],
   "metadata": {
    "id": "bwGz0jR4S3_4"
   }
  },
  {
   "cell_type": "markdown",
   "source": [
    "**Q5** Write the code below so that \r\n",
    "1. Get rid of the following columns in df: 'fastest2minwinddir','fastest2minwindspeed','fastest5secwinddir','fastest5secwindspeed'\r\n",
    "2. Calculate and add 'avgtemperature' column (Note : avgtemperature is an average of temperaturemin and temperaturemax)\r\n",
    "3. After completing 2. get rid of two columns 'temperaturemin','temperaturemax'\r\n",
    "\r\n",
    "**A5** Write code in the cell below"
   ],
   "metadata": {
    "id": "dxWrEOL9WdGH"
   }
  },
  {
   "cell_type": "code",
   "execution_count": 56,
   "source": [
    "#A5 Task1:\r\n",
    "import numpy as np\r\n",
    "# Code goes below\r\n",
    "df=df.drop(columns=['fastest2minwinddir','fastest2minwindspeed','fastest5secwinddir','fastest5secwindspeed'])\r\n",
    "# Print the head of the data\r\n",
    "df.head()\r\n",
    "#A5 Task2:\r\n",
    "\r\n",
    "# Code goes below\r\n",
    "df['avgtemperature']= np.float64((df['temperaturemin']+df['temperaturemax'])/2.0)\r\n",
    "\r\n",
    "\r\n",
    "# Print the head of the data\r\n",
    "df.head()\r\n",
    "#A5 Task3: \r\n",
    "\r\n",
    "# Code goes below\r\n",
    "df=df.drop(columns=['temperaturemin','temperaturemax'])\r\n",
    "\r\n",
    "# Print the head of the data\r\n",
    "\r\n",
    "df.head()"
   ],
   "outputs": [
    {
     "output_type": "execute_result",
     "data": {
      "text/html": [
       "<div>\n",
       "<style scoped>\n",
       "    .dataframe tbody tr th:only-of-type {\n",
       "        vertical-align: middle;\n",
       "    }\n",
       "\n",
       "    .dataframe tbody tr th {\n",
       "        vertical-align: top;\n",
       "    }\n",
       "\n",
       "    .dataframe thead th {\n",
       "        text-align: right;\n",
       "    }\n",
       "</style>\n",
       "<table border=\"1\" class=\"dataframe\">\n",
       "  <thead>\n",
       "    <tr style=\"text-align: right;\">\n",
       "      <th></th>\n",
       "      <th>date</th>\n",
       "      <th>precipitation</th>\n",
       "      <th>snowfall</th>\n",
       "      <th>snowdepth</th>\n",
       "      <th>avgwindspeed</th>\n",
       "      <th>weather</th>\n",
       "      <th>avgtemperature</th>\n",
       "    </tr>\n",
       "  </thead>\n",
       "  <tbody>\n",
       "    <tr>\n",
       "      <th>0</th>\n",
       "      <td>2009-01-02</td>\n",
       "      <td>0.05</td>\n",
       "      <td>0.0</td>\n",
       "      <td>0.0</td>\n",
       "      <td>6.26</td>\n",
       "      <td>fog</td>\n",
       "      <td>34.5</td>\n",
       "    </tr>\n",
       "    <tr>\n",
       "      <th>2</th>\n",
       "      <td>2009-01-18</td>\n",
       "      <td>0.00</td>\n",
       "      <td>0.0</td>\n",
       "      <td>0.0</td>\n",
       "      <td>10.51</td>\n",
       "      <td>fog</td>\n",
       "      <td>36.5</td>\n",
       "    </tr>\n",
       "    <tr>\n",
       "      <th>5</th>\n",
       "      <td>2009-02-10</td>\n",
       "      <td>0.00</td>\n",
       "      <td>0.0</td>\n",
       "      <td>0.0</td>\n",
       "      <td>10.51</td>\n",
       "      <td>fog</td>\n",
       "      <td>60.5</td>\n",
       "    </tr>\n",
       "    <tr>\n",
       "      <th>9</th>\n",
       "      <td>2009-02-19</td>\n",
       "      <td>0.00</td>\n",
       "      <td>0.0</td>\n",
       "      <td>0.0</td>\n",
       "      <td>10.29</td>\n",
       "      <td>fog</td>\n",
       "      <td>46.0</td>\n",
       "    </tr>\n",
       "    <tr>\n",
       "      <th>11</th>\n",
       "      <td>2009-03-01</td>\n",
       "      <td>1.38</td>\n",
       "      <td>0.0</td>\n",
       "      <td>0.0</td>\n",
       "      <td>12.75</td>\n",
       "      <td>fog</td>\n",
       "      <td>36.5</td>\n",
       "    </tr>\n",
       "  </tbody>\n",
       "</table>\n",
       "</div>"
      ],
      "text/plain": [
       "          date  precipitation  snowfall  snowdepth  avgwindspeed weather  \\\n",
       "0   2009-01-02           0.05       0.0        0.0          6.26     fog   \n",
       "2   2009-01-18           0.00       0.0        0.0         10.51     fog   \n",
       "5   2009-02-10           0.00       0.0        0.0         10.51     fog   \n",
       "9   2009-02-19           0.00       0.0        0.0         10.29     fog   \n",
       "11  2009-03-01           1.38       0.0        0.0         12.75     fog   \n",
       "\n",
       "    avgtemperature  \n",
       "0             34.5  \n",
       "2             36.5  \n",
       "5             60.5  \n",
       "9             46.0  \n",
       "11            36.5  "
      ]
     },
     "metadata": {},
     "execution_count": 56
    }
   ],
   "metadata": {
    "id": "nhVYFFNmVEQQ"
   }
  },
  {
   "cell_type": "markdown",
   "source": [
    "**Q6** Write the code below so that \r\n",
    "1. calculate average of all the 'avgtemperature' in resulting A5 df\r\n",
    "   * **Note you can calculate average like this : df['columname'].mean() or df.columname.mean()**) \r\n",
    "2. Add a new column called as 'avgtemperature_comaprision'\r\n",
    "  * Note: if 'avgtemperature' is less than 'avgtemp' fill with 'less than global average', and if it is greater fill with 'more than global average'  \r\n",
    "3. Now save the dataset without index, give a name 'weather.csv'\r\n",
    "**A6** Write code in the cell below\r\n"
   ],
   "metadata": {}
  },
  {
   "cell_type": "code",
   "execution_count": 64,
   "source": [
    "#A6 Task1\r\n",
    "\r\n",
    "# Code goes below\r\n",
    "avgtemp =  df['avgtemperature'].mean()\r\n",
    "print(\"The AVG temp is: \",avgtemp)\r\n",
    "#A6 Task2:\r\n",
    "\r\n",
    "\r\n",
    "# Code goes below\r\n",
    "df['avgtemperature_comaprision'] = df.avgtemperature.apply(lambda x:'less than global average' if x <avgtemp else 'more than global average')\r\n",
    "\r\n",
    "\r\n",
    "# Print head of your data\r\n",
    "df.head(10)\r\n",
    "\r\n",
    "#A6 Task3:\r\n",
    "\r\n",
    "# Your code goes here\r\n",
    "\r\n",
    "df.to_csv('weather.csv', index = None) \r\n"
   ],
   "outputs": [
    {
     "output_type": "stream",
     "name": "stdout",
     "text": [
      "The AVG temp is:  63.648313384113166\n"
     ]
    }
   ],
   "metadata": {
    "id": "cSQjh29JewKN"
   }
  },
  {
   "cell_type": "markdown",
   "source": [],
   "metadata": {
    "id": "zzDNDKaapweg"
   }
  },
  {
   "cell_type": "markdown",
   "source": [
    "## Visualization\n",
    "[Matplotlib](https://matplotlib.org/tutorials/index.html) and [Seaborn](https://seaborn.pydata.org/examples/index.html) are popular and very useful visualization libraries. "
   ],
   "metadata": {}
  },
  {
   "cell_type": "code",
   "execution_count": 76,
   "source": [
    "import seaborn as sns\r\n",
    "# Load an example dataset\r\n",
    "tips = sns.load_dataset(\"tips\")\r\n"
   ],
   "outputs": [],
   "metadata": {}
  },
  {
   "cell_type": "code",
   "execution_count": 77,
   "source": [
    "# Create a visualization\r\n",
    "sns.relplot(\r\n",
    "    data=tips,\r\n",
    "    x=\"total_bill\", y=\"tip\", col=\"time\",\r\n",
    "    hue=\"smoker\", style=\"smoker\", size=\"size\",\r\n",
    ")"
   ],
   "outputs": [
    {
     "output_type": "execute_result",
     "data": {
      "text/plain": [
       "<seaborn.axisgrid.FacetGrid at 0xd64f8c6a90>"
      ]
     },
     "metadata": {},
     "execution_count": 77
    },
    {
     "output_type": "display_data",
     "data": {
      "image/png": "[encoded data removed]",
      "text/plain": [
       "<Figure size 772.5x360 with 2 Axes>"
      ]
     },
     "metadata": {
      "needs_background": "light"
     }
    }
   ],
   "metadata": {}
  },
  {
   "cell_type": "code",
   "execution_count": 78,
   "source": [
    "tips.head(5)"
   ],
   "outputs": [
    {
     "output_type": "execute_result",
     "data": {
      "text/html": [
       "<div>\n",
       "<style scoped>\n",
       "    .dataframe tbody tr th:only-of-type {\n",
       "        vertical-align: middle;\n",
       "    }\n",
       "\n",
       "    .dataframe tbody tr th {\n",
       "        vertical-align: top;\n",
       "    }\n",
       "\n",
       "    .dataframe thead th {\n",
       "        text-align: right;\n",
       "    }\n",
       "</style>\n",
       "<table border=\"1\" class=\"dataframe\">\n",
       "  <thead>\n",
       "    <tr style=\"text-align: right;\">\n",
       "      <th></th>\n",
       "      <th>total_bill</th>\n",
       "      <th>tip</th>\n",
       "      <th>sex</th>\n",
       "      <th>smoker</th>\n",
       "      <th>day</th>\n",
       "      <th>time</th>\n",
       "      <th>size</th>\n",
       "    </tr>\n",
       "  </thead>\n",
       "  <tbody>\n",
       "    <tr>\n",
       "      <th>0</th>\n",
       "      <td>16.99</td>\n",
       "      <td>1.01</td>\n",
       "      <td>Female</td>\n",
       "      <td>No</td>\n",
       "      <td>Sun</td>\n",
       "      <td>Dinner</td>\n",
       "      <td>2</td>\n",
       "    </tr>\n",
       "    <tr>\n",
       "      <th>1</th>\n",
       "      <td>10.34</td>\n",
       "      <td>1.66</td>\n",
       "      <td>Male</td>\n",
       "      <td>No</td>\n",
       "      <td>Sun</td>\n",
       "      <td>Dinner</td>\n",
       "      <td>3</td>\n",
       "    </tr>\n",
       "    <tr>\n",
       "      <th>2</th>\n",
       "      <td>21.01</td>\n",
       "      <td>3.50</td>\n",
       "      <td>Male</td>\n",
       "      <td>No</td>\n",
       "      <td>Sun</td>\n",
       "      <td>Dinner</td>\n",
       "      <td>3</td>\n",
       "    </tr>\n",
       "    <tr>\n",
       "      <th>3</th>\n",
       "      <td>23.68</td>\n",
       "      <td>3.31</td>\n",
       "      <td>Male</td>\n",
       "      <td>No</td>\n",
       "      <td>Sun</td>\n",
       "      <td>Dinner</td>\n",
       "      <td>2</td>\n",
       "    </tr>\n",
       "    <tr>\n",
       "      <th>4</th>\n",
       "      <td>24.59</td>\n",
       "      <td>3.61</td>\n",
       "      <td>Female</td>\n",
       "      <td>No</td>\n",
       "      <td>Sun</td>\n",
       "      <td>Dinner</td>\n",
       "      <td>4</td>\n",
       "    </tr>\n",
       "  </tbody>\n",
       "</table>\n",
       "</div>"
      ],
      "text/plain": [
       "   total_bill   tip     sex smoker  day    time  size\n",
       "0       16.99  1.01  Female     No  Sun  Dinner     2\n",
       "1       10.34  1.66    Male     No  Sun  Dinner     3\n",
       "2       21.01  3.50    Male     No  Sun  Dinner     3\n",
       "3       23.68  3.31    Male     No  Sun  Dinner     2\n",
       "4       24.59  3.61  Female     No  Sun  Dinner     4"
      ]
     },
     "metadata": {},
     "execution_count": 78
    }
   ],
   "metadata": {}
  },
  {
   "cell_type": "markdown",
   "source": [
    "**Q7**  Use sns.catplot() to visualize the relation between total_bill and sex.\n",
    "* The x-axis will represent sex\n",
    "* The y-axis will represent the total_bill. \n",
    "\n",
    "**A7** Fill in the code cell below "
   ],
   "metadata": {}
  },
  {
   "cell_type": "code",
   "execution_count": 92,
   "source": [
    "#your code goes here\r\n",
    "sns.catplot(data=tips,x='sex',y='total_bill', kind='bar')"
   ],
   "outputs": [
    {
     "output_type": "execute_result",
     "data": {
      "text/plain": [
       "<seaborn.axisgrid.FacetGrid at 0xd64f827370>"
      ]
     },
     "metadata": {},
     "execution_count": 92
    },
    {
     "output_type": "display_data",
     "data": {
      "image/png": "[encoded data removed]",
      "text/plain": [
       "<Figure size 360x360 with 1 Axes>"
      ]
     },
     "metadata": {
      "needs_background": "light"
     }
    }
   ],
   "metadata": {}
  },
  {
   "cell_type": "markdown",
   "source": [
    "**Q8**  Use sns.scatterplot() to visualize the relation between total_bill and tip.      \n",
    "* The x-axis will represent total_bill\n",
    "* The y-axis will represent the tip. \n",
    "\n",
    "**A8** below"
   ],
   "metadata": {}
  },
  {
   "cell_type": "code",
   "execution_count": 93,
   "source": [
    "#your code goes here\r\n",
    "graph=sns.scatterplot(x='total_bill',y='tip',data=tips)\r\n",
    "graph.set_title(\"Total Bill Vs. Tips\")"
   ],
   "outputs": [
    {
     "output_type": "execute_result",
     "data": {
      "text/plain": [
       "Text(0.5, 1.0, 'Total Bill Vs. Tips')"
      ]
     },
     "metadata": {},
     "execution_count": 93
    },
    {
     "output_type": "display_data",
     "data": {
      "image/png": "[encoded data removed]",
      "text/plain": [
       "<Figure size 432x288 with 1 Axes>"
      ]
     },
     "metadata": {
      "needs_background": "light"
     }
    }
   ],
   "metadata": {}
  }
 ],
 "metadata": {
  "colab": {
   "collapsed_sections": [],
   "name": "Copy of CS4347-Assignment1-NETID.ipynb",
   "provenance": [
    {
     "file_id": "17Tyt4dPvaHVqT4YhMoxzUwmbICB28X1e",
     "timestamp": 1629391456683
    },
    {
     "file_id": "1BYuCZsD2__tu6Cu1XQsznqbPDsrA1AKl",
     "timestamp": 1611018721283
    },
    {
     "file_id": "14GkPT3sq1sq-_GzehImm9x5AFkzci-bn",
     "timestamp": 1580191220212
    },
    {
     "file_id": "1tr7-Boh7ABQq2FmhitCIDL87lkp6GWbt",
     "timestamp": 1580013441980
    }
   ]
  },
  "interpreter": {
   "hash": "16b88d1544610203bb70d520ead802a3025078c96a9e1f003faf94069083abfd"
  },
  "kernelspec": {
   "name": "python3",
   "display_name": "Python 3.8.3 64-bit"
  },
  "language_info": {
   "codemirror_mode": {
    "name": "ipython",
    "version": 3
   },
   "file_extension": ".py",
   "mimetype": "text/x-python",
   "name": "python",
   "nbconvert_exporter": "python",
   "pygments_lexer": "ipython3",
   "version": "3.8.3"
  }
 },
 "nbformat": 4,
 "nbformat_minor": 2
}